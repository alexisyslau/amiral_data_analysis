{
 "cells": [
  {
   "cell_type": "code",
   "execution_count": null,
   "metadata": {},
   "outputs": [],
   "source": [
    "# Import library\n",
    "\n",
    "# Packages required\n",
    "import numpy as np\n",
    "import matplotlib.pyplot as plt\n",
    "from matplotlib import rcParams\n",
    "from astropy.io import fits\n",
    "import os\n",
    "from deconvbench import Deconvbench\n",
    "from mpl_toolkits.axes_grid1 import make_axes_locatable\n",
    "from amiral import instructment, utils, parameter, gradient, minimisation, array, plotting\n",
    "from amiral.plotting import plotting_PSF_PSD as amiral_plt\n",
    "\n",
    "# from plotting import plot_PSF_PSD as amiral_plt\n",
    "from scipy.optimize import minimize \n",
    "from maoppy.utils import binning\n",
    "import maoppy\n",
    "\n",
    "%matplotlib inline\n",
    "\n",
    "import tools\n",
    "\n",
    "rcParams[\"figure.figsize\"] = 20,33"
   ]
  },
  {
   "cell_type": "code",
   "execution_count": null,
   "metadata": {},
   "outputs": [],
   "source": [
    "# Function for getting snr\n",
    "def get_snr (array, noise):\n",
    "    \n",
    "    mean = np.mean(array)\n",
    "    sig2 = np.std(noise)\n",
    "    \n",
    "    snr = mean / sig2\n",
    "    \n",
    "    return snr\n",
    "\n",
    "def psd_object (param):\n",
    "    \n",
    "    rho = np.fft.fftshift(utils.dist(768))/param[1]\n",
    "    psd_obj =  param[0]/ (np.power(rho,param[2]) + 1.)\n",
    "    \n",
    "    return psd_obj\n",
    "    \n",
    "def plot_psd_object(psd_obj): \n",
    "    \n",
    "    fig, ax = plt.subplots()\n",
    "    ycent = int((256*aosys_cls.samp_factor[0])//2)\n",
    "\n",
    "    ax.plot(np.abs(psd_obj[ycent,...]))\n",
    "    ax.set_title('PSD Object(total)')\n",
    "    ax.axhline(y=1, color = 'r', ls = '--')\n",
    "    \n",
    "    pass\n",
    "\n",
    "def create_psfao19_otf (otf_tel, guess, aosys_cls): \n",
    "    \n",
    "    # Use PSFAO19 model to create a PSF\n",
    "    psd_ao = aosys_cls.psd_residual_ao (guess = guess)\n",
    "    psd_halo = aosys_cls.psd_residual_halo(r0 = guess[0])\n",
    "    \n",
    "    psd = psd_ao + psd_halo\n",
    "\n",
    "    otf_atmo = aosys_cls.otf_atmo(psd)\n",
    "    otf_total = otf_atmo*otf_tel\n",
    "      \n",
    "    return otf_atmo,otf_total\n",
    "\n",
    "def zoom_array (array, size): \n",
    "    \n",
    "    cent = np.shape(array)\n",
    "    zoomed_array = array[cent[0]//2 - size:cent[0]//2 +size, cent[0]//2 - size:cent[0]//2 +size]\n",
    "    \n",
    "    return zoomed_array\n",
    "\n",
    "\n",
    "\n"
   ]
  },
  {
   "cell_type": "code",
   "execution_count": null,
   "metadata": {},
   "outputs": [],
   "source": [
    "# PATH\n",
    "wdir = \"/Users/alau/Data/amiral_fits/VESTA/SNR/\"\n",
    "path_asteriod = '/Users/alau/IDLWorkspace/Data/Vesta_OASIS/2018-06-08T05_27_05.809.fits'\n"
   ]
  },
  {
   "cell_type": "code",
   "execution_count": null,
   "metadata": {},
   "outputs": [],
   "source": [
    "# Parameters for the PSF\n",
    "psf_dict = {\n",
    "    \"r0\": 0.15,               \n",
    "    \"background\": 0.,\n",
    "    \"amplitude\": 2.0,\n",
    "    \"ax\": 0.05,                            \n",
    "    \"beta\": 1.5, \n",
    "    \"mu\": 0., \n",
    "    \"rho0\": 0., \n",
    "    \"p\": 0. \n",
    "}\n",
    "\n",
    "# Variable\n",
    "RON = 15. # CCD read-out noise standard-deviation [e-]\n",
    "FLUX = 178112394513.1226 \n",
    "DIMENSION = int(256)\n",
    "\n",
    "flux_snr = 178112394513.1226 \n",
    "print(flux_snr)\n",
    "\n",
    "# psf_dict[\"r0\"] = 0.1\n",
    "# psf_dict[\"amplitude\"] = 0.5"
   ]
  },
  {
   "cell_type": "markdown",
   "metadata": {},
   "source": [
    "Get the object from the high resolution simulation"
   ]
  },
  {
   "cell_type": "code",
   "execution_count": null,
   "metadata": {},
   "outputs": [],
   "source": [
    "data = fits.open(path_asteriod)\n",
    "asteriod = data[0].data"
   ]
  },
  {
   "cell_type": "markdown",
   "metadata": {},
   "source": [
    "Get some more ob"
   ]
  },
  {
   "cell_type": "markdown",
   "metadata": {},
   "source": [
    "We need a PSF"
   ]
  },
  {
   "cell_type": "code",
   "execution_count": null,
   "metadata": {},
   "outputs": [],
   "source": [
    "# Set up the telescope and produce a PSF\n",
    "amiral_dict = {\n",
    "    \"r0\": 0.2,                  \n",
    "    \"background\": 0.,      \n",
    "    \"amplitude\": 2.5,       \n",
    "    \"ax\": 0.05,                            \n",
    "    \"beta\": 1.5, \n",
    "    \"mu\": 0., \n",
    "    \"rho0\": 0., \n",
    "    \"p\": 3. \n",
    "}\n",
    "\n",
    "aosys_dict = {\n",
    "    'diameter': 8 , \n",
    "    'occ_ratio': 0.14 , \n",
    "    'no_acutuator' : 20, \n",
    "    'wavelength': 500, \n",
    "    'dimension': 256,\n",
    "    'resolution_rad' : 2.083e-8\n",
    "}\n",
    "\n",
    "\n",
    "# aosys_dict = {\n",
    "#     'diameter': 8 , \n",
    "#     'occ_ratio': 0.14 , \n",
    "#     'no_acutuator' : 34, \n",
    "#     'wavelength': 500, \n",
    "#     'dimension': 256,\n",
    "#     'resolution_rad' : 1.1977272727272726e-07\n",
    "# }\n",
    "\n",
    "#'resolution_rad' : 1.25e-7 3.125e-8 1.1977272727272726e-07\n",
    "\n",
    "# Passing parametpsd_arrayers from the telesope to the aosystem\n",
    "aosys_cls = instructment.aoSystem( \n",
    "        diameter = aosys_dict['diameter'], occ_ratio = aosys_dict['occ_ratio'], \n",
    "        no_acutuator= aosys_dict['no_acutuator'], wavelength = aosys_dict['wavelength']*1e-9, \n",
    "        resolution_rad = aosys_dict['resolution_rad'], \n",
    "        dimension=aosys_dict['dimension'])  \n",
    "\n",
    "\n",
    "\n",
    "\n",
    "\n",
    "psf_keys, psf_param = utils.dict2array(psf_dict)\n",
    "amiral_keys, psf_guess = utils.dict2array(amiral_dict)\n",
    "\n",
    "# Calibrating the flux\n",
    "asteriod = array.scale_array(asteriod, 3)\n",
    "asteriod_resize = asteriod/np.sum(asteriod)*flux_snr"
   ]
  },
  {
   "cell_type": "markdown",
   "metadata": {},
   "source": [
    "Add Photon noise"
   ]
  },
  {
   "cell_type": "code",
   "execution_count": null,
   "metadata": {},
   "outputs": [],
   "source": [
    "_test = aosys_cls.get_pix2freq(aosys_cls.samp_factor)\n",
    "\n",
    "\n",
    "_xy = np.mgrid[0:256*3, 0:256*3].astype(float)\n",
    "_xy[0] -= 256*3//2\n",
    "_xy[1] -= 256*3//2\n",
    "\n",
    "_fxy = _xy*_test"
   ]
  },
  {
   "cell_type": "code",
   "execution_count": null,
   "metadata": {
    "scrolled": true
   },
   "outputs": [],
   "source": [
    "rng = np.random.default_rng()\n",
    "photon_noise = rng.poisson(asteriod_resize)\n",
    "print(\"\\nPhoton Noise of the object: \", np.sum((photon_noise)))\n",
    "\n",
    "ft_photon_noise = np.fft.fftshift(np.fft.fft2(np.fft.ifftshift(photon_noise)))\n",
    "ft_obj = np.fft.fft2(np.fft.ifftshift(asteriod_resize))"
   ]
  },
  {
   "cell_type": "code",
   "execution_count": null,
   "metadata": {},
   "outputs": [],
   "source": [
    "print(psf_param)\n",
    "\n",
    "psd_ao = aosys_cls.psd_residual_ao (psf_param)\n",
    "psd_halo = aosys_cls.psd_residual_halo(psf_dict['r0'])\n",
    "\n",
    "psd = psd_halo + psd_ao \n",
    "\n",
    "pupil = aosys_cls.get_pupil_plane()\n",
    "otf_tel = aosys_cls.pupil_to_otf_tel(pupil)\n",
    "\n",
    "integral, SR = aosys_cls.psd_integral(psd_ao, psf_dict['r0'])\n",
    "\n",
    "otf_atmo = aosys_cls.otf_atmo(psd)\n",
    "\n",
    "otf_total = np.fft.ifftshift(otf_atmo * otf_tel)\n",
    "\n",
    "psf_total = np.real(np.fft.ifft2(otf_total))\n",
    "print(\"Sum of the psf : %.2f\" %(np.sum(psf_total)))\n",
    "\n",
    "psf_tel = np.real(np.fft.ifft2(np.fft.ifftshift(otf_tel)))\n",
    "print(\"Sum of the psf_tel :%.2f\" %(np.sum(psf_tel)))\n",
    "\n",
    "plt.imshow(np.real(np.log10(otf_total)))"
   ]
  },
  {
   "cell_type": "code",
   "execution_count": null,
   "metadata": {
    "scrolled": true
   },
   "outputs": [],
   "source": [
    "amiral_plt.plot_otf_slice(otf_atmo,otf_tel)"
   ]
  },
  {
   "cell_type": "code",
   "execution_count": null,
   "metadata": {},
   "outputs": [],
   "source": [
    "psf_binned = aosys_cls.psfao(otf_total)\n",
    "plt.imshow(np.fft.fftshift(np.log10(psf_binned)))\n",
    "print(np.sum(psf_binned))\n",
    "\n",
    "otf_binned = np.fft.fft2(psf_binned)\n",
    "\n",
    "plt.imshow(np.real(np.fft.fftshift(np.log10(otf_binned))))"
   ]
  },
  {
   "cell_type": "code",
   "execution_count": null,
   "metadata": {},
   "outputs": [],
   "source": [
    "psf_tel_binned = binning (psf_tel, aosys_cls.samp_factor[0])\n",
    "plt.imshow(np.log10(psf_tel_binned))\n",
    "print(\"Sum: %.2f\" %(np.sum(psf_tel_binned)))"
   ]
  },
  {
   "cell_type": "code",
   "execution_count": null,
   "metadata": {},
   "outputs": [],
   "source": [
    "plt.imshow(np.real(np.log10(ft_obj)))"
   ]
  },
  {
   "cell_type": "markdown",
   "metadata": {},
   "source": [
    "Get the convoloved object for the additive noise model."
   ]
  },
  {
   "cell_type": "code",
   "execution_count": null,
   "metadata": {},
   "outputs": [],
   "source": [
    "# ft_conv_obj = np.fft.fftshift(ft_obj)*np.fft.fftshift(otf_binned)\n",
    "\n",
    "# conv_obj = np.real(np.fft.ifft2(np.fft.ifftshift(ft_conv_obj)))\n",
    "\n",
    "\n",
    "# rcParams['figure.figsize'] = 13 ,11\n",
    "\n",
    "# fig, ax = plt.subplots(1,2)\n",
    "# fig.tight_layout(pad=0.4, w_pad=0.6, h_pad=4.0)\n",
    "# ax[0].imshow(np.real(np.log10(ft_conv_obj)))\n",
    "# ax[1].imshow(np.real(np.log10(np.fft.fftshift(conv_obj))))\n",
    "\n",
    "# print(\"Flux of the convoloved object: %f \" %(np.sum(conv_obj)))"
   ]
  },
  {
   "cell_type": "markdown",
   "metadata": {},
   "source": [
    "Calculate the noise and simulate realistic observation"
   ]
  },
  {
   "cell_type": "code",
   "execution_count": null,
   "metadata": {},
   "outputs": [],
   "source": [
    "# rng = np.random.default_rng()\n",
    "# photon_noise = rng.poisson(np.fft.fftshift(conv_obj))\n",
    "\n",
    "# print(\"\\nPhoton Noise of the object: \", np.sum((photon_noise)))\n",
    "\n",
    "# gauss_noise = np.random.randn(DIMENSION,DIMENSION)*RON\n",
    "\n",
    "# print(\"\\nGaussian Noise of the object: \", np.sum((gauss_noise)))\n",
    "\n",
    "# noise = gauss_noise + photon_noise\n",
    "\n",
    "# fig, ax = plt.subplots(1,2)\n",
    "# fig.tight_layout(pad=0.4, w_pad=0.6, h_pad=4.0)\n",
    "# ax[0].imshow(photon_noise)\n",
    "# ax[1].imshow(gauss_noise)"
   ]
  },
  {
   "cell_type": "markdown",
   "metadata": {},
   "source": [
    "We are interested in SNR but I have no idea how to get it for now ..."
   ]
  },
  {
   "cell_type": "code",
   "execution_count": null,
   "metadata": {},
   "outputs": [],
   "source": [
    "# # obs_image = noise + _obj\n",
    "# obs_image = np.fft.fftshift(conv_obj) + noise\n",
    "\n",
    "# # obs_image = conv_obj \n",
    "\n",
    "# empty_arr = np.zeros((DIMENSION,DIMENSION))+1.\n",
    "\n",
    "# psd_noise = np.abs(np.fft.fftshift(np.fft.fft2(noise)))**2\n",
    "# psd_asteroid = np.abs(np.fft.fftshift(np.fft.fft2(obs_image)))**2\n",
    "\n",
    "# snr = psd_asteroid/psd_noise\n",
    "\n",
    "# # est_obj = tools.wiener_filter(np.fft.fft2(obs_image),otf_total, snr)\n",
    "\n",
    "# # fig, ax = plt.subplots(1,2)\n",
    "\n",
    "# # rcParams['figure.figsize'] = 33 ,24\n",
    "\n",
    "# # im = ax[0].imshow(np.log10(snr))\n",
    "# # fig.colorbar(im, ax=ax[0])\n",
    "\n",
    "# # im1 = ax[1].imshow(np.real(np.log10(est_obj)))\n",
    "# # fig.colorbar(im1, ax=ax[1])\n",
    "\n",
    "# plt.imshow(np.real(obs_image))"
   ]
  },
  {
   "cell_type": "markdown",
   "metadata": {},
   "source": [
    "Get simulated object and see the noise too"
   ]
  },
  {
   "cell_type": "code",
   "execution_count": null,
   "metadata": {},
   "outputs": [],
   "source": [
    "# img = obs_image\n",
    "\n",
    "wdir = \"/Users/alau/Data/amiral_fits/VESTA/SNR/2021apr23/case_9/\"\n",
    "output = \"2018-06-08T05_27_05.809_199.fits\"\n",
    "\n",
    "# noise_output = \"2018-06-08T05_27_05.809_noise_90.fits\"\n",
    "\n",
    "_data = fits.open(wdir+output)\n",
    "data = _data[0].data\n",
    "\n",
    "print(_data[0].header)\n",
    "\n",
    "# _noise_data = fits.open(wdir+noise_output)\n",
    "# _noise_data = _noise_data[0].data\n",
    "\n",
    "# img = _data\n",
    "img = data\n",
    "\n",
    "obs_image = img\n",
    "# noise = _noise_data\n",
    "\n",
    "amiralparam = parameter.amiralParam(img ,guess = psf_guess, aosys = aosys_cls)\n",
    "\n",
    "# k_hat = (1e6**2)\n",
    "# psd_noise = np.sum(np.abs(noise)**2)\n",
    "\n",
    "# mu = psd_noise / k_hat\n",
    "\n",
    "plt.imshow(zoom_array(data, 150), cmap = 'gray')"
   ]
  },
  {
   "cell_type": "code",
   "execution_count": null,
   "metadata": {
    "scrolled": true
   },
   "outputs": [],
   "source": [
    "# fig, ax = plt.subplots(2,2)\n",
    "\n",
    "# rcParams['figure.figsize'] = 33 ,24\n",
    "# divider = make_axes_locatable(ax[0,0])\n",
    "# cax = divider.append_axes(\"right\", size=\"5%\", pad=0.05)\n",
    "# im = ax[0,0].imshow(asteriod_resize)\n",
    "# fig.colorbar(im,cax ,ax=ax[0,0])\n",
    "# ax[0,0].set_title('Object\\nFlux [e-]: %f' %(np.sum(asteriod_resize)), fontsize = '16')\n",
    "\n",
    "# divider = make_axes_locatable(ax[0,1])\n",
    "# cax = divider.append_axes(\"right\", size=\"5%\", pad=0.05)\n",
    "# im1 = ax[0,1].imshow(noise)\n",
    "# fig.colorbar(im1,cax ,ax=ax[0,0])\n",
    "# ax[0,1].set_title('Sum of the noise\\nFlux [e-]: %f' %(np.sum(noise)), fontsize = '16')\n",
    "\n",
    "# divider = make_axes_locatable(ax[1,0])\n",
    "# cax = divider.append_axes(\"right\", size=\"5%\", pad=0.05)\n",
    "# im2 = ax[1,0].imshow(img)\n",
    "# fig.colorbar(im2,cax ,ax=ax[1,0])\n",
    "# ax[1,0].set_title('Observed image\\nFlux[e-]: %f' %(np.sum(img)), fontsize = '16')\n",
    "\n",
    "# divider = make_axes_locatable(ax[1,1])\n",
    "# cax = divider.append_axes(\"right\", size=\"5%\", pad=0.05)\n",
    "# im3 = ax[1,1].imshow(img-np.fft.fftshift(conv_obj)-noise)\n",
    "# fig.colorbar(im3,cax ,ax=ax[1,0])\n",
    "# ax[1,1].set_title('Residual\\nFlux[e-] Difference: %f %%' %(100*np.sum(img-conv_obj-noise)/np.sum(asteriod_resize)), fontsize = '16')\n"
   ]
  },
  {
   "cell_type": "code",
   "execution_count": null,
   "metadata": {
    "scrolled": true
   },
   "outputs": [],
   "source": [
    "# fig, ax = plt.subplots(2,2)\n",
    "\n",
    "# rcParams['figure.figsize'] = 33 ,24\n",
    "# divider = make_axes_locatable(ax[0,0])\n",
    "# cax = divider.append_axes(\"right\", size=\"5%\", pad=0.05)\n",
    "# im = ax[0,0].imshow(asteriod_resize)\n",
    "# fig.colorbar(im,cax ,ax=ax[0,0])\n",
    "# ax[0,0].set_title('Object\\nFlux [e-]: %f' %(np.sum(asteriod_resize)), fontsize = '16')\n",
    "\n",
    "# divider = make_axes_locatable(ax[0,1])\n",
    "# cax = divider.append_axes(\"right\", size=\"5%\", pad=0.05)\n",
    "# im1 = ax[0,1].imshow(noise)\n",
    "# fig.colorbar(im1,cax ,ax=ax[0,0])\n",
    "# ax[0,1].set_title('Sum of the noise\\nFlux [e-]: %f' %(np.sum(noise)), fontsize = '16')\n",
    "\n",
    "# divider = make_axes_locatable(ax[1,0])\n",
    "# cax = divider.append_axes(\"right\", size=\"5%\", pad=0.05)\n",
    "# im2 = ax[1,0].imshow(img)\n",
    "# fig.colorbar(im2,cax ,ax=ax[1,0])\n",
    "# ax[1,0].set_title('Observed image\\nFlux[e-]: %f' %(np.sum(img)), fontsize = '16')\n",
    "\n",
    "# divider = make_axes_locatable(ax[1,1])\n",
    "# cax = divider.append_axes(\"right\", size=\"5%\", pad=0.05)\n",
    "# im3 = ax[1,1].imshow(img-np.fft.fftshift(conv_obj)-noise)\n",
    "# fig.colorbar(im3,cax ,ax=ax[1,0])\n",
    "# ax[1,1].set_title('Residual\\nFlux[e-] Difference: %f %%' %(100*np.sum(img-conv_obj-noise)/np.sum(asteriod_resize)), fontsize = '16')\n"
   ]
  },
  {
   "cell_type": "code",
   "execution_count": null,
   "metadata": {
    "scrolled": true
   },
   "outputs": [],
   "source": [
    "# What variables to be minimised\n",
    "param_mask = np.asarray([1,0,1,0,0])\n",
    "hyper_param_mask = np.asarray([1,1,0])\n",
    "\n",
    "mask = np.concatenate((param_mask,hyper_param_mask))\n",
    "\n",
    "from deconvbench.stat import DSPFit, Circmoyto2D\n",
    "from deconvbench import RegulPSD\n",
    "\n",
    "# rho, psd_param, _, psd1d = DSPFit(obs_image)\n",
    "\n",
    "# # psd_param = K, rho0, p\n",
    "\n",
    "# plt.imshow(obs_image)\n",
    "# psd1 = Circmoyto2D(rho,psd1d,obs_image.shape[0])\n",
    "\n",
    "# hyper_guess = psd_param\n",
    "# print(\"PSD param: \",hyper_guess)\n",
    "\n",
    "# dspb = np.sum(np.abs(np.fft.fft2(noise))**2)\n",
    "# mu = dspb/psd_param[0]\n",
    "\n",
    "# print(\"What is mu?\", mu)\n",
    "\n",
    "hyper_guess = amiralparam.hyperparam_initial(psf_guess)\n",
    "# amiralparam.hyperparam_initial(psf_guess)\n",
    "# print(hyper_guess)\n",
    "hyper_min, hyper_max = amiralparam.hyperparam_bound(psf_guess, p_upperbound = 100.)\n",
    "print(hyper_min,hyper_max)\n",
    "\n",
    "psf_guess[-3] = hyper_guess[0]\n",
    "psf_guess[-2] = hyper_guess[1] \n",
    "psf_guess[-1] = hyper_guess[2] \n",
    "\n",
    "\n",
    "# psf_guess[-3] = mu\n",
    "# psf_guess[-1] = 2.91\n",
    "# psf_guess[-2] = 1.32*()\n",
    "\n",
    "\n",
    "# psf_guess[-3] = 2.01197235e-08 \n",
    "# psf_guess[-2] = 0.82*(DIMENSION)/512\n",
    "# psf_guess[-1] = 2.91\n",
    "\n",
    "param_min = np.asarray([0.05,0,0,1e-8,1.01])\n",
    "param_max =  np.asarray([1.,1e8,1e8,1e3,10])\n",
    "\n",
    "upperbound = np.concatenate((param_max, hyper_max))\n",
    "lowerbound = np.concatenate((param_min, hyper_min))\n",
    "\n",
    "param_numerical_condition = np.array([1., 1e-4, 1., 1., 1.])\n",
    "hyperparam_numerical_condition = np.array([hyper_guess[0], hyper_guess[1], 1.])\n",
    "\n",
    "numerical_condition = np.concatenate((param_numerical_condition, hyperparam_numerical_condition))\n",
    "\n",
    "amiral_cls = parameter.amiral(img=img, guess=psf_guess, aosys = aosys_cls, upperbound = upperbound, lowerbound= lowerbound, numerical_condition = numerical_condition, fourier_variable = amiralparam.fourier_variable, mask = mask)"
   ]
  },
  {
   "cell_type": "code",
   "execution_count": null,
   "metadata": {},
   "outputs": [],
   "source": [
    "# amiralparam.fourier_variable"
   ]
  },
  {
   "cell_type": "code",
   "execution_count": null,
   "metadata": {},
   "outputs": [],
   "source": [
    "np.shape(amiralparam.fourier_variable['ft(psf)'])"
   ]
  },
  {
   "cell_type": "code",
   "execution_count": null,
   "metadata": {},
   "outputs": [],
   "source": [
    "psf_guess"
   ]
  },
  {
   "cell_type": "code",
   "execution_count": null,
   "metadata": {
    "scrolled": true
   },
   "outputs": [],
   "source": [
    "est_criterion, value_criterion, value_grad = amiral_cls.minimisation(psf_guess)"
   ]
  },
  {
   "cell_type": "code",
   "execution_count": null,
   "metadata": {},
   "outputs": [],
   "source": [
    "print(est_criterion)"
   ]
  },
  {
   "cell_type": "code",
   "execution_count": null,
   "metadata": {},
   "outputs": [],
   "source": [
    "est_otf_atmo, est_otf = create_psfao19_otf(otf_tel, est_criterion[0:5], aosys_cls)\n",
    "# est_psf = np.fft.fftshift(binning(np.fft.fftshift(np.real(np.fft.ifft2(np.fft.ifftshift(est_otf)))), aosys_cls.samp_factor[0]))\n",
    "est_psf = np.fft.fftshift(np.fft.fftshift(np.real(np.fft.ifft2(np.fft.ifftshift(est_otf)))))\n",
    "\n",
    "plt.imshow(np.log10(psf_total))"
   ]
  },
  {
   "cell_type": "code",
   "execution_count": null,
   "metadata": {},
   "outputs": [],
   "source": [
    "binned_psf_tel = binning(np.real(psf_tel), aosys_cls.samp_factor[0])\n",
    "\n",
    "est_SR = np.max(np.real(est_psf)) / np.max(np.real(psf_tel))\n",
    "\n",
    "print(np.sum(est_psf), np.sum(binned_psf_tel))\n",
    "\n",
    "SR = np.max(psf_binned) / np.max(binned_psf_tel)\n",
    "\n",
    "print(SR)"
   ]
  },
  {
   "cell_type": "code",
   "execution_count": null,
   "metadata": {},
   "outputs": [],
   "source": [
    "diff_SR = np.real(est_SR-SR)*100\n",
    "print(diff_SR)"
   ]
  },
  {
   "cell_type": "code",
   "execution_count": null,
   "metadata": {},
   "outputs": [],
   "source": [
    "est_SR"
   ]
  },
  {
   "cell_type": "code",
   "execution_count": null,
   "metadata": {},
   "outputs": [],
   "source": [
    "np.max(np.real(est_psf)) / np.max(np.real(binned_psf_tel))"
   ]
  },
  {
   "cell_type": "code",
   "execution_count": null,
   "metadata": {},
   "outputs": [],
   "source": [
    "np.sum(est_psf) - np.sum(psf_binned)"
   ]
  },
  {
   "cell_type": "code",
   "execution_count": null,
   "metadata": {},
   "outputs": [],
   "source": [
    "# est_psf = np.real(np.fft.ifft2(np.fft.ifftshift(est_otf_total)))"
   ]
  },
  {
   "cell_type": "markdown",
   "metadata": {},
   "source": [
    "Intake the estimated criterion for plotting the PSF"
   ]
  },
  {
   "cell_type": "code",
   "execution_count": null,
   "metadata": {},
   "outputs": [],
   "source": [
    "est_param = est_criterion[0:5]\n",
    "est_otf_atmo, est_otf_total = create_psfao19_otf(otf_tel,est_param,aosys_cls)\n",
    "\n",
    "from amiral.plotting import plotting_PSF_PSD\n",
    "# Plot the PSF slice\n",
    "rcParams['figure.figsize'] = 11,9\n",
    "\n",
    "ycent = int((est_psf.shape[0]//2))\n",
    "    \n",
    "fig, ax = plt.subplots()\n",
    "ax.set_title(r\"PSF Estimation (with noise)$\\mathrm{ \\{r_0, sig^2, mu, \\rho_0 \\}}$\"\n",
    "             \"\\nSR Error: %.2f %%\\nFlux[e-]: %.2E\" %(diff_SR,flux_snr),fontsize = 18)\n",
    "ax.set_xscale('log')\n",
    "ax.set_yscale('log')\n",
    "ax.set_ylabel(r'$\\mathrm{Mean Intensity [e^-]}$', fontsize = 18)\n",
    "ax.set_xlabel(r'$\\mathrm{Position [pixel]}$', fontsize = 18)\n",
    "# ax.plot(utils.mean_cir_array(np.real(psf_total)), label = \"True\")\n",
    "# ax.plot(utils.mean_cir_array(np.real(est_psf)), label = \"Estimated PSF\")\n",
    "ax.plot(((psf_total)[ycent, ycent:]), label = \"True\")\n",
    "ax.plot(((est_psf)[ycent, ycent:]),label = \"Estimated PSF\")\n",
    "\n",
    "# ax.plot(utils.mean_cir_array(np.real(psf_total)), label = \"True\")\n",
    "# ax.plot(utils.mean_cir_array(np.real(est_psf)), label = \"Estimated PSF\")\n",
    "\n",
    "ax.tick_params(axis='both', which='major', labelsize=18)\n",
    "ax.legend()\n",
    "\n",
    "# fig.savefig('/Users/alau/Data/amiral_fits/VESTA/SNR/2021apr06/deconv/VESTA_PSF_Estimation.pdf')\n"
   ]
  },
  {
   "cell_type": "code",
   "execution_count": null,
   "metadata": {},
   "outputs": [],
   "source": [
    "est_param = est_criterion[0:5]\n",
    "est_otf_atmo, est_otf_total = create_psfao19_otf(otf_tel,est_param,aosys_cls)\n",
    "\n",
    "from amiral.plotting import plotting_PSF_PSD\n",
    "# Plot the PSF slice\n",
    "rcParams['figure.figsize'] = 11,9\n",
    "\n",
    "ycent = int((psf_total.shape[0]//2))\n",
    "    \n",
    "fig, ax = plt.subplots()\n",
    "ax.set_title(r\"OTF Estimation (with noise)$\\mathrm{ \\{r_0, sig^2, mu, \\rho_0 \\}}$\"\n",
    "             \"\\nSR Error: %.2f %%\\nFlux[e-]: %.2E\" %(diff_SR,flux_snr),fontsize = 18)\n",
    "ax.set_xscale('log')\n",
    "# ax.set_yscale('log')\n",
    "# ax.set_xlim(0)\n",
    "ax.set_ylabel(r'$\\mathrm{Intensity}$', fontsize = 18)\n",
    "ax.set_xlabel(r'$\\mathrm{Frequency}$', fontsize = 18)\n",
    "\n",
    "\n",
    "\n",
    "ax.plot((np.abs(np.fft.fftshift(otf_total))[ycent, ycent:]), label = \"True\")\n",
    "ax.plot(np.abs(est_otf_total)[ycent, ycent:],label = \"Estimated\")\n",
    "\n",
    "\n",
    "# ax.plot(utils.circavg(np.abs(np.fft.fftshift(otf_total))))\n",
    "# ax.plot(utils.circavg(np.abs(est_otf_total)), label = \"Estimated\")\n",
    "ax.tick_params(axis='both', which='major', labelsize=18)\n",
    "ax.legend()\n",
    "\n",
    "# fig.savefig('/Users/alau/Data/amiral_fits/VESTA/SNR/2021apr06/deconv/VESTA_PSF_Estimation.pdf')\n",
    "\n"
   ]
  },
  {
   "cell_type": "code",
   "execution_count": null,
   "metadata": {},
   "outputs": [],
   "source": [
    "plt.plot(np.abs(np.fft.fftshift(otf_total))[ycent, ycent:])\n",
    "plt.plot(np.abs(est_otf_total)[ycent, ycent:])\n",
    "\n",
    "\n",
    "print(np.max(np.abs(est_otf_total)))"
   ]
  },
  {
   "cell_type": "code",
   "execution_count": null,
   "metadata": {},
   "outputs": [],
   "source": [
    "plt.imshow(np.real(np.log10(np.fft.fftshift(est_otf_total))))"
   ]
  },
  {
   "cell_type": "code",
   "execution_count": null,
   "metadata": {},
   "outputs": [],
   "source": []
  },
  {
   "cell_type": "code",
   "execution_count": null,
   "metadata": {},
   "outputs": [],
   "source": [
    "import time\n",
    "\n",
    "start_time = time.time()\n",
    "dec = Deconvbench(obs_image,est_psf,ron = 15)\n",
    "dec.verbose_modulo = 10 # print every 10 iteration\n",
    "dec.regularization.scale *= 4. # sharpen details (reduce regularization)\n",
    "estim = dec.run()\n",
    "end_time = time.time()\n",
    "runtime = end_time - start_time\n",
    "\n",
    "print(\"Run Time (mintues): \",runtime/60)\n",
    "\n",
    "# hdr = write2header (est_criterion,0.,0.,amiral_keys) \n",
    "\n",
    "# fits.writeto(\"test_vesta\"+'.fits', estim, hdr)"
   ]
  },
  {
   "cell_type": "code",
   "execution_count": null,
   "metadata": {},
   "outputs": [],
   "source": [
    "\n",
    "\n",
    "\n",
    "norm_estim = estim / np.sum(obs_image)\n",
    "\n",
    "ft_estim = np.fft.fftshift(np.fft.fft2(estim))\n",
    "ft_estim = ft_estim/np.max(ft_estim)\n",
    "\n",
    "\n",
    "\n",
    "norm_asteriod_resize = asteriod_resize / np.sum(obs_image)\n",
    "\n",
    "ft_object = np.fft.fftshift(np.fft.fft2(asteriod_resize))\n",
    "ft_object = ft_object/np.max(ft_object)\n",
    "\n",
    "norm_obs_image = obs_image / np.sum(obs_image)\n",
    "\n",
    "ft_obs_image = np.fft.fftshift(np.fft.fft2(obs_image))\n",
    "ft_obs_image = ft_obs_image/np.max(ft_obs_image)\n",
    "\n",
    "ft_est_psf = np.fft.fftshift(np.fft.fft2(est_psf))\n",
    "print(\"Sum:\",np.sum(est_psf))\n",
    "ft_psf_total = np.fft.fftshift(np.fft.fft2(psf_total))\n",
    "print(\"Sum:\",np.sum(psf_total))\n",
    "\n",
    "\n",
    "sum_img_flux = np.sum(obs_image)\n",
    "sum_est_flux = np.sum(estim)\n",
    "\n",
    "print(\"Diff %% \", 100*(np.sum(obs_image-estim))/np.sum(asteriod_resize))"
   ]
  },
  {
   "cell_type": "code",
   "execution_count": null,
   "metadata": {},
   "outputs": [],
   "source": [
    "plt.imshow(obs_image-estim, cmap = 'gray')"
   ]
  },
  {
   "cell_type": "markdown",
   "metadata": {},
   "source": [
    "Right, we have the deconvolved object now. Is the flux conserved? "
   ]
  },
  {
   "cell_type": "code",
   "execution_count": null,
   "metadata": {},
   "outputs": [],
   "source": [
    "print(\"Flux of the image [e-]: %f\" %(np.sum(obs_image)))\n",
    "print(\"Flux of the deconvolved object: %f\" %(np.sum(estim)))\n",
    "print(\"Flux difference [%%]: %f\" %(np.sum(obs_image-estim)/np.sum(obs_image)))"
   ]
  },
  {
   "cell_type": "code",
   "execution_count": null,
   "metadata": {},
   "outputs": [],
   "source": [
    "fXY = aosys_cls.fX**2 +  aosys_cls.fY**2 \n",
    "fxy = _fxy[0]**2 + _fxy[1]**2\n",
    "\n",
    "plt.imshow(fXY-fxy)"
   ]
  },
  {
   "cell_type": "code",
   "execution_count": null,
   "metadata": {},
   "outputs": [],
   "source": [
    "plt.plot(utils.mean_cir_array((np.abs(ft_obs_image)**2)))"
   ]
  },
  {
   "cell_type": "code",
   "execution_count": null,
   "metadata": {},
   "outputs": [],
   "source": [
    "plt.imshow(np.log10((np.abs(ft_estim))-(np.abs(ft_object))))\n",
    "\n",
    "print(((np.max(np.abs(ft_estim))-np.max(np.abs(ft_object)))/(np.max(np.abs(ft_object)))))"
   ]
  },
  {
   "cell_type": "code",
   "execution_count": null,
   "metadata": {},
   "outputs": [],
   "source": [
    "est_param = est_criterion[0:5]\n",
    "est_otf_atmo, est_otf_total = create_psfao19_otf(otf_tel,est_param,aosys_cls)\n",
    "\n",
    "print(utils.mean_cir_array((np.abs(ft_object)))[0],utils.mean_cir_array((np.abs(ft_obs_image)))[0],utils.mean_cir_array((np.abs(ft_estim)))[0])\n",
    "from amiral.plotting import plotting_PSF_PSD\n",
    "\n",
    "# Plot the PSF slice\n",
    "rcParams['figure.figsize'] = 11,9\n",
    "\n",
    "ycent = int((psf_total.shape[0]//2))\n",
    "    \n",
    "fig, ax = plt.subplots()\n",
    "ax.set_title(r\"|FFT(Object)|\"\n",
    "             \"\\nSR Error: %.2f %%\\nFlux[e-]: %.2E\" %(diff_SR,flux_snr),fontsize = 18)\n",
    "ax.set_xscale('log')\n",
    "ax.set_yscale('log')\n",
    "ax.set_ylabel(r'$\\mathrm{Norm_Intensity}$', fontsize = 18)\n",
    "ax.set_xlabel(r'$\\mathrm{Frequency}$', fontsize = 18)\n",
    "# ax.set_xlim(np.min(utils.mean_cir_array(fXY)),np.max(utils.mean_cir_array(fXY)))\n",
    "\n",
    "# print(fXY[ycent, ycent:]/np.max(fXY[ycent, ycent:]))\n",
    "\n",
    "\n",
    "# ax.plot(fXY[ycent, ycent:],(np.abs(ft_estim))[ycent, ycent:], label = \"Deconvolved\")\n",
    "\n",
    "\n",
    "# ax.plot(fXY[ycent, ycent:],(np.abs(ft_object))[ycent, ycent:], label = \"True\")\n",
    "\n",
    "# ax.plot(utils.mean_cir_array(fXY),utils.mean_cir_array(np.abs(ft_estim)), label = \"Estimated\")\n",
    "# ax.set_xlim(110, 120)\n",
    "\n",
    "# ax.plot(utils.mean_cir_array(np.abs(np.fft.fftshift(np.fft.fft2(est_psf)))), label = \"Estimated\")\n",
    "# ax.plot(utils.mean_cir_array(np.abs(np.fft.fftshift(np.fft.fft2(psf_total)))), label = \"True\")\n",
    "\n",
    "\n",
    "ax.plot(utils.mean_cir_array(fXY),utils.mean_cir_array((np.abs(ft_obs_image))), label = \"Observation\")\n",
    "ax.plot(utils.mean_cir_array(fXY),utils.mean_cir_array((np.abs(ft_estim))), label = \"Estimated\")\n",
    "ax.plot(utils.mean_cir_array(fXY),utils.mean_cir_array((np.abs(ft_object))), label = \"Object\")\n",
    "\n",
    "\n",
    "\n",
    "\n",
    "ax.tick_params(axis='both', which='major', labelsize=18)\n",
    "ax.legend()"
   ]
  },
  {
   "cell_type": "code",
   "execution_count": null,
   "metadata": {},
   "outputs": [],
   "source": [
    "# zoom into the array\n",
    "\n",
    "# zoom_residual = zoom_array(estim-asteriod_resize, 200)\n",
    "\n",
    "fig, ax = plt.subplots()\n",
    "rcParams['figure.figsize'] = 10 ,10\n",
    "divider = make_axes_locatable(ax)\n",
    "cax = divider.append_axes(\"right\", size=\"5%\", pad=0.05)\n",
    "im = ax.imshow((estim-asteriod_resize), cmap = 'gray')\n",
    "cbar = fig.colorbar(im, cax=cax,ax=ax)\n",
    "cbar.ax.tick_params(labelsize=14)\n",
    "ax.set_title('Residual (Estimated_PSF - True Object)\\nDiff(SR) = %.2f %%\\nFlux Difference: %.2f %%\\nr0 = %.2f cm sig2 = %.2f'\n",
    "             '\\nFlux[e-]: %.2E'%(diff_SR,np.sum(obs_image-estim)/np.sum(obs_image), 100*psf_param[0], psf_param[2], flux_snr), fontsize = 18)\n",
    "ax.tick_params(axis='both', which='major', labelsize=14)\n",
    "\n",
    "# # fig.savefig('/Users/alau/Data/amiral_fits/VESTA/SNR/2021apr06/deconv/VESTA_noise_free_residual.pdf')"
   ]
  },
  {
   "cell_type": "code",
   "execution_count": null,
   "metadata": {},
   "outputs": [],
   "source": [
    "plt.imshow(zoom_array(estim, 200))"
   ]
  },
  {
   "cell_type": "code",
   "execution_count": null,
   "metadata": {},
   "outputs": [],
   "source": [
    "import time\n",
    "\n",
    "start_time = time.time()\n",
    "\n",
    "dec = Deconvbench(obs_image,np.fft.fftshift(psf_binned),ron = 15)\n",
    "dec.verbose_modulo = 100 # print every 10 iteration\n",
    "dec.regularization.scale *= 2. # sharpen details (reduce regularization)\n",
    "estim_1 = dec.run()\n",
    "\n",
    "end_time = time.time()\n",
    "runtime = end_time - start_time\n",
    "\n",
    "print(\"Run Time (mintues): \",runtime/60)"
   ]
  },
  {
   "cell_type": "code",
   "execution_count": null,
   "metadata": {},
   "outputs": [],
   "source": [
    "perfect_deconv = estim_1\n",
    "\n",
    "zoom_diff = zoom_array(estim-perfect_deconv, 200)\n",
    "zoom_deconv = zoom_array(perfect_deconv, 200)\n",
    "\n",
    "fig, ax = plt.subplots(1,2)\n",
    "\n",
    "rcParams['figure.figsize'] = 16,19\n",
    "\n",
    "divider = make_axes_locatable(ax[0])\n",
    "cax = divider.append_axes(\"right\", size=\"5%\", pad=0.05)\n",
    "im = ax[0].imshow(perfect_deconv)\n",
    "fig.colorbar(im,cax ,ax=ax[0])\n",
    "ax[0].set_title('L2-L1 Deconvolved with the exact PSF''\\nFlux [e-]: %.2E' %(np.sum(perfect_deconv)), fontsize = 14)\n",
    "\n",
    "divider = make_axes_locatable(ax[1])\n",
    "cax = divider.append_axes(\"right\", size=\"5%\", pad=0.05)\n",
    "im1 = ax[1].imshow(perfect_deconv-estim)\n",
    "fig.colorbar(im1, cax ,ax=ax[1])\n",
    "ax[1].set_title('Residual (Estimated_PSF - True_PSF)\\nDiff(SR) = %.2f %%\\nFlux Difference: %.2f %%\\nr0 = %.2f cm sig2 = %.2f'\n",
    "             %(diff_SR,np.sum(obs_image-perfect_deconv)/np.sum(obs_image), 100*psf_param[0], psf_param[2]), fontsize = 14)\n",
    "\n",
    "\n",
    "print(100*np.sum(obs_image-estim)/np.sum(obs_image))\n"
   ]
  },
  {
   "cell_type": "code",
   "execution_count": null,
   "metadata": {},
   "outputs": [],
   "source": [
    "# fig, ax = plt.subplots()\n",
    "\n",
    "# rcParams['figure.figsize'] = 33 ,24\n",
    "\n",
    "# im = ax.imshow(np.abs(estim-perfect_deconv))\n",
    "# fig.colorbar(im, ax=ax)\n",
    "# ax.set_title('Exact PSF Residual(Normalised)\\nDiff(SR) = 2.16%')"
   ]
  },
  {
   "cell_type": "code",
   "execution_count": null,
   "metadata": {},
   "outputs": [],
   "source": [
    "# fig, ax = plt.subplots()\n",
    "\n",
    "# rcParams['figure.figsize'] = 33 ,24\n",
    "\n",
    "# im = ax.imshow(asteriod_resize)\n",
    "# fig.colorbar(im, ax=ax)\n",
    "# ax.set_title('Object')"
   ]
  },
  {
   "cell_type": "code",
   "execution_count": null,
   "metadata": {},
   "outputs": [],
   "source": [
    "from deconvbench.stat import DSPFit, Circmoyto2D\n",
    "from deconvbench import RegulPSD\n",
    "\n",
    "rho, psd_param, _, psd1d = DSPFit(obs_image)\n",
    "psd1 = Circmoyto2D(rho,psd1d,obs_image.shape[0])\n",
    "\n",
    "hyper = est_crtierion[-3:-1]\n",
    "\n",
    "\n",
    "psd_object = psd_object(hyper)\n",
    "\n",
    "\n",
    "\n",
    "\n",
    "# plot PSD\n",
    "\n",
    "rcParams['figure.figsize'] = 13 ,11\n",
    "\n",
    "ycent = int((psf_total.shape[0]//2))\n",
    "    \n",
    "fig, ax = plt.subplots()\n",
    "ax.set_xscale('log')\n",
    "ax.set_yscale('log')\n",
    "ax.plot(utils.mean_cir_array(np.real(psd1)), label = \"True\")\n",
    "# ax.plot(utils.mean_cir_array(np.real(est_psf)), label = \"Estimated PSF\")\n",
    "\n",
    "ax.legend()\n",
    "\n",
    "print(psd_param)\n",
    "\n",
    "\n"
   ]
  },
  {
   "cell_type": "code",
   "execution_count": null,
   "metadata": {},
   "outputs": [],
   "source": [
    "# #%% ITERATIVE DECONVOLUTION\n",
    "# dec_psd1 = Deconvbench(obs_image, est_psf, ron=10, positivity=False, verbose=True)\n",
    "# dec_psd1.verbose_modulo = 50\n",
    "# dec_psd1.regularization = RegulPSD(psd1) # set PSD regularization\n",
    "# estD1 = dec_psd1.run()"
   ]
  },
  {
   "cell_type": "code",
   "execution_count": null,
   "metadata": {},
   "outputs": [],
   "source": []
  },
  {
   "cell_type": "code",
   "execution_count": null,
   "metadata": {},
   "outputs": [],
   "source": [
    "# fig, ax = plt.subplots()\n",
    "\n",
    "# rcParams['figure.figsize'] = 33 ,24\n",
    "\n",
    "# im = ax.imshow(estD1)\n",
    "# fig.colorbar(im, ax=ax)\n",
    "# ax.set_title('Deconv')"
   ]
  },
  {
   "cell_type": "code",
   "execution_count": null,
   "metadata": {},
   "outputs": [],
   "source": [
    "# from deconvbench.stat import DSPFit, Circmoyto2D\n",
    "# from deconvbench import RegulPSD\n",
    "\n",
    "# rho, psd_param, _, psd1d = DSPFit(obs_image)\n",
    "# psd1 = Circmoyto2D(rho,psd1d,obs_image.shape[0])\n",
    "\n",
    "\n",
    "# #%% ITERATIVE DECONVOLUTION\n",
    "# dec_psd = Deconvbench(obs_image, psf_total, ron=10, positivity=False, verbose=True)\n",
    "# dec_psd.verbose_modulo = 50\n",
    "# dec_psd.regularization = RegulPSD(psd1) # set PSD regularization\n",
    "# estD = dec_psd.run()"
   ]
  },
  {
   "cell_type": "code",
   "execution_count": null,
   "metadata": {},
   "outputs": [],
   "source": [
    "# fig, ax = plt.subplots(1,3)\n",
    "\n",
    "# rcParams['figure.figsize'] = 33 ,24\n",
    "\n",
    "# divider = make_axes_locatable(ax[0])\n",
    "# cax = divider.append_axes(\"right\", size=\"5%\", pad=0.05)\n",
    "# im = ax[0].imshow(estD)\n",
    "# fig.colorbar(im, cax, ax = ax[0])\n",
    "# ax[0].set_title('PSD Regularisation (With exact PSF)',fontsize = '18')\n",
    "\n",
    "# divider = make_axes_locatable(ax[1])\n",
    "# cax = divider.append_axes(\"right\", size=\"5%\", pad=0.05)\n",
    "# im1 = ax[1].imshow(estD1)\n",
    "# fig.colorbar(im1, cax, ax = ax[1])\n",
    "# ax[1].set_title('PSD Regularisation (With estimated PSF)',fontsize = '18')\n",
    "\n",
    "\n",
    "# divider = make_axes_locatable(ax[2])\n",
    "# cax = divider.append_axes(\"right\", size=\"5%\", pad=0.05)\n",
    "# im2 = ax[2].imshow(obs_image)\n",
    "# fig.colorbar(im2, cax ,ax=ax[2])\n",
    "# ax[2].set_title('Observed Image',fontsize = '18')\n",
    "\n",
    "\n"
   ]
  },
  {
   "cell_type": "code",
   "execution_count": null,
   "metadata": {},
   "outputs": [],
   "source": []
  },
  {
   "cell_type": "code",
   "execution_count": null,
   "metadata": {},
   "outputs": [],
   "source": []
  },
  {
   "cell_type": "code",
   "execution_count": null,
   "metadata": {},
   "outputs": [],
   "source": []
  },
  {
   "cell_type": "code",
   "execution_count": null,
   "metadata": {},
   "outputs": [],
   "source": []
  }
 ],
 "metadata": {
  "kernelspec": {
   "display_name": "Python 3",
   "language": "python",
   "name": "python3"
  },
  "language_info": {
   "codemirror_mode": {
    "name": "ipython",
    "version": 3
   },
   "file_extension": ".py",
   "mimetype": "text/x-python",
   "name": "python",
   "nbconvert_exporter": "python",
   "pygments_lexer": "ipython3",
   "version": "3.6.12"
  }
 },
 "nbformat": 4,
 "nbformat_minor": 4
}
