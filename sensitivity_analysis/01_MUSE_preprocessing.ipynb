{
 "cells": [
  {
   "cell_type": "markdown",
   "metadata": {},
   "source": [
    "Here we are performing preprocessing with the MUSE data. \n",
    "We need to take care of the \"nan\" (Dead pixel) and rotate the image cube."
   ]
  },
  {
   "cell_type": "code",
   "execution_count": null,
   "metadata": {},
   "outputs": [],
   "source": [
    "# Import library\n",
    "\n",
    "# Packages required\n",
    "import numpy as np\n",
    "import matplotlib.pyplot as plt\n",
    "from matplotlib import rcParams\n",
    "from astropy.io import fits\n",
    "import os\n",
    "from deconvbench import Deconvbench\n",
    "from mpl_toolkits.axes_grid1 import make_axes_locatable\n",
    "from amiral import instructment, utils, parameter, gradient, minimisation, array, plotting\n",
    "from astropy.visualization import make_lupton_rgb\n",
    "import scipy\n",
    "import astropy.io as astropy\n",
    "\n",
    "\n",
    "# from plotting import plot_PSF_PSD as amiral_plt\n",
    "from scipy.optimize import minimize \n",
    "\n",
    "%matplotlib inline\n",
    "\n",
    "import tools\n",
    "\n",
    "rcParams[\"figure.figsize\"] = 20,33"
   ]
  },
  {
   "cell_type": "code",
   "execution_count": null,
   "metadata": {},
   "outputs": [],
   "source": [
    "# Function for getting snr\n",
    "def snr_map (array, n_sky, n_ron): \n",
    "    \n",
    "    # S/N = S/N_tot = S /  sqrt (S+Sky+Dark +N_ron^2)\n",
    "    # As the RON is small, we can ignore that \n",
    "    # Sky: background -> get the mean value of the background from the corner\n",
    "    \n",
    "    dimension = np.shape(array)[0]\n",
    "    snr_map =  np.zeros((dimension,dimension))\n",
    "    snr_map[:,:] = array[:,:] / np.sqrt(array[:,:] + n_sky + n_ron**2)\n",
    "    \n",
    "    return snr_map\n",
    "\n",
    "def get_snr (array):\n",
    "    \n",
    "    mean = np.mean(array)\n",
    "    sig2 = np.std(array)\n",
    "    \n",
    "    snr = mean / sig2\n",
    "    \n",
    "    return snr\n",
    "\n",
    "def resize_array (array, size, cent = None):\n",
    "    \"\"\"\n",
    "    \n",
    "    Resize the array to a given size. Cent is optional.\n",
    "    \n",
    "    If cent is an input, it contains the centre of the image\n",
    "    \n",
    "    \"\"\"\n",
    "    if array.ndim == 3: \n",
    "        if cent == None:\n",
    "            cent = [np.shape(array[0])[0]//2, np.shape(array[0])[1]//2]\n",
    "            \n",
    "        _len = np.shape(array)[0]\n",
    "        resize_cube = np.zeros((_len,size, size))\n",
    "        \n",
    "        for i in range (_len):\n",
    "            resize_cube[i] = array[i][cent[0]- size//2:cent[0] +size//2,\\\n",
    "                                      cent[0] - size//2:cent[0] +size//2]\n",
    "        return resize_cube\n",
    "    \n",
    "    else:\n",
    "        if cent == None:\n",
    "            cent = [np.shape(array)[0]//2, np.shape(array)[1]//2]\n",
    "            \n",
    "            resize_array = array[cent[1] - size//2:cent[1] +size//2, \\\n",
    "                             cent[0] - size//2:cent[0] +size//2]\n",
    "\n",
    "        return resize_array\n",
    "\n",
    "def drop_frame (cube, value):\n",
    "    \"\"\"\n",
    "    Get the indice for array which contains too many \"nan\" values\n",
    "    \"\"\"\n",
    "    dropped_list = []\n",
    "    \n",
    "    for i in range (len(cube)):\n",
    "    \n",
    "        nan_ind = np.argwhere(np.isnan(cube[i]))\n",
    "        if len(nan_ind) > value:\n",
    "            dropped_list.append(i)\n",
    "        \n",
    "    return dropped_list \n"
   ]
  },
  {
   "cell_type": "code",
   "execution_count": null,
   "metadata": {},
   "outputs": [],
   "source": [
    "# def _inteploate_check_nan (array, ind, radius):\n",
    "#     \"\"\"\n",
    "#     internal function to check the number of nan value in a given range. \n",
    "    \n",
    "#     If it is more than 1, reduce the radius by 1. \n",
    "    \n",
    "#     \"\"\"\n",
    "#     _y, _x = ind \n",
    "#     print(ind)\n",
    "    \n",
    "#     if len(ind) > 1: \n",
    "#         print(\"There is more than one nan value in a given range\")\n",
    "\n",
    "#         radius -= 1\n",
    "        \n",
    "#         _neighbour = np.append(array[_y-radius:_y+radius],array[_x-radius:_x+radius])\n",
    "#         _neighbour_ind = np.argwhere(np.isnan(_neighbour))\n",
    "        \n",
    "#         return _neighbour,_neighbour_ind\n",
    "        \n",
    "#     else: \n",
    "        \n",
    "#         return array, ind\n",
    "\n",
    "# def inteploate_nan (array, radius):\n",
    "    \n",
    "#     nan_ind = np.argwhere(np.isnan(array))\n",
    "        \n",
    "#     for i in range (len(nan_ind)):\n",
    "#         print(i)\n",
    "        \n",
    "#         # Retrieve the coordinate of the nan pixel\n",
    "#         _y, _x = nan_ind[i]\n",
    "        \n",
    "#         _neighbour = np.append(array[_y-radius:_y+radius],array[_x-radius:_x+radius])\n",
    "        \n",
    "#         _ind = np.argwhere(np.isnan(_neighbour))\n",
    "#         print(_ind)\n",
    "        \n",
    "#         _neighbour, _neighbour_ind = _inteploate_check_nan (array, nan_ind[i], radius)\n",
    "        \n",
    "#         # Remove the nan pixel value that we would like to replace\n",
    "#         _neighbour = np.delete(_neighbour, _neighbour_ind)\n",
    "        \n",
    "#         array[_y, _x] = np.mean(_neighbour)\n",
    "#         print(\"Value of the new pixel: %f \" %(array[_y, _x]))\n",
    "        \n",
    "        \n",
    "#     return array"
   ]
  },
  {
   "cell_type": "code",
   "execution_count": null,
   "metadata": {},
   "outputs": [],
   "source": [
    "# PATH\n",
    "wdir = \"/Users/alau/Data/MUSE_DATA/HD_146233/\"\n",
    "data_cube = [\"HD_146233_DATACUBE_FINAL_2019-07-08T02_48_09.506\"]"
   ]
  },
  {
   "cell_type": "code",
   "execution_count": null,
   "metadata": {},
   "outputs": [],
   "source": [
    "# Variable\n",
    "muse_pix_scale = 0.025 # arcsecond per pixel"
   ]
  },
  {
   "cell_type": "markdown",
   "metadata": {},
   "source": [
    "Have a look at the actual data before performing any data analysis"
   ]
  },
  {
   "cell_type": "code",
   "execution_count": null,
   "metadata": {},
   "outputs": [],
   "source": [
    "name = data_cube[0]\n",
    "_cube = fits.open(wdir+name+\".fits\")\n",
    "_cube.info()\n",
    "\n",
    "cube = _cube[1].data\n",
    "# cube_1 = _cube[1].data\n",
    "cube_resize = resize_array(cube,250,cent=(139,132))\n"
   ]
  },
  {
   "cell_type": "code",
   "execution_count": null,
   "metadata": {},
   "outputs": [],
   "source": [
    "plt.imshow(cube_resize[2])"
   ]
  },
  {
   "cell_type": "code",
   "execution_count": null,
   "metadata": {},
   "outputs": [],
   "source": [
    "array_resize = resize_array(cube[1],200)"
   ]
  },
  {
   "cell_type": "code",
   "execution_count": null,
   "metadata": {},
   "outputs": [],
   "source": [
    "print(\"Dimension of the original image: %s\" %(np.shape(cube[0]),))\n",
    "print(\"Dimension of the cropped image: %s\" %(np.shape(array_resize),))\n",
    "\n",
    "fig, ax = plt.subplots(1,2)\n",
    "xlimt = 200//2 * muse_pix_scale\n",
    "ylimt = 200//2 * muse_pix_scale\n",
    "\n",
    "ax[1].imshow(array_resize, interpolation='nearest',extent=[-xlimt,xlimt,ylimt,-ylimt])\n",
    "ax[1].set_title('Cropped Image', fontsize = '16')\n",
    "ax[1].set_xlabel(r'$\\mathrm{arcsecond}$', fontsize = 14)\n",
    "\n",
    "xlimt = np.shape(cube[0])[0]//2 * muse_pix_scale\n",
    "ylimt = np.shape(cube[0])[1]//2 * muse_pix_scale\n",
    "\n",
    "# ax[0].imshow(cube[0],interpolation='nearest',extent=[-xlimt,xlimt,ylimt,-ylimt])\n",
    "ax[0].imshow(cube[1],interpolation='nearest',extent=[-xlimt,xlimt,ylimt,-ylimt])\n",
    "ax[0].set_title('Original Image', fontsize = '16')\n",
    "ax[0].set_xlabel(r'$\\mathrm{arcsecond}$', fontsize = 14)"
   ]
  },
  {
   "cell_type": "code",
   "execution_count": null,
   "metadata": {},
   "outputs": [],
   "source": [
    "wdir = \"/Users/alau/Data/MUSE_DATA/Ganymede/2019sep08/\"\n",
    "\n",
    "data_cube = [\"Ganymede_DATACUBE_FINAL_2019-07-08T02_06_47.922_cube_1\",\\\n",
    "        \"Ganymede_DATACUBE_FINAL_2019-07-08T02_06_47.922_cube_2\"]\n",
    "\n",
    "name = data_cube[0]\n",
    "\n",
    "_cube = fits.open(wdir+name+\".fits\")\n",
    "_cube.info()\n",
    "\n",
    "cube = _cube[1].data\n",
    "_cube.pop(2)\n",
    "_cube.info()"
   ]
  },
  {
   "cell_type": "markdown",
   "metadata": {},
   "source": [
    "Perform cropping"
   ]
  },
  {
   "cell_type": "code",
   "execution_count": null,
   "metadata": {},
   "outputs": [],
   "source": [
    "cube_resize = resize_array(cube,250,cent=(139,132))\n",
    "\n",
    "plt.imshow(cube_resize[0])"
   ]
  },
  {
   "cell_type": "code",
   "execution_count": null,
   "metadata": {},
   "outputs": [],
   "source": [
    "data_cube = [\"Ganymede_20190708_cube_1_cropped_cube\",\"Ganymede_20190708_cube_2_cropped_cube\"]\n",
    "\n",
    "name = data_cube[0]\n",
    "\n",
    "_cube[1].data = cube_resize\n",
    "# array.save_fits(_cube,name,wdir)"
   ]
  },
  {
   "cell_type": "markdown",
   "metadata": {},
   "source": [
    "Now we know we have 2 cubes which have been cropped. Now we need to drop some frames if they are corrupted --> then we can perform binning. "
   ]
  },
  {
   "cell_type": "code",
   "execution_count": null,
   "metadata": {},
   "outputs": [],
   "source": [
    "_ls = drop_frame(cube_resize,35)\n",
    "print(_ls)\n",
    "\n",
    "nan_ind = np.argwhere(np.isnan(cube_resize[-1]))\n",
    "print(len(nan_ind))"
   ]
  },
  {
   "cell_type": "code",
   "execution_count": null,
   "metadata": {},
   "outputs": [],
   "source": [
    "plt.imshow(cube_resize[0])"
   ]
  },
  {
   "cell_type": "code",
   "execution_count": null,
   "metadata": {},
   "outputs": [],
   "source": [
    "_new_cube = np.zeros((cube_resize.shape[0]-len(_ls),cube_resize.shape[1],cube_resize.shape[2]))\n",
    "\n",
    "_new_cube.shape"
   ]
  },
  {
   "cell_type": "code",
   "execution_count": null,
   "metadata": {},
   "outputs": [],
   "source": [
    "_new_cube = cube_resize[_ls[0]+1:_ls[1]]\n",
    "print(_new_cube.shape)\n",
    "\n",
    "plt.imshow(_new_cube[0])"
   ]
  },
  {
   "cell_type": "code",
   "execution_count": null,
   "metadata": {},
   "outputs": [],
   "source": [
    "data_cube = [\"Ganymede_20190708_cube_1_cropped_cube_clean\",\"Ganymede_20190708_cube_2_cropped_cube_clean\"]\n",
    "name = data_cube[0]\n",
    "\n",
    "wvl_min = _cube[1].header['CRVAL3']*1e-10/1e-9\n",
    "wvl_slice = _cube[1].header['CD3_3']*1e-10/1e-9\n",
    "\n",
    "print(\"Starting wavelegnth: %.3f[nm]\" %(wvl_min))\n",
    "print(\"Wavelength slice: %.3f[nm]\" %(wvl_slice))\n",
    "print(\"New starting wavelength: %.3f[A]\" %((wvl_min+wvl_slice)*1e1))\n",
    "\n",
    "# array_resize = resize_array(cube[1],250,cent=(139,132))\n",
    "_cube[1].data = _new_cube\n",
    "\n",
    "_cube[1].header['CRVAL3'] = (wvl_min+wvl_slice)*1e1\n",
    "\n",
    "# array.save_fits(_cube,name, wdir)"
   ]
  },
  {
   "cell_type": "code",
   "execution_count": null,
   "metadata": {},
   "outputs": [],
   "source": [
    "array_resize.shape"
   ]
  },
  {
   "cell_type": "code",
   "execution_count": null,
   "metadata": {},
   "outputs": [],
   "source": []
  },
  {
   "cell_type": "code",
   "execution_count": null,
   "metadata": {},
   "outputs": [],
   "source": [
    "fig, ax = plt.subplots(1,2)\n",
    "xlimt = 200//2 * muse_pix_scale\n",
    "ylimt = 200//2 * muse_pix_scale\n",
    "\n",
    "ax[1].imshow(cube[1], interpolation='nearest',extent=[-xlimt,xlimt,ylimt,-ylimt])\n",
    "ax[1].set_title('Original Image', fontsize = '16')\n",
    "ax[1].set_xlabel(r'$\\mathrm{arcsecond}$', fontsize = 14)\n",
    "\n",
    "xlimt = np.shape(cube[0])[0]//2 * muse_pix_scale\n",
    "ylimt = np.shape(cube[0])[1]//2 * muse_pix_scale\n",
    "\n",
    "# ax[0].imshow(cube[0],interpolation='nearest',extent=[-xlimt,xlimt,ylimt,-ylimt])\n",
    "ax[0].imshow(array_resize,interpolation='nearest',extent=[-xlimt,xlimt,ylimt,-ylimt])\n",
    "ax[0].set_title('Cropped Image', fontsize = '16')\n",
    "ax[0].set_xlabel(r'$\\mathrm{arcsecond}$', fontsize = 14)"
   ]
  },
  {
   "cell_type": "code",
   "execution_count": null,
   "metadata": {},
   "outputs": [],
   "source": [
    "plt.imshow(array_resize)"
   ]
  },
  {
   "cell_type": "code",
   "execution_count": null,
   "metadata": {},
   "outputs": [],
   "source": [
    "# nan_ind = np.argwhere(np.isnan(array_resize))\n",
    "# print(\"Nan index: %s\" %(nan_ind,))\n",
    "\n",
    "\n",
    "# x, y = nan_ind[0]\n",
    "\n",
    "# print(x,y)\n",
    "\n",
    "# pix_list = np.append(array_resize[x-9:x+9],array_resize[y-9:y+9])\n",
    "# _test = np.argwhere(np.isnan(pix_list))\n",
    "\n",
    "# _pix_list = np.delete(pix_list, _test)\n",
    "\n",
    "# _ind = np.argwhere(np.isnan(_pix_list))\n",
    "\n",
    "# print(len(_ind))\n",
    "\n",
    "\n",
    "# radius = 10 \n",
    "\n",
    "# radius -=1\n",
    "\n",
    "# print(radius)"
   ]
  },
  {
   "cell_type": "code",
   "execution_count": null,
   "metadata": {},
   "outputs": [],
   "source": []
  },
  {
   "cell_type": "code",
   "execution_count": null,
   "metadata": {},
   "outputs": [],
   "source": [
    "# array.save_fits(_cube,name,wdir)"
   ]
  },
  {
   "cell_type": "code",
   "execution_count": null,
   "metadata": {},
   "outputs": [],
   "source": [
    "# wdir = \"/Users/alau/Data/MUSE_DATA/Ganymede/2019sep08/\"\n",
    "# binned_cube = [\"Ganymede_20190708_cube_1_binned_10\", \"Ganymede_20190708_cube_2_binned_10\"]"
   ]
  },
  {
   "cell_type": "code",
   "execution_count": null,
   "metadata": {},
   "outputs": [],
   "source": [
    "# name = binned_cube[1]\n",
    "\n",
    "# _cube = fits.open(wdir+name+\".fits\")\n",
    "# _cube.info()\n",
    "\n",
    "# _binned_cube = _cube[1].data\n",
    "# _cube.info()\n",
    "\n",
    "\n",
    "# plt.imshow(_binned_cube[1])"
   ]
  },
  {
   "cell_type": "code",
   "execution_count": null,
   "metadata": {},
   "outputs": [],
   "source": [
    "# _test_cube_1 = np.zeros((np.shape(_binned_cube)))\n",
    "\n",
    "# print(np.shape(_binned_cube))\n",
    "\n",
    "# for i in range (82): \n",
    "#     _test_cube_1[i] = inteploate_nan(_binned_cube[i], radius = 4)"
   ]
  },
  {
   "cell_type": "code",
   "execution_count": null,
   "metadata": {},
   "outputs": [],
   "source": [
    "# fig, ax = plt.subplots(1,3)\n",
    "# xlimt = 200//2 * muse_pix_scale\n",
    "# ylimt = 200//2 * muse_pix_scale\n",
    "\n",
    "# ax[1].imshow(_binned_cube[0], interpolation='nearest',extent=[-xlimt,xlimt,ylimt,-ylimt])\n",
    "# ax[1].set_title('Original Image', fontsize = '16')\n",
    "# ax[1].set_xlabel(r'$\\mathrm{arcsecond}$', fontsize = 14)\n",
    "\n",
    "# xlimt = np.shape(cube[0])[0]//2 * muse_pix_scale\n",
    "# ylimt = np.shape(cube[0])[1]//2 * muse_pix_scale\n",
    "\n",
    "# # ax[0].imshow(cube[0],interpolation='nearest',extent=[-xlimt,xlimt,ylimt,-ylimt])\n",
    "# ax[0].imshow(_test_cube_1[0],interpolation='nearest',extent=[-xlimt,xlimt,ylimt,-ylimt])\n",
    "# ax[0].set_title('Filled image', fontsize = '16')\n",
    "# ax[0].set_xlabel(r'$\\mathrm{arcsecond}$', fontsize = 14)\n",
    "\n",
    "# ax[2].imshow(_test_cube_1[0]-_binned_cube[0], interpolation='nearest',extent=[-xlimt,xlimt,ylimt,-ylimt])\n",
    "# ax[2].set_title('Difference', fontsize = '16')\n",
    "# ax[2].set_xlabel(r'$\\mathrm{arcsecond}$', fontsize = 14)\n",
    "\n",
    "\n"
   ]
  },
  {
   "cell_type": "markdown",
   "metadata": {},
   "source": [
    "Seeing how to intepertate missing nan value in this page:https://modelhelptokyo.wordpress.com/2017/10/25/how-to-interpolate-missing-values-2d-python/"
   ]
  },
  {
   "cell_type": "code",
   "execution_count": null,
   "metadata": {},
   "outputs": [],
   "source": [
    "# ## TODO - convert this into a function\n",
    "def __interploate_arr (array, method = 'cubic'): \n",
    "    \n",
    "    # Settting up the grid for intepoloation\n",
    "    x = np.arange(0, array.shape[1])\n",
    "    y = np.arange(0, array.shape[0])\n",
    "    \n",
    "    xx, yy = np.meshgrid(x, y)\n",
    "    \n",
    "    # Masking invalid values\n",
    "    array = np.ma.masked_invalid(array)\n",
    "    \n",
    "    # Getting only the valid values\n",
    "    x1 = xx[~array.mask]\n",
    "    y1 = yy[~array.mask]\n",
    "    newarr = array[~array.mask]\n",
    "\n",
    "    newarr = array[~array.mask]\n",
    "\n",
    "    arr = scipy.interpolate.griddata((x1, y1), newarr.ravel(),\n",
    "                              (xx, yy),\n",
    "                                 method=method)\n",
    "    return arr \n",
    "\n",
    "\n",
    "def interploate_nan (array, method = 'cubic'):\n",
    "    \"\"\"\n",
    "    Wrapper function for the interploation for 3D image cube of 2D image cube \n",
    "    \n",
    "    --> if arr.dim = 3: \n",
    "            call the private function in loop\n",
    "            although the interploate function can work in 3D but I am not sure about how does it \n",
    "            work in 3D. \n",
    "            \n",
    "            If we treat each 2D image independent from time/wavelength \n",
    "    \"\"\"\n",
    "    \n",
    "    _method = ['cubic', '']\n",
    "    \n",
    "    ndim = len(array.shape)\n",
    "    \n",
    "    if ndim == 3: \n",
    "        # it is a 3D cube\n",
    "        for i in range (array.shape[0]): \n",
    "            array[i] = __interploate_arr (array[i], method)\n",
    "            \n",
    "        return array\n",
    "    \n",
    "    elif ndim == 2:\n",
    "        # it is a 2D image, or a frame, if you would like to put it that way\n",
    "        array = __interploate_arr(array, method)\n",
    "        return array\n",
    "    \n",
    "    else: \n",
    "        raise Exception(\"Dimension of %d image is not supported\" %ndim)\n",
    "\n",
    "    \n",
    "# # array = _binned_cube[1]\n",
    "\n",
    "# # x = np.arange(0, array.shape[1])\n",
    "# # y = np.arange(0, array.shape[0])\n",
    "# # #mask invalid values\n",
    "# # array = np.ma.masked_invalid(array)\n",
    "# # xx, yy = np.meshgrid(x, y)\n",
    "# # #get only the valid values\n",
    "# # x1 = xx[~array.mask]\n",
    "# # y1 = yy[~array.mask]\n",
    "# # newarr = array[~array.mask]\n",
    "\n",
    "# # GD1 = interpolate.griddata((x1, y1), newarr.ravel(),\n",
    "# #                           (xx, yy),\n",
    "# #                              method='cubic')\n",
    "\n",
    "\n",
    "# _out = interploate_nan(_binned_cube)"
   ]
  },
  {
   "cell_type": "code",
   "execution_count": null,
   "metadata": {},
   "outputs": [],
   "source": [
    "# fig, ax = plt.subplots(1,3)\n",
    "# xlimt = 200//2 * muse_pix_scale\n",
    "# ylimt = 200//2 * muse_pix_scale\n",
    "\n",
    "# xlimt = np.shape(cube[0])[0]//2 * muse_pix_scale\n",
    "# ylimt = np.shape(cube[0])[1]//2 * muse_pix_scale\n",
    "\n",
    "# # ax[0].imshow(cube[0],interpolation='nearest',extent=[-xlimt,xlimt,ylimt,-ylimt])\n",
    "\n",
    "# ax[0].imshow(_binned_cube[0], interpolation='nearest',extent=[-xlimt,xlimt,ylimt,-ylimt])\n",
    "# ax[0].set_title('Original Image', fontsize = '16')\n",
    "# ax[0].set_xlabel(r'$\\mathrm{arcsecond}$', fontsize = 14)\n",
    "\n",
    "# ax[1].imshow(_out[0],interpolation='nearest',extent=[-xlimt,xlimt,ylimt,-ylimt])\n",
    "# ax[1].set_title('Filled image', fontsize = '16')\n",
    "# ax[1].set_xlabel(r'$\\mathrm{arcsecond}$', fontsize = 14)\n",
    "\n",
    "\n",
    "# ax[2].imshow(_binned_cube[1]-_out[1], interpolation='nearest',extent=[-xlimt,xlimt,ylimt,-ylimt])\n",
    "# ax[2].set_title('Original Image', fontsize = '16')\n",
    "# ax[2].set_xlabel(r'$\\mathrm{arcsecond}$', fontsize = 14)\n"
   ]
  },
  {
   "cell_type": "code",
   "execution_count": null,
   "metadata": {},
   "outputs": [],
   "source": [
    "wdir = \"/Users/alau/Data/MUSE_DATA/HD_146233/\"\n",
    "\n",
    "data_cube = [\"HD_146233_cube_1_binned_10\",\\\n",
    "        \"HD_146233_cube_2_binned_10\"]\n",
    "\n",
    "\n",
    "\n",
    "name = data_cube[1]\n",
    "\n",
    "_cube = fits.open(wdir+name+\".fits\")\n",
    "_cube.info()\n",
    "\n",
    "cube = _cube[1].data\n",
    "_cube.pop(2)\n",
    "_cube.info()"
   ]
  },
  {
   "cell_type": "code",
   "execution_count": null,
   "metadata": {},
   "outputs": [],
   "source": [
    "stat = _cube[2].data\n",
    "\n",
    "plt.imshow(stat[100])"
   ]
  },
  {
   "cell_type": "code",
   "execution_count": null,
   "metadata": {},
   "outputs": [],
   "source": [
    "_out = interploate_nan(cube)"
   ]
  },
  {
   "cell_type": "code",
   "execution_count": null,
   "metadata": {},
   "outputs": [],
   "source": [
    "plt.imshow(_out[0])"
   ]
  },
  {
   "cell_type": "code",
   "execution_count": null,
   "metadata": {},
   "outputs": [],
   "source": [
    "_cube[1].data = _out"
   ]
  },
  {
   "cell_type": "code",
   "execution_count": null,
   "metadata": {},
   "outputs": [],
   "source": [
    "plt.imshow(_cube[1].data[0])"
   ]
  },
  {
   "cell_type": "code",
   "execution_count": null,
   "metadata": {},
   "outputs": [],
   "source": [
    "name = \"HD_146233_clean_cube_2\"\n",
    "array.save_fits(_cube,name,wdir)"
   ]
  },
  {
   "cell_type": "code",
   "execution_count": null,
   "metadata": {},
   "outputs": [],
   "source": []
  }
 ],
 "metadata": {
  "kernelspec": {
   "display_name": "Python 3",
   "language": "python",
   "name": "python3"
  },
  "language_info": {
   "codemirror_mode": {
    "name": "ipython",
    "version": 3
   },
   "file_extension": ".py",
   "mimetype": "text/x-python",
   "name": "python",
   "nbconvert_exporter": "python",
   "pygments_lexer": "ipython3",
   "version": "3.6.12"
  }
 },
 "nbformat": 4,
 "nbformat_minor": 4
}
