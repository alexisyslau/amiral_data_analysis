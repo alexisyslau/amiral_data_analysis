{
 "cells": [
  {
   "cell_type": "code",
   "execution_count": null,
   "metadata": {},
   "outputs": [],
   "source": [
    "# Import library\n",
    "\n",
    "# Packages required\n",
    "import numpy as np\n",
    "import matplotlib.pyplot as plt\n",
    "from matplotlib import rcParams\n",
    "from astropy.io import fits\n",
    "import os\n",
    "from deconvbench import Deconvbench\n",
    "\n",
    "from amiral import instructment, utils, parameter, gradient, minimisation, array, plotting\n",
    "\n",
    "\n",
    "# from plotting import plot_PSF_PSD as amiral_plt\n",
    "from scipy.optimize import minimize \n",
    "\n",
    "%matplotlib inline\n",
    "\n",
    "import tools\n",
    "\n",
    "rcParams[\"figure.figsize\"] = 20,33"
   ]
  },
  {
   "cell_type": "code",
   "execution_count": null,
   "metadata": {},
   "outputs": [],
   "source": [
    "# Function for getting snr\n",
    "def get_snr (array, noise):\n",
    "    \n",
    "    mean = np.mean(array)\n",
    "    sig2 = np.std(noise)\n",
    "    \n",
    "    snr = mean / sig2\n",
    "    \n",
    "    return snr\n",
    "\n",
    "def psd_object (param):\n",
    "    \n",
    "    rho = np.fft.fftshift(utils.dist(768))/param[1]\n",
    "    psd_obj =  param[0]/ (np.power(rho,param[2]) + 1.)\n",
    "    \n",
    "    return psd_obj\n",
    "    \n",
    "def plot_psd_object(psd_obj): \n",
    "    \n",
    "    fig, ax = plt.subplots()\n",
    "    ycent = int((256*aosys_cls.samp_factor[0])//2)\n",
    "\n",
    "    ax.plot(np.abs(psd_obj[ycent,...]))\n",
    "    ax.set_title('PSD Object(total)')\n",
    "    ax.axhline(y=1, color = 'r', ls = '--')\n",
    "    \n",
    "    pass\n",
    "\n",
    "def create_psfao19_otf (otf_tel, guess, aosys_cls): \n",
    "    \n",
    "    # Use PSFAO19 model to create a PSF\n",
    "    psd_ao = aosys_cls.psd_residual_ao (guess = guess)\n",
    "    psd_halo = aosys_cls.psd_residual_halo(r0 = guess[0])\n",
    "    \n",
    "    psd = psd_ao + psd_halo\n",
    "\n",
    "    otf_atmo = aosys_cls.otf_atmo(psd)\n",
    "    otf_total = otf_atmo*otf_tel\n",
    "      \n",
    "    return otf_atmo,otf_total"
   ]
  },
  {
   "cell_type": "code",
   "execution_count": null,
   "metadata": {},
   "outputs": [],
   "source": [
    "# PATH\n",
    "\n",
    "wdir = \"/Users/alau/Data/amiral_fits/VESTA/SNR/\"\n",
    "path_asteriod = '/Users/alau/IDLWorkspace/Data/Vesta_OASIS/2018-06-08T07_58_51.472.fits'\n",
    "\n",
    "# Parameters for the PSF\n",
    "psf_dict = {\n",
    "    \"r0\": 0.15,                  \n",
    "    \"background\": 0.,      \n",
    "    \"amplitude\": 0.5,       \n",
    "    \"ax\": 0.05,                            \n",
    "    \"beta\": 1.5, \n",
    "    \"mu\": 0., \n",
    "    \"rho0\": 0., \n",
    "    \"p\": 0. \n",
    "}\n",
    "\n",
    "# Variable\n",
    "RON = 10. # CCD read-out noise standard-deviation [e-]\n",
    "FLUX = np.linspace(5e6,5e9,10)\n",
    "DIMENSION = int(256*3)\n",
    "\n",
    "flux_snr = FLUX[9]\n",
    "print(flux_snr)\n",
    "\n",
    "# psf_dict[\"r0\"] = 0.1\n",
    "# psf_dict[\"amplitude\"] = 0.5"
   ]
  },
  {
   "cell_type": "markdown",
   "metadata": {},
   "source": [
    "Get the object"
   ]
  },
  {
   "cell_type": "code",
   "execution_count": null,
   "metadata": {},
   "outputs": [],
   "source": [
    "data = fits.open(path_asteriod)\n",
    "asteriod = data[0].data\n",
    "asteriod_resize = np.zeros((DIMENSION,DIMENSION))\n",
    "\n",
    "\n",
    "cuta = DIMENSION//2-128\n",
    "cutb = DIMENSION//2+128\n",
    " \n",
    "asteriod_resize[cuta:cutb,cuta:cutb] = asteriod\n",
    "_asteriod_resize = asteriod_resize/np.sum(asteriod_resize)\n",
    "\n",
    "# Calibrating the flux\n",
    "asteriod_resize = asteriod_resize/np.sum(asteriod_resize)*flux_snr"
   ]
  },
  {
   "cell_type": "markdown",
   "metadata": {},
   "source": [
    "Add Photon noise"
   ]
  },
  {
   "cell_type": "code",
   "execution_count": null,
   "metadata": {
    "scrolled": true
   },
   "outputs": [],
   "source": [
    "rng = np.random.default_rng()\n",
    "photon_noise = rng.poisson(asteriod_resize)\n",
    "print(\"\\nPhoton Noise of the object: \", np.sum((photon_noise)))\n",
    "\n",
    "ft_photon_noise = np.fft.fftshift(np.fft.fft2(np.fft.ifftshift(photon_noise)))\n",
    "ft_obj = np.fft.fft2(np.fft.ifftshift(asteriod_resize))"
   ]
  },
  {
   "cell_type": "markdown",
   "metadata": {},
   "source": [
    "We need a PSF"
   ]
  },
  {
   "cell_type": "code",
   "execution_count": null,
   "metadata": {},
   "outputs": [],
   "source": [
    "# Set up the telescope and produce a PSF\n",
    "amiral_dict = {\n",
    "    \"r0\": 0.2,                  \n",
    "    \"background\": 0.,      \n",
    "    \"amplitude\": 0.5,       \n",
    "    \"ax\": 0.05,                            \n",
    "    \"beta\": 1.5, \n",
    "    \"mu\": 0., \n",
    "    \"rho0\": 0., \n",
    "    \"p\": 0. \n",
    "}\n",
    "\n",
    "aosys_dict = {\n",
    "    'diameter': 8 , \n",
    "    'occ_ratio': 0.14 , \n",
    "    'no_acutuator' : 20, \n",
    "    'wavelength': 500, \n",
    "    'dimension': 256,\n",
    "    'resolution_rad' : 2.083e-8\n",
    "}\n",
    "\n",
    "# Passing parametpsd_arrayers from the telesope to the aosystem\n",
    "aosys_cls = instructment.aoSystem( \n",
    "        diameter = aosys_dict['diameter'], occ_ratio = aosys_dict['occ_ratio'], \n",
    "        no_acutuator= aosys_dict['no_acutuator'], wavelength = aosys_dict['wavelength']*1e-9, \n",
    "        resolution_rad = aosys_dict['resolution_rad'], \n",
    "        dimension=aosys_dict['dimension'])  \n",
    "\n",
    "\n",
    "# # Parameters for the PSF\n",
    "# psf_dict = {\n",
    "#     \"r0\": 0.1,                  \n",
    "#     \"background\": 0.0,      \n",
    "#     \"amplitude\": 0.5,       \n",
    "#     \"ax\": 0.05,                            \n",
    "#     \"beta\": 1.5, \n",
    "#     \"mu\": 0., \n",
    "#     \"rho0\": 0., \n",
    "#     \"p\": 0. \n",
    "# }\n",
    "\n",
    "psf_keys, psf_param = utils.dict2array(psf_dict)\n",
    "amiral_keys, psf_guess = utils.dict2array(amiral_dict)"
   ]
  },
  {
   "cell_type": "code",
   "execution_count": null,
   "metadata": {},
   "outputs": [],
   "source": [
    "psd_ao = aosys_cls.psd_residual_ao (psf_param)\n",
    "psd_halo = aosys_cls.psd_residual_halo(psf_dict['r0'])\n",
    "\n",
    "psd = psd_halo + psd_ao \n",
    "\n",
    "pupil = aosys_cls.get_pupil_plane()\n",
    "otf_tel = aosys_cls.pupil_to_otf_tel(pupil)\n",
    "\n",
    "integral, SR = aosys_cls.psd_integral(psd_ao, psf_dict['r0'])\n",
    "\n",
    "otf_atmo = aosys_cls.otf_atmo(psd)\n",
    "\n",
    "otf_total = np.fft.ifftshift(otf_atmo * otf_tel)\n",
    "\n",
    "psf_total = np.fft.ifft2(otf_total)\n",
    "\n",
    "psf_tel = np.fft.ifft2(otf_tel)\n",
    "\n",
    "plt.imshow(np.real(np.log10(otf_total)))"
   ]
  },
  {
   "cell_type": "markdown",
   "metadata": {},
   "source": [
    "Get Gaussian Noise"
   ]
  },
  {
   "cell_type": "code",
   "execution_count": null,
   "metadata": {},
   "outputs": [],
   "source": [
    "\n"
   ]
  },
  {
   "cell_type": "code",
   "execution_count": null,
   "metadata": {},
   "outputs": [],
   "source": [
    "ft_image = ft_obj* otf_total\n",
    "\n",
    "plt.imshow(np.log10(np.real(ft_image)))"
   ]
  },
  {
   "cell_type": "code",
   "execution_count": null,
   "metadata": {},
   "outputs": [],
   "source": [
    "rng = np.random.default_rng()\n",
    "_obj = np.real(np.fft.ifft2(ft_image))\n",
    "\n",
    "photon_noise = rng.poisson(_obj)\n",
    "\n",
    "print(\"\\nPhoton Noise of the object: \", np.sum((photon_noise)))\n",
    "\n",
    "gauss_noise = np.random.randn(DIMENSION,DIMENSION)*RON\n",
    "noise = photon_noise + gauss_noise\n",
    "\n",
    "empty_arr = np.zeros((DIMENSION,DIMENSION))+1.\n",
    "\n",
    "psd_noise = np.abs(np.fft.fftshift(np.fft.fft2(noise)))**2\n",
    "psd_asteroid = np.abs(np.fft.fftshift(ft_image))**2\n",
    "\n",
    "snr = psd_asteroid/psd_noise\n",
    "\n",
    "fig, ax = plt.subplots(1,1)\n",
    "\n",
    "rcParams['figure.figsize'] = 33 ,24\n",
    "\n",
    "im = ax.imshow(np.log10(snr))\n",
    "fig.colorbar(im, ax=ax)\n",
    "ax.set_title('Object')\n",
    "\n",
    "\n",
    "est_obj = tools.wiener_filter(ft_image,otf_total,snr)\n",
    "\n",
    "\n",
    "obs_image = noise + _obj\n"
   ]
  },
  {
   "cell_type": "code",
   "execution_count": null,
   "metadata": {},
   "outputs": [],
   "source": [
    "fig, ax = plt.subplots(1,4)\n",
    "\n",
    "rcParams['figure.figsize'] = 33 ,24\n",
    "\n",
    "im = ax[0].imshow(asteriod_resize)\n",
    "fig.colorbar(im, ax=ax[0])\n",
    "ax[0].set_title('Object')\n",
    "\n",
    "im1 = ax[1].imshow(obs_image)\n",
    "fig.colorbar(im1, ax=ax[1])\n",
    "ax[1].set_title('Observed Image')\n",
    "\n",
    "im2 = ax[2].imshow(asteriod_resize-obs_image)\n",
    "fig.colorbar(im2, ax=ax[2])\n",
    "ax[2].set_title('Noise')\n",
    "\n",
    "\n",
    "im3 = ax[3].imshow(asteriod_resize+noise)\n",
    "fig.colorbar(im3, ax=ax[3])\n",
    "ax[3].set_title('Obj + Noise')"
   ]
  },
  {
   "cell_type": "code",
   "execution_count": null,
   "metadata": {},
   "outputs": [],
   "source": [
    "print(\"\\nFlux of the object: \", np.sum(asteriod_resize))\n",
    "print(\"\\nSNR: \", np.sum(asteriod_resize)/np.sum(noise))"
   ]
  },
  {
   "cell_type": "code",
   "execution_count": null,
   "metadata": {},
   "outputs": [],
   "source": [
    "print(\"Sum: \", np.sum(obs_image))\n",
    "print(\"\\nNoise of the object: \", np.sum((noise)))\n",
    "print(\"\\nPhoton Noise of the object: \", np.sum((photon_noise)))\n",
    "print(\"Retrieved Flux : \",np.sum(obs_image) - (np.sum(noise)))"
   ]
  },
  {
   "cell_type": "code",
   "execution_count": null,
   "metadata": {},
   "outputs": [],
   "source": [
    "img = obs_image\n",
    "\n",
    "# _img = fits.open(\"/Users/alau/Data/amiral_fits/VESTA/SNR/2021mar29/case_8/2018-06-08T05_27_05.809_1.fits\")\n",
    "# img = _img[0].data\n",
    "\n",
    "# _noise = fits.open(\"/Users/alau/Data/amiral_fits/VESTA/SNR/2021mar29/case_8/2018-06-08T05_27_05.809_noise_1.fits\")\n",
    "# noise = _noise[0].data\n",
    "\n",
    "amiralparam = parameter.amiralParam(img ,guess = psf_guess, aosys = aosys_cls)\n",
    "\n",
    "# k_hat = (1e6**2)\n",
    "# psd_noise = np.sum(np.abs(noise)**2)\n",
    "\n",
    "# mu = psd_noise / k_hat\n",
    "\n",
    "# print(mu)"
   ]
  },
  {
   "cell_type": "code",
   "execution_count": null,
   "metadata": {},
   "outputs": [],
   "source": [
    "# What variables to be minimised\n",
    "param_mask = np.asarray([1,0,0,0,0])\n",
    "hyper_param_mask = np.asarray([0,0,0])\n",
    "\n",
    "mask = np.concatenate((param_mask,hyper_param_mask))\n",
    "\n",
    "hyper_guess = amiralparam.hyperparam_initial(psf_guess)\n",
    "hyper_min, hyper_max = amiralparam.hyperparam_bound(psf_guess, p_upperbound = 100.)\n",
    "\n",
    "psf_guess[-3] = hyper_guess[0] \n",
    "psf_guess[-2] = hyper_guess[1] \n",
    "psf_guess[-1] = hyper_guess[2] \n",
    "\n",
    "\n",
    "# psf_guess[-3] = mu\n",
    "# psf_guess[-1] = 2.91\n",
    "# psf_guess[-2] = 1.32*()\n",
    "\n",
    "\n",
    "# psf_guess[-3] = 2.01197235e-08 \n",
    "# psf_guess[-2] = 0.82*(DIMENSION)/512\n",
    "# psf_guess[-1] = 2.91\n",
    "\n",
    "param_min = np.asarray([0.05,0,0,1e-8,1.01])\n",
    "param_max =  np.asarray([1.,1e8,1e8,1e3,10])\n",
    "\n",
    "upperbound = np.concatenate((param_max, hyper_max))\n",
    "lowerbound = np.concatenate((param_min, hyper_min))\n",
    "\n",
    "param_numerical_condition = np.array([1., 1e-4, 1., 1., 1.])\n",
    "hyperparam_numerical_condition = np.array([hyper_guess[0], hyper_guess[1], 1.])\n",
    "\n",
    "numerical_condition = np.concatenate((param_numerical_condition, hyperparam_numerical_condition))\n",
    "\n",
    "amiral_cls = parameter.amiral(img=img, guess=psf_guess, aosys = aosys_cls, upperbound = upperbound, lowerbound= lowerbound, numerical_condition = numerical_condition, fourier_variable = amiralparam.fourier_variable, mask = mask)"
   ]
  },
  {
   "cell_type": "code",
   "execution_count": null,
   "metadata": {
    "scrolled": true
   },
   "outputs": [],
   "source": [
    "est_criterion, value_criterion, value_grad = amiral_cls.minimisation(psf_guess)"
   ]
  },
  {
   "cell_type": "code",
   "execution_count": null,
   "metadata": {},
   "outputs": [],
   "source": [
    "print(est_criterion)"
   ]
  },
  {
   "cell_type": "code",
   "execution_count": null,
   "metadata": {},
   "outputs": [],
   "source": [
    "est_otf_atmo, est_otf = create_psfao19_otf(otf_tel, est_criterion[0:5], aosys_cls)\n",
    "est_psf = np.fft.ifft2(est_otf)"
   ]
  },
  {
   "cell_type": "code",
   "execution_count": null,
   "metadata": {},
   "outputs": [],
   "source": [
    "est_SR = np.max(np.real(est_psf)) / np.max(np.real(psf_tel))\n",
    "SR = np.max(psf_total) / np.max(psf_tel)"
   ]
  },
  {
   "cell_type": "code",
   "execution_count": null,
   "metadata": {},
   "outputs": [],
   "source": [
    "np.real(est_SR-SR)*100"
   ]
  },
  {
   "cell_type": "code",
   "execution_count": null,
   "metadata": {},
   "outputs": [],
   "source": [
    "est_SR"
   ]
  },
  {
   "cell_type": "code",
   "execution_count": null,
   "metadata": {},
   "outputs": [],
   "source": [
    "np.max(np.real(est_psf)) / np.max(np.real(psf_tel))"
   ]
  },
  {
   "cell_type": "code",
   "execution_count": null,
   "metadata": {},
   "outputs": [],
   "source": [
    "np.max(psf_total) / np.max(psf_tel)"
   ]
  },
  {
   "cell_type": "code",
   "execution_count": null,
   "metadata": {},
   "outputs": [],
   "source": [
    "np.max(np.real(est_psf))"
   ]
  },
  {
   "cell_type": "markdown",
   "metadata": {},
   "source": [
    "Intake the estimated criterion for plotting the PSF"
   ]
  },
  {
   "cell_type": "code",
   "execution_count": null,
   "metadata": {},
   "outputs": [],
   "source": [
    "est_param = est_criterion[0:5]\n",
    "est_otf_atmo, est_otf_total = create_psfao19_otf(otf_tel,est_param,aosys_cls)"
   ]
  },
  {
   "cell_type": "code",
   "execution_count": null,
   "metadata": {},
   "outputs": [],
   "source": [
    "est_psf = np.fft.ifft2(est_otf_total)\n",
    "plt.imshow(np.real(np.log10(est_psf-psf_total)))"
   ]
  },
  {
   "cell_type": "code",
   "execution_count": null,
   "metadata": {},
   "outputs": [],
   "source": [
    "dec = Deconvbench(obs_image,est_psf,ron = 10)\n",
    "dec.verbose_modulo = 10 # print every 10 iteration\n",
    "dec.regularization.scale *= 4. # sharpen details (reduce regularization)\n",
    "estim = dec.run()"
   ]
  },
  {
   "cell_type": "code",
   "execution_count": null,
   "metadata": {},
   "outputs": [],
   "source": [
    "estim_norm = estim/asteriod_resize.max()\n",
    "asteriod_resize_norm = asteriod_resize/asteriod_resize.max()\n",
    "\n",
    "\n",
    "fig, ax = plt.subplots(1,2)\n",
    "\n",
    "rcParams['figure.figsize'] = 33 ,24\n",
    "\n",
    "im = ax[0].imshow(np.abs(estim_norm-asteriod_resize_norm))\n",
    "fig.colorbar(im, ax=ax[0])\n",
    "ax[0].set_title('Residual (Normalised)\\nDiff(SR) = 2.16%')\n",
    "\n",
    "im1 = ax[1].imshow(np.abs(asteriod_resize-estim))\n",
    "fig.colorbar(im1, ax=ax[1])\n",
    "ax[1].set_title('Residual\\nDiff(SR) = 2.16%')"
   ]
  },
  {
   "cell_type": "code",
   "execution_count": null,
   "metadata": {},
   "outputs": [],
   "source": [
    "dec = Deconvbench(obs_image,psf_total,ron = 10)\n",
    "dec.verbose_modulo = 10 # print every 10 iteration\n",
    "dec.regularization.scale *= 4. # sharpen details (reduce regularization)\n",
    "estim_1 = dec.run()"
   ]
  },
  {
   "cell_type": "code",
   "execution_count": null,
   "metadata": {},
   "outputs": [],
   "source": [
    "perfect_deconv = estim_1\n",
    "diff = estim_1-asteriod_resize\n",
    "\n",
    "fig, ax = plt.subplots(1,3)\n",
    "\n",
    "rcParams['figure.figsize'] = 33 ,24\n",
    "\n",
    "im = ax[0].imshow(asteriod_resize)\n",
    "fig.colorbar(im, ax=ax[0])\n",
    "ax[0].set_title('Object')\n",
    "\n",
    "im1 = ax[1].imshow(obs_image)\n",
    "fig.colorbar(im1, ax=ax[1])\n",
    "ax[1].set_title('Observed Image')\n",
    "\n",
    "im2 = ax[2].imshow(diff)\n",
    "fig.colorbar(im2, ax=ax[2])\n",
    "ax[2].set_title('Residual\\nDiff(SR) = 2.16%')\n"
   ]
  },
  {
   "cell_type": "code",
   "execution_count": null,
   "metadata": {},
   "outputs": [],
   "source": [
    "estim_1_norm = estim_1/asteriod_resize.max()\n",
    "asteriod_resize_norm = asteriod_resize/asteriod_resize.max()\n",
    "\n",
    "fig, ax = plt.subplots()\n",
    "\n",
    "rcParams['figure.figsize'] = 33 ,24\n",
    "\n",
    "im = ax.imshow(np.abs(estim_1_norm-asteriod_resize_norm))\n",
    "fig.colorbar(im, ax=ax)\n",
    "ax.set_title('Exact PSF Residual(Normalised)\\nDiff(SR) = 2.16%')\n",
    "\n"
   ]
  },
  {
   "cell_type": "code",
   "execution_count": null,
   "metadata": {},
   "outputs": [],
   "source": [
    "fig, ax = plt.subplots()\n",
    "\n",
    "rcParams['figure.figsize'] = 33 ,24\n",
    "\n",
    "im = ax.imshow(asteriod_resize)\n",
    "fig.colorbar(im, ax=ax)\n",
    "ax.set_title('Object')"
   ]
  },
  {
   "cell_type": "code",
   "execution_count": null,
   "metadata": {},
   "outputs": [],
   "source": [
    "from deconvbench.stat import DSPFit, Circmoyto2D\n",
    "from deconvbench import RegulPSD\n",
    "\n",
    "rho, psd_param, _, psd1d = DSPFit(obs_image)\n",
    "psd1 = Circmoyto2D(rho,psd1d,obs_image.shape[0])\n",
    "\n",
    "\n",
    "#%% ITERATIVE DECONVOLUTION\n",
    "dec_psd1 = Deconvbench(obs_image, est_psf, ron=10, positivity=False, verbose=True)\n",
    "dec_psd1.verbose_modulo = 50\n",
    "dec_psd1.regularization = RegulPSD(psd1) # set PSD regularization\n",
    "estD1 = dec_psd1.run()"
   ]
  },
  {
   "cell_type": "code",
   "execution_count": null,
   "metadata": {},
   "outputs": [],
   "source": []
  },
  {
   "cell_type": "code",
   "execution_count": null,
   "metadata": {},
   "outputs": [],
   "source": [
    "fig, ax = plt.subplots()\n",
    "\n",
    "rcParams['figure.figsize'] = 33 ,24\n",
    "\n",
    "im = ax.imshow(estD1)\n",
    "fig.colorbar(im, ax=ax)\n",
    "ax.set_title('Deconv')"
   ]
  },
  {
   "cell_type": "code",
   "execution_count": null,
   "metadata": {},
   "outputs": [],
   "source": [
    "psd_param"
   ]
  },
  {
   "cell_type": "code",
   "execution_count": null,
   "metadata": {},
   "outputs": [],
   "source": [
    "from deconvbench.stat import DSPFit, Circmoyto2D\n",
    "from deconvbench import RegulPSD\n",
    "\n",
    "rho, psd_param, _, psd1d = DSPFit(obs_image)\n",
    "psd1 = Circmoyto2D(rho,psd1d,obs_image.shape[0])\n",
    "\n",
    "\n",
    "#%% ITERATIVE DECONVOLUTION\n",
    "dec_psd = Deconvbench(obs_image, psf_total, ron=10, positivity=False, verbose=True)\n",
    "dec_psd.verbose_modulo = 50\n",
    "dec_psd.regularization = RegulPSD(psd1) # set PSD regularization\n",
    "estD = dec_psd.run()"
   ]
  },
  {
   "cell_type": "code",
   "execution_count": null,
   "metadata": {},
   "outputs": [],
   "source": [
    "fig, ax = plt.subplots()\n",
    "\n",
    "rcParams['figure.figsize'] = 33 ,24\n",
    "\n",
    "im = ax.imshow(estD)\n",
    "fig.colorbar(im, ax=ax)\n",
    "ax.set_title('Deconv')\n",
    "\n",
    "print(np.sum(estD))"
   ]
  },
  {
   "cell_type": "code",
   "execution_count": null,
   "metadata": {},
   "outputs": [],
   "source": []
  }
 ],
 "metadata": {
  "kernelspec": {
   "display_name": "Python 3",
   "language": "python",
   "name": "python3"
  },
  "language_info": {
   "codemirror_mode": {
    "name": "ipython",
    "version": 3
   },
   "file_extension": ".py",
   "mimetype": "text/x-python",
   "name": "python",
   "nbconvert_exporter": "python",
   "pygments_lexer": "ipython3",
   "version": "3.6.12"
  }
 },
 "nbformat": 4,
 "nbformat_minor": 4
}
