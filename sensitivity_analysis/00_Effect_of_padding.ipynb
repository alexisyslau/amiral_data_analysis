{
 "cells": [
  {
   "cell_type": "code",
   "execution_count": null,
   "metadata": {},
   "outputs": [],
   "source": [
    "# Import library\n",
    "\n",
    "# Packages required\n",
    "import numpy as np\n",
    "import matplotlib.pyplot as plt\n",
    "from matplotlib import rcParams\n",
    "from astropy.io import fits\n",
    "import os\n",
    "from deconvbench import Deconvbench\n",
    "from mpl_toolkits.axes_grid1 import make_axes_locatable\n",
    "from amiral import instructment, utils, parameter, gradient, minimisation, array, plotting\n",
    "\n",
    "\n",
    "# from plotting import plot_PSF_PSD as amiral_plt\n",
    "from scipy.optimize import minimize \n",
    "\n",
    "%matplotlib inline\n",
    "\n",
    "import tools\n",
    "\n",
    "rcParams[\"figure.figsize\"] = 20,33"
   ]
  },
  {
   "cell_type": "code",
   "execution_count": null,
   "metadata": {},
   "outputs": [],
   "source": [
    "# Function for getting snr\n",
    "def get_snr (array, noise):\n",
    "    \n",
    "    mean = np.mean(array)\n",
    "    sig2 = np.std(noise)\n",
    "    \n",
    "    snr = mean / sig2\n",
    "    \n",
    "    return snr\n",
    "\n",
    "def psd_object (param):\n",
    "    \n",
    "    rho = np.fft.fftshift(utils.dist(768))/param[1]\n",
    "    psd_obj =  param[0]/ (np.power(rho,param[2]) + 1.)\n",
    "    \n",
    "    return psd_obj\n",
    "    \n",
    "def plot_psd_object(psd_obj): \n",
    "    \n",
    "    fig, ax = plt.subplots()\n",
    "    ycent = int((256*aosys_cls.samp_factor[0])//2)\n",
    "\n",
    "    ax.plot(np.abs(psd_obj[ycent,...]))\n",
    "    ax.set_title('PSD Object(total)')\n",
    "    ax.axhline(y=1, color = 'r', ls = '--')\n",
    "    \n",
    "    pass\n",
    "\n",
    "def create_psfao19_otf (otf_tel, guess, aosys_cls): \n",
    "    \n",
    "    # Use PSFAO19 model to create a PSF\n",
    "    psd_ao = aosys_cls.psd_residual_ao (guess = guess)\n",
    "    psd_halo = aosys_cls.psd_residual_halo(r0 = guess[0])\n",
    "    \n",
    "    psd = psd_ao + psd_halo\n",
    "\n",
    "    otf_atmo = aosys_cls.otf_atmo(psd)\n",
    "    otf_total = otf_atmo*otf_tel\n",
    "      \n",
    "    return otf_atmo,otf_total"
   ]
  },
  {
   "cell_type": "code",
   "execution_count": null,
   "metadata": {},
   "outputs": [],
   "source": [
    "# PATH\n",
    "\n",
    "wdir = \"/Users/alau/Data/amiral_fits/VESTA/SNR/\"\n",
    "path_asteriod = '/Users/alau/IDLWorkspace/Data/Vesta_OASIS/2018-06-08T07_58_51.472.fits'\n",
    "\n",
    "# Parameters for the PSF\n",
    "psf_dict = {\n",
    "    \"r0\": 0.15,                  \n",
    "    \"background\": 0.,      \n",
    "    \"amplitude\": 0.5,       \n",
    "    \"ax\": 0.05,                            \n",
    "    \"beta\": 1.5, \n",
    "    \"mu\": 0., \n",
    "    \"rho0\": 0., \n",
    "    \"p\": 0. \n",
    "}\n",
    "\n",
    "# Variable\n",
    "RON = 10. # CCD read-out noise standard-deviation [e-]\n",
    "FLUX = np.linspace(5e6,5e9,10)\n",
    "DIMENSION = int(256)\n",
    "\n",
    "flux_snr = FLUX[9]\n",
    "print(flux_snr)\n",
    "\n",
    "# psf_dict[\"r0\"] = 0.1\n",
    "# psf_dict[\"amplitude\"] = 0.5"
   ]
  },
  {
   "cell_type": "markdown",
   "metadata": {},
   "source": [
    "Get the object from the high resolution simulation"
   ]
  },
  {
   "cell_type": "code",
   "execution_count": null,
   "metadata": {},
   "outputs": [],
   "source": [
    "data = fits.open(path_asteriod)\n",
    "asteriod = data[0].data\n",
    "\n",
    "asteriod_resize = np.zeros((DIMENSION,DIMENSION))\n",
    "\n",
    "\n",
    "cuta = DIMENSION//2-128\n",
    "cutb = DIMENSION//2+128\n",
    " \n",
    "asteriod_resize[cuta:cutb,cuta:cutb] = asteriod\n",
    "asteriod_resize = asteriod_resize/np.sum(asteriod_resize)\n",
    "\n",
    "# Calibrating the flux\n",
    "asteriod_resize = asteriod_resize/np.sum(asteriod_resize)*flux_snr\n",
    "plt.imshow(asteriod_resize)"
   ]
  },
  {
   "cell_type": "markdown",
   "metadata": {},
   "source": [
    "Get some more objects"
   ]
  },
  {
   "cell_type": "code",
   "execution_count": null,
   "metadata": {},
   "outputs": [],
   "source": [
    "asteriod_resize_1 = np.zeros((DIMENSION*2,DIMENSION*2))\n",
    "\n",
    "\n",
    "cuta = DIMENSION*2//2-128\n",
    "cutb = DIMENSION*2//2+128\n",
    "\n",
    "\n",
    "asteriod_resize_1[cuta:cutb,cuta:cutb] = asteriod\n",
    "asteriod_resize_1 = asteriod_resize_1/np.sum(asteriod_resize_1)\n",
    "\n",
    "# Calibrating the flux\n",
    "asteriod_resize_1 = asteriod_resize_1/np.sum(asteriod_resize_1)*flux_snr\n",
    "\n",
    "plt.imshow(asteriod_resize_1)"
   ]
  },
  {
   "cell_type": "code",
   "execution_count": null,
   "metadata": {},
   "outputs": [],
   "source": [
    "asteriod_resize_2 = np.zeros((DIMENSION*3,DIMENSION*3))\n",
    "\n",
    "\n",
    "cuta = DIMENSION*3//2-128\n",
    "cutb = DIMENSION*3//2+128\n",
    "\n",
    "\n",
    "asteriod_resize_2[cuta:cutb,cuta:cutb] = asteriod\n",
    "asteriod_resize_2 = asteriod_resize_2/np.sum(asteriod_resize_2)\n",
    "\n",
    "# Calibrating the flux\n",
    "asteriod_resize_2 = asteriod_resize_2/np.sum(asteriod_resize_2)*flux_snr\n",
    "\n",
    "plt.imshow(asteriod_resize_2)"
   ]
  },
  {
   "cell_type": "markdown",
   "metadata": {},
   "source": [
    "We need a PSF"
   ]
  },
  {
   "cell_type": "code",
   "execution_count": null,
   "metadata": {},
   "outputs": [],
   "source": [
    "# Set up the telescope and produce a PSF\n",
    "amiral_dict = {\n",
    "    \"r0\": 0.2,                  \n",
    "    \"background\": 0.,      \n",
    "    \"amplitude\": 0.5,       \n",
    "    \"ax\": 0.05,                            \n",
    "    \"beta\": 1.5, \n",
    "    \"mu\": 0., \n",
    "    \"rho0\": 0., \n",
    "    \"p\": 0. \n",
    "}\n",
    "\n",
    "aosys_dict = {\n",
    "    'diameter': 8 , \n",
    "    'occ_ratio': 0.14 , \n",
    "    'no_acutuator' : 20, \n",
    "    'wavelength': 500, \n",
    "    'dimension': 256,\n",
    "    'resolution_rad' : 2.083e-8\n",
    "}\n",
    "\n",
    "# Passing parametpsd_arrayers from the telesope to the aosystem\n",
    "aosys_cls = instructment.aoSystem( \n",
    "        diameter = aosys_dict['diameter'], occ_ratio = aosys_dict['occ_ratio'], \n",
    "        no_acutuator= aosys_dict['no_acutuator'], wavelength = aosys_dict['wavelength']*1e-9, \n",
    "        resolution_rad = aosys_dict['resolution_rad'], \n",
    "        dimension=aosys_dict['dimension'])  \n",
    "\n",
    "\n",
    "psf_keys, psf_param = utils.dict2array(psf_dict)\n",
    "amiral_keys, psf_guess = utils.dict2array(amiral_dict)"
   ]
  },
  {
   "cell_type": "code",
   "execution_count": null,
   "metadata": {},
   "outputs": [],
   "source": [
    "psd_ao = aosys_cls.psd_residual_ao (psf_param)\n",
    "psd_halo = aosys_cls.psd_residual_halo(psf_dict['r0'])\n",
    "\n",
    "psd = psd_halo + psd_ao \n",
    "\n",
    "pupil = aosys_cls.get_pupil_plane()\n",
    "otf_tel = aosys_cls.pupil_to_otf_tel(pupil)\n",
    "\n",
    "integral, SR = aosys_cls.psd_integral(psd_ao, psf_dict['r0'])\n",
    "\n",
    "otf_atmo = aosys_cls.otf_atmo(psd)\n",
    "\n",
    "otf_total = np.fft.ifftshift(otf_atmo * otf_tel)\n",
    "\n",
    "psf_total = np.fft.ifft2(otf_total)\n",
    "\n",
    "psf_tel = np.fft.ifft2(otf_tel)\n",
    "\n",
    "plt.imshow(np.real(np.log10(otf_total)))"
   ]
  },
  {
   "cell_type": "markdown",
   "metadata": {},
   "source": [
    "Get Gaussian Noise"
   ]
  },
  {
   "cell_type": "code",
   "execution_count": null,
   "metadata": {},
   "outputs": [],
   "source": [
    "# Noise \n",
    "gauss_noise = np.random.randn(np.shape(asteriod_resize)[0],np.shape(asteriod_resize)[0])*RON\n",
    "\n",
    "rng = np.random.default_rng()\n",
    "photon_noise = rng.poisson(gal_resize)\n",
    "\n",
    "noise = gauss_noise + photon_noise"
   ]
  },
  {
   "cell_type": "code",
   "execution_count": null,
   "metadata": {},
   "outputs": [],
   "source": [
    "ft_obj = np.fft.fft2(asteriod_resize)\n",
    "ft_image = ft_obj* otf_total\n",
    "\n",
    "plt.imshow(np.log10(np.real(ft_image)))"
   ]
  },
  {
   "cell_type": "markdown",
   "metadata": {},
   "source": [
    "Add Photon noise"
   ]
  },
  {
   "cell_type": "code",
   "execution_count": null,
   "metadata": {
    "scrolled": true
   },
   "outputs": [],
   "source": [
    "# rng = np.random.default_rng()\n",
    "# photon_noise = rng.poisson(asteriod_resize)\n",
    "# print(\"\\nPhoton Noise of the object: \", np.sum((photon_noise)))\n",
    "\n",
    "# ft_photon_noise = np.fft.fftshift(np.fft.fft2(np.fft.ifftshift(photon_noise)))\n",
    "ft_obj = np.fft.fft2(np.fft.ifftshift(asteriod_resize))"
   ]
  }
 ],
 "metadata": {
  "kernelspec": {
   "display_name": "Python 3",
   "language": "python",
   "name": "python3"
  },
  "language_info": {
   "codemirror_mode": {
    "name": "ipython",
    "version": 3
   },
   "file_extension": ".py",
   "mimetype": "text/x-python",
   "name": "python",
   "nbconvert_exporter": "python",
   "pygments_lexer": "ipython3",
   "version": "3.6.12"
  }
 },
 "nbformat": 4,
 "nbformat_minor": 4
}
