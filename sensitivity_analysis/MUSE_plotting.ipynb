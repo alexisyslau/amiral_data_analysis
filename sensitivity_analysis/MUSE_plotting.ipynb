{
 "cells": [
  {
   "cell_type": "code",
   "execution_count": null,
   "metadata": {},
   "outputs": [],
   "source": [
    "# Import library\n",
    "\n",
    "# Packages required\n",
    "import numpy as np\n",
    "import matplotlib.pyplot as plt\n",
    "from matplotlib import rcParams\n",
    "from astropy.io import fits\n",
    "import os\n",
    "import pandas as pd\n",
    "\n",
    "from amiral import instructment, utils, parameter, gradient, minimisation, array\n",
    "from scipy.optimize import minimize \n",
    "%matplotlib inline\n",
    "\n",
    "import tools\n",
    "\n",
    "from mpl_toolkits.axes_grid1 import make_axes_locatable\n",
    "from scipy.optimize import least_squares"
   ]
  },
  {
   "cell_type": "code",
   "execution_count": null,
   "metadata": {},
   "outputs": [],
   "source": [
    "# Function\n",
    "\n",
    "def r0_vs_wvl (wvl):\n",
    "    return np.power(wvl, 6/5)\n",
    "    "
   ]
  },
  {
   "cell_type": "code",
   "execution_count": null,
   "metadata": {},
   "outputs": [],
   "source": [
    "# PATH\n",
    "wdir = \"/Users/alau/Repo/amiral_data_analysis/\"\n",
    "# wdir = \"/Users/alau/Data/amiral_fits/ganymede_cube/\"\n",
    "_path_csv = ['HD_146233_cube_1_binned_10.csv', 'HD_146233_cube_2_binned_10.csv']\n",
    "path_csv = ['HD_146233_cube_1_binned_10_FULL_samp.csv', 'HD_146233_cube_2_binned_10_FULL_samp.csv']\n",
    "# path_csv = [\"HD_146233_cube_1_binned_10.csv\",\"HD_146233_cube_2_binned_10.csv\"]\n",
    "amiral_csv = ['sim_2_r0_mu_rho0_free_noise.csv', 'sim_2_r0_mu_rho0_free.csv']\n",
    "amiral_samp = ['sim_1_r0_samp_free_1.csv', 'sim_2_r0_samp_free.csv']"
   ]
  },
  {
   "cell_type": "markdown",
   "metadata": {},
   "source": [
    "Read the estimated PSF parameters from the .csv file"
   ]
  },
  {
   "cell_type": "code",
   "execution_count": null,
   "metadata": {},
   "outputs": [],
   "source": [
    "def combine_df (path1, path2): \n",
    "    \n",
    "    df1 = pd.read_csv(path1)\n",
    "    df2 = pd.read_csv(path2)\n",
    "    \n",
    "    df_list = [df1, df2]\n",
    "    df = pd.concat(df_list).reset_index(drop=True)\n",
    "    \n",
    "    return df\n",
    "\n",
    "amiral_noise_csv = pd.read_csv(wdir+amiral_csv[0])\n",
    "amiral_free_csv = pd.read_csv(wdir+amiral_csv[1])\n",
    "amiral_samp_csv = pd.read_csv(wdir+amiral_samp[1])\n",
    "\n",
    "amiral_samp_result = combine_df(wdir+amiral_samp[0], wdir+amiral_samp[1])\n",
    "\n",
    "cube1_csv = pd.read_csv(wdir+_path_csv[0])\n",
    "cube2_csv = pd.read_csv(wdir+_path_csv[1])\n",
    "\n",
    "ganymede_frame = [cube1_csv,cube2_csv]\n",
    "ganymede_result = pd.concat(ganymede_frame).reset_index(drop=True)\n",
    "\n",
    "# ganymede_result = pd.read_csv(wdir+path_csv[0])"
   ]
  },
  {
   "cell_type": "code",
   "execution_count": null,
   "metadata": {},
   "outputs": [],
   "source": [
    "est_r0 = ganymede_result['r0']\n",
    "est_sig2 = ganymede_result['amplitude']\n",
    "wvl = ganymede_result['wvl']\n",
    "\n",
    "amiral_noise_r0 = amiral_noise_csv['r0']\n",
    "amiral_r0 = amiral_free_csv['r0']\n",
    "amiral_samp_r0 = amiral_samp_result['r0']\n",
    "a = 100*(amiral_samp_r0-est_r0)\n",
    "\n",
    "print(a)\n",
    "\n",
    "# k = np.array([4, 4, 4, 4, 4, 4, 4, 4, 4, 4, 4, 4, 4, 4, 4, 4, 4, 4, 4, 4, 4, 4,\n",
    "#        4, 4, 4, 4, 4, 3, 3, 3, 3, 3, 3, 3, 3, 3, 3, 3, 3, 3, 3, 3, 3, 3,\n",
    "#        3, 3, 3, 3, 3, 3, 3, 3, 3, 3, 3, 3, 3, 3, 3, 3, 3, 3, 3, 3, 3, 3,\n",
    "#        3, 3, 3, 3, 3, 3, 3, 3, 3, 3, 3, 3, 3, 3, 3, 3, 3, 3, 3, 3, 3, 3,\n",
    "#        3, 3, 3, 3, 3, 3, 3, 3, 3, 3, 3, 3, 3, 3, 3, 3, 3, 3, 3, 3, 3, 3,\n",
    "#        3, 3, 3, 3, 3, 3, 3, 3, 3, 3, 3, 3, 3, 3, 3, 3, 3, 3, 3, 3, 3, 3,\n",
    "#        3, 3, 3, 3, 3, 3, 3, 3, 3, 3, 3, 3, 3, 3, 3, 3, 3, 3, 3, 3, 3, 3,\n",
    "#        3, 3, 3, 3, 3, 3, 3, 3, 3, 3, 3, 3, 3, 3, 3, 3, 3, 3, 3, 3, 3, 3,\n",
    "#        3, 3, 3, 3, 3, 3, 3, 3, 3, 3, 3, 3, 3, 3, 3, 3, 3, 3, 3, 3, 3, 3,\n",
    "#        3, 3, 3, 3, 3, 3, 3, 3, 3, 3, 3, 3, 3, 3, 3, 3, 3, 3, 3, 3, 3, 3,\n",
    "#        3, 3, 3, 3, 3, 3, 3, 3, 3, 3, 3, 3, 3, 3, 3, 3, 3, 3, 3, 3, 3, 3,\n",
    "#        3, 3, 3, 3, 3, 3, 3, 3, 3, 3, 3, 3, 3, 3, 3, 3, 3, 3, 3, 3, 3])\n",
    "\n",
    "# print(a[0:10])"
   ]
  },
  {
   "cell_type": "code",
   "execution_count": null,
   "metadata": {},
   "outputs": [],
   "source": [
    "n_slice = len(wvl)\n",
    "true_r0 = []\n",
    "\n",
    "for i in range (n_slice): \n",
    "    _r0 = r0_vs_wvl(wvl[i]*1e-9)\n",
    "    true_r0.append(_r0)"
   ]
  },
  {
   "cell_type": "markdown",
   "metadata": {},
   "source": [
    "What is the relationship between r0 and wavelength?"
   ]
  },
  {
   "cell_type": "code",
   "execution_count": null,
   "metadata": {
    "scrolled": false
   },
   "outputs": [],
   "source": [
    "rcParams['figure.figsize'] = 16,9\n",
    "\n",
    "fig, ax = plt.subplots()\n",
    "\n",
    "# ax[0].set_xlim(np.min(true_flux), np.max(true_flux))\n",
    "\n",
    "\n",
    "Nslice = len(est_r0)\n",
    "\n",
    "laser_min = 575 -5 # [rjlf] approximative wavelength of the dichroic on MUSE due to LGS\n",
    "laser_max = 595 +7\n",
    "\n",
    "index = np.where(est_r0 > 0)[0] # [rjlf] do not account for r0 that where not properly fitted\n",
    "\n",
    "# [rjlf] Fit all the r0 found with the theoretical curve: r0 ~ wvl^(6/5)\n",
    "def cost(r):\n",
    "    return est_r0[index] - r*(wvl[index]/500.*1e9)**(6./5.)\n",
    "\n",
    "roptim = least_squares(cost,0.13).x[0]\n",
    "\n",
    "plt.figure(1)\n",
    "plt.clf()\n",
    "ax = plt.subplot(111)\n",
    "plt.plot(wvl[index]*1e9,(roptim*(wvl[index]/500.*1e9)**(6./5.))*100.,color=\"C1\",linewidth=4,label=\"Theory\",zorder=0)\n",
    "# plt.scatter(wvl[index]*1e9,est_r0[index]*100.,label=\"Fit\",zorder=1,s=25)\n",
    "plt.xlabel(\"Lambda [nm]\",fontsize=10)\n",
    "plt.ylabel(\"r0 [cm]\",fontsize=10)\n",
    "\n",
    "ax.scatter(wvl*1e9,est_r0*100, s = 10, label = 'fitted parameter')\n",
    "# ax.scatter(wvl*1e9,amiral_samp_r0*100, s = 10, color = 'r', label = 'amiral')\n",
    "\n",
    "ax.set_ylabel(r'$\\mathrm{r_0[cm]}$', fontsize = 14)\n",
    "ax.set_xlabel(r'$\\mathrm{wavelength [nm]}$', fontsize = 14)\n",
    "\n",
    "ax.legend(loc=1)\n",
    "\n"
   ]
  },
  {
   "cell_type": "code",
   "execution_count": null,
   "metadata": {},
   "outputs": [],
   "source": [
    "rcParams['figure.figsize'] = 16,9\n",
    "\n",
    "fig, ax = plt.subplots()\n",
    "\n",
    "# ax[0].set_xlim(np.min(true_flux), np.max(true_flux))\n",
    "ax.scatter(wvl*1e9,est_r0*100, s = 10, label = 'fitted parameter')\n",
    "ax.scatter(wvl*1e9,amiral_r0*100, s = 10, color = 'r', label = 'amiral')\n",
    "\n",
    "ax.set_ylabel(r'$\\mathrm{r_0[cm]}$', fontsize = 14)\n",
    "ax.set_xlabel(r'$\\mathrm{wavelength [nm]}$', fontsize = 14)\n",
    "\n",
    "\n",
    "ax1 = ax.twinx()\n",
    "ax1.set_ylabel(r'$\\mathrm{k}$', fontsize = 14)\n",
    "ax1.scatter(wvl*1e9,k, s = 10, color = 'g', label = 'k')\n",
    "ax.legend(loc=1)\n",
    "ax1.legend(loc=4)\n",
    "\n",
    "\n",
    "\n"
   ]
  },
  {
   "cell_type": "code",
   "execution_count": null,
   "metadata": {},
   "outputs": [],
   "source": [
    "rcParams['figure.figsize'] = 16,9\n",
    "fig, ax = plt.subplots()\n",
    "\n",
    "# ax[0].set_xlim(np.min(true_flux), np.max(true_flux))\n",
    "\n",
    "ax.scatter(wvl*1e9,est_r0*100-amiral_samp_r0*100, s = 10)\n",
    "# ax.scatter(wvl*1e9,amiral_r0*100, s = 10, color = 'r')\n",
    "ax.set_ylabel(r'$\\mathrm{diff(r0)[cm]}$', fontsize = 14)\n",
    "ax.set_ylim(-2.5,2.5)\n",
    "ax.set_xlabel(r'$\\mathrm{wavelength [nm]}$', fontsize = 14)"
   ]
  },
  {
   "cell_type": "code",
   "execution_count": null,
   "metadata": {},
   "outputs": [],
   "source": [
    "rcParams['figure.figsize'] = 16,9\n",
    "\n",
    "fig, ax = plt.subplots()\n",
    "ax.scatter(wvl*1e9,est_sig2, s = 10)\n",
    "ax.set_ylabel(r'$\\mathrm{Variance [rad^2]}$', fontsize = 14)\n",
    "ax.set_xlabel('$\\lambda$ [nm]',fontsize=14)"
   ]
  },
  {
   "cell_type": "code",
   "execution_count": null,
   "metadata": {},
   "outputs": [],
   "source": [
    "rcParams['figure.figsize'] = 16,9\n",
    "\n",
    "fig, ax = plt.subplots(2,1)\n",
    "\n",
    "ax[0].scatter(wvl*1e9,est_r0*100, s = 14)\n",
    "ax[0].set_ylabel(r'$\\mathrm{r_0 [m]}$', fontsize = 14)\n",
    "ax[0].set_xlabel('$\\lambda$ [nm]',fontsize=14)\n",
    "\n",
    "ax[1].scatter(wvl*1e9,est_sig2, s = 14)\n",
    "ax[1].set_ylabel(r'$\\mathrm{sig2 [rad^2]}$', fontsize = 14)\n",
    "ax[1].set_xlabel('$\\lambda$ [nm]',fontsize=14)\n",
    "\n"
   ]
  },
  {
   "cell_type": "code",
   "execution_count": null,
   "metadata": {},
   "outputs": [],
   "source": [
    "rcParams['figure.figsize'] = 16,9\n",
    "\n",
    "fig, ax = plt.subplots()\n",
    "\n",
    "ax.scatter(est_sig2,est_r0,s = 10)\n",
    "ax.set_xlabel(r'$\\mathrm{sig2 [rad^2]}$', fontsize = 14)\n",
    "ax.set_ylabel(r'$\\mathrm{r_0 [m]}$', fontsize = 14)\n"
   ]
  },
  {
   "cell_type": "code",
   "execution_count": null,
   "metadata": {},
   "outputs": [],
   "source": [
    "index"
   ]
  },
  {
   "cell_type": "code",
   "execution_count": null,
   "metadata": {},
   "outputs": [],
   "source": [
    "from scipy.optimize import least_squares\n",
    "\n",
    "\n",
    "rcParams['figure.figsize'] = 16,9\n",
    "\n",
    "est_r0 = amiral_samp_r0\n",
    "\n",
    "\n",
    "#%% PLOTS\n",
    "Nslice = len(est_r0)\n",
    "\n",
    "laser_min = 575 -5 # [rjlf] approximative wavelength of the dichroic on MUSE due to LGS\n",
    "laser_max = 595 +7\n",
    "\n",
    "index = np.where(est_r0 > 0)[0] # [rjlf] do not account for r0 that where not properly fitted\n",
    "\n",
    "# [rjlf] Fit all the r0 found with the theoretical curve: r0 ~ wvl^(6/5)\n",
    "def cost(r):\n",
    "    return est_r0[index] - r*(wvl[index]/500.*1e9)**(6./5.)\n",
    "\n",
    "roptim = least_squares(cost,0.13).x[0]\n",
    "\n",
    "plt.figure(1)\n",
    "plt.clf()\n",
    "ax = plt.subplot(111)\n",
    "plt.plot(wvl[index]*1e9,(roptim*(wvl[index]/500.*1e9)**(6./5.))*100.,color=\"C1\",linewidth=4,label=\"Theory\",zorder=0)\n",
    "plt.scatter(wvl[index]*1e9,est_r0[index]*100.,label=\"Fit\",zorder=1,s=25)\n",
    "plt.xlabel(\"Lambda [nm]\",fontsize=10)\n",
    "plt.ylabel(\"r0 [cm]\",fontsize=10)\n",
    "# plt.ylim(5,25)\n",
    "# plt.xlim(400,950)\n",
    "#plt.fill([laser_min,laser_max,laser_max,laser_min],[plt.ylim()[0],plt.ylim()[0],plt.ylim()[1],plt.ylim()[1]],color=\"gray\",alpha=.5)\n",
    "#plt.title(\"Fried parameter\")\n",
    "plt.legend()\n",
    "plt.xticks()\n",
    "plt.yticks()\n",
    "#plt.fill([laser_min,laser_max,laser_max,laser_min],[plt.ylim()[0],plt.ylim()[0],plt.ylim()[1],plt.ylim()[1]],color=\"gray\",alpha=.5)\n",
    "\n",
    "print(\"r0[500nm] = %.2f cm\"%(roptim*100))\n",
    "\n",
    "plt.legend(fontsize=20)\n",
    "plt.xticks(fontsize=20)\n",
    "plt.yticks(fontsize=20)\n",
    "plt.xlabel('$\\lambda$ [nm]',fontsize=20)\n",
    "plt.ylabel('$r_0$ [cm]',fontsize=20)\n"
   ]
  },
  {
   "cell_type": "code",
   "execution_count": null,
   "metadata": {},
   "outputs": [],
   "source": [
    "alpha = ganymede_result['alpha']\n",
    "\n",
    "\n",
    "rcParams['figure.figsize'] = 16,9\n",
    "\n",
    "fig, ax = plt.subplots()\n",
    "ax.scatter(wvl*1e9,alpha,s = 14)\n",
    "ax.set_xlabel('$\\lambda$ [nm]',fontsize=14)\n",
    "ax.set_ylabel(r'$\\alpha$', fontsize = 14)\n",
    "\n"
   ]
  },
  {
   "cell_type": "code",
   "execution_count": null,
   "metadata": {},
   "outputs": [],
   "source": [
    "beta = ganymede_result['beta']\n",
    "\n",
    "\n",
    "rcParams['figure.figsize'] = 16,9\n",
    "\n",
    "fig, ax = plt.subplots()\n",
    "\n",
    "ax.scatter(wvl*1e9,beta,s = 14)\n",
    "ax.set_xlabel('$\\lambda$ [nm]',fontsize=14)\n",
    "ax.set_ylabel(r'$\\beta$', fontsize = 14)\n",
    "\n"
   ]
  },
  {
   "cell_type": "code",
   "execution_count": null,
   "metadata": {},
   "outputs": [],
   "source": [
    "alpha \n"
   ]
  },
  {
   "cell_type": "markdown",
   "metadata": {},
   "source": [
    "Plotting the residual"
   ]
  },
  {
   "cell_type": "code",
   "execution_count": null,
   "metadata": {},
   "outputs": [],
   "source": [
    "from maoppy.utils import circavg, circavgplt\n",
    "\n",
    "wdir = '/Users/alau/Data/MUSE_DATA/HD_146233/'\n",
    "# fitsname = ['HD_146233_cube_2_binned_10.fits', 'test_2_samp.fits']\n",
    "fitsname = ['HD_146233_cube_2_binned_10.fits', 'test_2.fits']"
   ]
  },
  {
   "cell_type": "code",
   "execution_count": null,
   "metadata": {},
   "outputs": [],
   "source": [
    "def plt_psf_residual (PSF, FIT, wvl,center = None):\n",
    "    plt.clf()\n",
    "    ax.clear()\n",
    "    \n",
    "    if center == None: \n",
    "        x,y = circavgplt(PSF)\n",
    "        xm,ym = circavgplt(FIT)\n",
    "        xp,yp = circavgplt(np.abs(PSF-FIT))\n",
    "        \n",
    "    else: \n",
    "        x,y = circavgplt(PSF, center = center)\n",
    "        xm,ym = circavgplt(FIT, center = center)\n",
    "        xp,yp = circavgplt(np.abs(PSF-FIT), center = center)\n",
    "        \n",
    "    plt.semilogy(x,y,label=\"PSF\")\n",
    "    plt.semilogy(xm,ym,label=\"MODEL\")\n",
    "    plt.semilogy(xp,(yp),label=\"|PSF-MODEL|\")\n",
    "    plt.xlabel('Pixel')\n",
    "    # plt.xlim(-50,50)\n",
    "#     plt.ylim(1e2,6e8)\n",
    "    plt.title(\"wvl = %unm\"%(wvl*1e9))\n",
    "    plt.legend()\n",
    "    \n",
    "    plt.draw()\n",
    "        \n",
    "    pass"
   ]
  },
  {
   "cell_type": "code",
   "execution_count": null,
   "metadata": {},
   "outputs": [],
   "source": [
    "_result = fits.open(wdir+fitsname[0])\n",
    "results = _result[1].data\n",
    "\n",
    "center = (111,105)\n",
    "\n",
    "results = array.resize_array(results, size = 100, cent=center)\n",
    "\n",
    "_sim = fits.open(wdir+fitsname[1])\n",
    "sim_cube = _sim[1].data\n"
   ]
  },
  {
   "cell_type": "code",
   "execution_count": null,
   "metadata": {},
   "outputs": [],
   "source": [
    "plt.imshow(np.log10(np.abs(results[10]-sim_cube[10])+1e-5))"
   ]
  },
  {
   "cell_type": "code",
   "execution_count": null,
   "metadata": {},
   "outputs": [],
   "source": [
    "center = (111,104)\n",
    "\n",
    "\n",
    "wvl_start = _result[1].header['CRVAL3']*1e-10 # wvl in metre\n",
    "wvl_slice = _result[1].header['CD3_3']*1e-10 # wvl in metre\n",
    "\n",
    "num = 200\n",
    "\n",
    "plt_psf_residual(results[num], sim_cube[num], wvl = wvl[num], center = center)\n"
   ]
  },
  {
   "cell_type": "code",
   "execution_count": null,
   "metadata": {},
   "outputs": [],
   "source": [
    "import matplotlib.animation as animation\n",
    "%matplotlib inline\n",
    "from IPython.display import HTML\n",
    "\n",
    "n_img = len(results)\n",
    "\n",
    "def animate_residual_img (i):\n",
    "    plt.clf()\n",
    "    ax.clear()\n",
    "    \n",
    "    print(\"Step %d\" %(i))\n",
    "    \n",
    "    plt.imshow(np.log10(np.abs(results[i]- sim_cube[i]))+ 1e-5)\n",
    "    plt.colorbar(label = 'log10(Intensity)')\n",
    "\n",
    "    plt.title('Residual \\n[wvl: %.1f [nm]]' %(wvl[i]*1e9), fontsize = 12)\n",
    "    plt.draw()\n",
    "\n",
    "fig = plt.figure()\n",
    "ax = fig.subplots()\n",
    "\n",
    "ani = animation.FuncAnimation(fig, animate_residual_img, frames = n_img, interval = 500)\n",
    "\n",
    "HTML(ani.to_html5_video())\n",
    "\n",
    "dpi = 300\n",
    "writer = animation.writers['ffmpeg'](fps=15)\n",
    "ani.save('residual_img_cube_2.mp4',writer=writer,dpi=dpi)"
   ]
  },
  {
   "cell_type": "code",
   "execution_count": null,
   "metadata": {},
   "outputs": [],
   "source": [
    "def animate_residual (i): \n",
    "    print(\"Step %d\" %(i))\n",
    "    \n",
    "    plt.clf()\n",
    "    ax.clear()\n",
    "    \n",
    "    if center == None: \n",
    "        x,y = circavgplt(results[i])\n",
    "        xm,ym = circavgplt(sim_cube[i])\n",
    "        xp,yp = circavgplt(np.abs(results[i]-sim_cube[i]))\n",
    "        \n",
    "    else: \n",
    "        x,y = circavgplt(results[i], center = center)\n",
    "        xm,ym = circavgplt(sim_cube[i], center = center)\n",
    "        xp,yp = circavgplt(np.abs(results[i]-sim_cube[i]), center = center)\n",
    "        \n",
    "    plt.semilogy(x,y,label=\"PSF\")\n",
    "    plt.semilogy(xm,ym,label=\"MODEL\")\n",
    "    plt.semilogy(xp,(yp),label=\"|PSF-MODEL|\")\n",
    "    plt.xlabel('Pixel')\n",
    "    plt.title(\"wvl = %unm\"%(wvl[i]*1e9))\n",
    "    plt.legend()\n",
    "    \n",
    "    plt.draw()\n",
    "    \n",
    "fig = plt.figure()\n",
    "ax = fig.subplots()\n",
    "ani = animation.FuncAnimation(fig, animate_residual, frames = n_img, interval = 500)\n",
    "HTML(ani.to_html5_video())\n",
    "\n",
    "# dpi = 300\n",
    "# writer = animation.writers['ffmpeg'](fps=15)\n",
    "# ani.save('residual_cube_samp_2.mp4',writer=writer,dpi=dpi)\n"
   ]
  },
  {
   "cell_type": "code",
   "execution_count": null,
   "metadata": {},
   "outputs": [],
   "source": []
  },
  {
   "cell_type": "code",
   "execution_count": null,
   "metadata": {},
   "outputs": [],
   "source": [
    "print('End')"
   ]
  },
  {
   "cell_type": "code",
   "execution_count": null,
   "metadata": {},
   "outputs": [],
   "source": [
    "os.getcwd()"
   ]
  },
  {
   "cell_type": "code",
   "execution_count": null,
   "metadata": {},
   "outputs": [],
   "source": [
    "plt.imshow(results_cropped[2]-sim_cube[2])"
   ]
  },
  {
   "cell_type": "code",
   "execution_count": null,
   "metadata": {},
   "outputs": [],
   "source": []
  }
 ],
 "metadata": {
  "kernelspec": {
   "display_name": "Python 3",
   "language": "python",
   "name": "python3"
  },
  "language_info": {
   "codemirror_mode": {
    "name": "ipython",
    "version": 3
   },
   "file_extension": ".py",
   "mimetype": "text/x-python",
   "name": "python",
   "nbconvert_exporter": "python",
   "pygments_lexer": "ipython3",
   "version": "3.6.12"
  }
 },
 "nbformat": 4,
 "nbformat_minor": 4
}
