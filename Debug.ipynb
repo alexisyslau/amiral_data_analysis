{
 "cells": [
  {
   "cell_type": "markdown",
   "metadata": {},
   "source": [
    "## Description\n",
    "This is a notebook for debugging the quantity in the amiral code for both the python and the IDL version. \n",
    "\n",
    "At the moment, the IDL version is working properly but we do need to check the defintion for the Fourier variables (regarding fft shift and fft transform). We need to make sure that we are not being an idiot ;) \n",
    "\n",
    "#### Make sure before you perform fft, you shift the frequency domain back into the quarant ...\n",
    "\n",
    "\n"
   ]
  },
  {
   "cell_type": "markdown",
   "metadata": {},
   "source": [
    "# Section\n",
    "<details>\n",
    "  <summary>Click to expand!</summary>\n",
    "  \n",
    "  ## Heading\n",
    "  1. [Generate a PSF](#Generate-a-PSF)\n",
    "    * [Zero Padding](#Zero-Padding)\n",
    "    * [Setting up the system](#Setting-up-the-system)\n",
    "    * [Pupil Function](#Pupil-Function)\n",
    "    \n",
    "  2.[Minimisation](#Minimisation)\n",
    "    \n",
    "  3.[How to fix the differences?](#How-to-fix-the-differences?)\n",
    "    \n",
    "  3.[Doesnt match with the IDL output](#Doesnt-match)\n",
    "  \n",
    "</details>"
   ]
  },
  {
   "cell_type": "code",
   "execution_count": null,
   "metadata": {},
   "outputs": [],
   "source": [
    "# Packages required\n",
    "import numpy as np\n",
    "import matplotlib.pyplot as plt\n",
    "from matplotlib import rcParams\n",
    "from astropy.io import fits\n",
    "import os\n",
    "#Change to your path\n",
    "os.chdir(\"/Users/alau/Repo/amiral\")\n",
    "from amiral import instructment, utils, parameter, gradient\n",
    "from scipy.optimize import minimize \n",
    "%matplotlib inline"
   ]
  },
  {
   "cell_type": "code",
   "execution_count": null,
   "metadata": {},
   "outputs": [],
   "source": [
    "# Global variable\n",
    "# Parameters to modify\n",
    "SEED = -1234       # Seed for random numbers generation\n",
    "FLUX = 5e8         # Object total intensity [e-]\n",
    "READ_OUT_NOISE = 10. # CCD read-out noise standard-deviation [e-]\n",
    "DATA_DIR = \"/Users/alau/IDLWorkspace/Data/Vesta_OASIS/\"\n",
    "DATA_FITS = DATA_DIR + \"2018-06-08T05_27_05.809.fits\"\n",
    "DIMENSION = 256 # Dimension of the image\n",
    "LOOP = True\n",
    "test_data_dir = \"/Users/alau/Data/amiral_fits/\""
   ]
  },
  {
   "cell_type": "code",
   "execution_count": null,
   "metadata": {
    "scrolled": true
   },
   "outputs": [],
   "source": [
    "# Setup of the system\n",
    "fits_img = fits.open(DATA_FITS)\n",
    "fits_img.info() \n",
    "\n",
    "obj = fits_img[0].data\n",
    "obj_resize = np.zeros((DIMENSION,DIMENSION))\n",
    "\n",
    "cuta = DIMENSION//2-128\n",
    "cutb = DIMENSION//2+128\n",
    "\n",
    "obj_resize[cuta:cutb,cuta:cutb] = obj\n",
    "\n",
    "# Calibrating the flux\n",
    "obj_resize = obj_resize/np.sum(obj_resize)*FLUX\n",
    "\n",
    "aosys = instructment.aoSystem(diameter = 7., occ_ratio = 0.1, no_acutuator = 30,resolution_rad = 3.5e-8, wavelength = 500*1e-9, dimension = DIMENSION)\n",
    "fX, fY, freqnull = aosys.psd_frequency_array(DIMENSION, aosys.samp_factor[0])\n",
    "\n",
    "pupil = aosys.get_pupil_plane()\n",
    "\n",
    "otf_tel = aosys.pupil_to_otf_tel(pupil, absolute = True)\n",
    "psf_tel = np.real(utils.ifft2D((otf_tel)))\n",
    "\n",
    "param = {\n",
    "    \"r0\": 0.2,                  \n",
    "    \"background\": 1.5e-10 ,      \n",
    "    \"amplitude\": 2.1,       \n",
    "    \"ax\": 0.05,                            \n",
    "    \"ay\": 0.05, \n",
    "    \"theta\": 0., \n",
    "    \"beta\": 1.5,\n",
    "    \"mu\": 1., \n",
    "    \"rho0\": 1., \n",
    "    \"p\": 1.\n",
    "}\n",
    "\n",
    "aosys_dict = {\n",
    "        'diameter': 7 , \n",
    "        'occ_ratio': 0.1 , \n",
    "        'no_acutuator' : 30, \n",
    "        'wavelength': 500, \n",
    "        'dimension': 256,\n",
    "        'resolution_rad' : 3.5e-8\n",
    "    }\n",
    "param_key, param_input = utils.dict2array(param)\n",
    "\n",
    "psd_ao = aosys.psd_residual_ao (guess = param_input)\n",
    "psd_halo = aosys.psd_residual_halo(r0=param[\"r0\"])\n",
    "\n",
    "psd = psd_halo + psd_ao \n",
    "\n",
    "integral, SR = aosys.psd_integral(psd, r0=param[\"r0\"])\n",
    "otf_atmo = aosys.otf_atmo(psd)\n",
    "otf_total = aosys.otf_total(otf_tel, otf_atmo)\n",
    "psf_total = aosys.psfao(otf_total)\n",
    "\n",
    "\n",
    "print(\"\\nSum of the PSF (which should be excatly 1.)\", np.sum(np.abs(psf_total)))\n",
    "print(\"\\nMax of the otf_atmo: (which should be excatly 1.)\", np.max(otf_atmo))\n",
    "print(\"\\nMax of the otf_tel: (which should be excatly 1.)\", np.max(otf_tel))\n",
    "print(\"\\nMax of the OTF (which should be excatly 1.)\", np.max(otf_total))"
   ]
  },
  {
   "cell_type": "code",
   "execution_count": null,
   "metadata": {},
   "outputs": [],
   "source": [
    "# Import the Data from IDL\n",
    "fits_img = fits.open(\"/Users/alau/Data/amiral_fits/image_noise.fits\")\n",
    "fits_img.info() \n",
    "\n",
    "conv_image = fits_img[0].data\n",
    "print(np.max(conv_image), np.min(conv_image))\n",
    "\n",
    "print(aosys.samp_factor)"
   ]
  },
  {
   "cell_type": "markdown",
   "metadata": {},
   "source": [
    "## AMIRAL guess"
   ]
  },
  {
   "cell_type": "code",
   "execution_count": null,
   "metadata": {},
   "outputs": [],
   "source": [
    "amiral_guess = {\n",
    "    \"r0\": 0.2,                  \n",
    "    \"background\": 1.5e-10 ,      \n",
    "    \"amplitude\": 2.1,       \n",
    "    \"ax\": 0.05,                            \n",
    "    \"beta\": 1.5\n",
    "}"
   ]
  },
  {
   "cell_type": "code",
   "execution_count": null,
   "metadata": {},
   "outputs": [],
   "source": [
    "psf_param, psf_guess = utils.dict2array(amiral_guess)\n",
    "\n",
    "amiralparam = parameter.amiralParam(img=conv_image, guess = psf_guess, aosys = aosys)\n",
    "\n",
    "hyper_min, hyper_max = amiralparam.hyperparam_bound(psf_guess, p_upperbound = 100., debug=True)\n",
    "\n",
    "hyper_guess = amiralparam.hyperparam_initial(psf_guess, debug = True)\n",
    "\n",
    "param_min = np.asarray([0.01,0,0,1e-8,1.01])\n",
    "param_max =  np.asarray([1.,1e8,1e8,1e3,10])\n",
    "\n",
    "upperbound = np.concatenate((param_max, hyper_max))\n",
    "lowerbound = np.concatenate((param_min, hyper_min))\n",
    "\n",
    "param_numerical_condition = np.array([1., 1e-4, 1., 1., 1.])\n",
    "#hyperparam_numerical_condition = np.array([hyper_guess[0], hyper_guess[1], 1.])\n",
    "hyperparam_numerical_condition = np.array([hyper_guess[0], 2., 1.])\n",
    "\n",
    "numerical_condition = np.concatenate((param_numerical_condition, hyperparam_numerical_condition))\n",
    "\n",
    "\n",
    "# Note that I tried Boolean mask but it doesnt work ...\n",
    "param_mask = np.array([1, 1, 1, 1, 1])\n",
    "hyper_param_mask = np.array([1, 1, 1])\n",
    "\n",
    "mask = np.concatenate((param_mask,hyper_param_mask))\n",
    "\n",
    "psf_guess = np.concatenate((psf_guess, hyper_guess))\n",
    "\n",
    "amiral_child = parameter.amiral(img=conv_image, guess=psf_guess, aosys = aosys, upperbound = upperbound, lowerbound= lowerbound, numerical_condition = numerical_condition, fourier_variable = amiralparam.fourier_variable, mask = mask)\n",
    "\n",
    "amiral_child.varible4criterion(psf_guess)\n",
    "print(psf_guess)"
   ]
  },
  {
   "cell_type": "markdown",
   "metadata": {},
   "source": [
    "## Minimisation"
   ]
  },
  {
   "cell_type": "code",
   "execution_count": null,
   "metadata": {},
   "outputs": [],
   "source": [
    "print(psf_guess)"
   ]
  },
  {
   "cell_type": "code",
   "execution_count": null,
   "metadata": {},
   "outputs": [],
   "source": [
    "print(conv_image.shape)"
   ]
  },
  {
   "cell_type": "markdown",
   "metadata": {},
   "source": [
    "## Debug"
   ]
  },
  {
   "cell_type": "markdown",
   "metadata": {},
   "source": [
    "#### Matched with IDL output\n",
    "- fourier_variable[ft(im)]\n",
    "- image\n",
    "- fourier_variable[\"ft(mean_object)\"]"
   ]
  },
  {
   "cell_type": "code",
   "execution_count": null,
   "metadata": {},
   "outputs": [],
   "source": [
    "# image (Matched IDL definition as it is directly copied from IDL)\n",
    "print(\"fourier_variable[ft(im)]\\n=============================\")\n",
    "utils.info(conv_image)"
   ]
  },
  {
   "cell_type": "code",
   "execution_count": null,
   "metadata": {},
   "outputs": [],
   "source": [
    "# ft_im - matched the IDL output\n",
    "ft_im = utils.fft2D(conv_image, DIMENSION)\n",
    "ft_image = np.fft.fft2(conv_image)\n",
    "\n",
    "plt.imshow(np.real(np.log10(ft_image)))\n",
    "\n",
    "print(\"fourier_variable[ft(im)]\\n=============================\")\n",
    "utils.info(ft_im, imaginary = True)\n",
    "\n",
    "print(\"fourier_variable[absft(im)]\\n=============================\")\n",
    "utils.info(np.abs(ft_image), imaginary = True)"
   ]
  },
  {
   "cell_type": "code",
   "execution_count": null,
   "metadata": {},
   "outputs": [],
   "source": [
    "# fourier_variable[\"ft(mean_object)\"] - matched the IDL output\n",
    "utils.info(amiral_child.fourier_variable[\"ft(mean_object)\"], imaginary = True)\n",
    "plt.imshow(np.log10(np.abs(amiral_child.fourier_variable[\"ft(mean_object)\"]+0.1)))"
   ]
  },
  {
   "cell_type": "markdown",
   "metadata": {},
   "source": [
    "#### How to fix the differences? \n",
    "From directly taking the PSD ouptut from IDL and using our functions to produce the OTF, we know the errors that we have been getting **is not from Fourier Transform**. It is likely due to different defintions in the PSD:\n",
    "\n",
    "Therefore, we shall check the definition of the PSDs and compare the output!\n",
    "\n",
    "**Potential reason**\n",
    "- Look at the PSD_AO from IDL, at the edge of the cutoff frequency, there are a few spots ... "
   ]
  },
  {
   "cell_type": "code",
   "execution_count": null,
   "metadata": {
    "scrolled": true
   },
   "outputs": [],
   "source": [
    "# psd_halo - matched the IDL output \n",
    "fXY = aosys.fX**2 + aosys.fY**2\n",
    "print(np.where (fXY == 0))\n",
    "fits_img = fits.open(test_data_dir +\"psd_halo.fits\")\n",
    "psd_halo_IDL = fits_img[0].data\n",
    "diff = psd_halo_IDL - psd_halo\n",
    "\n",
    "diff = utils.view_diff(psd_halo_IDL,psd_halo)\n",
    "\n",
    "utils.info(diff)\n",
    "\n",
    "ind = np.where (diff == np.min(diff))\n",
    "\n",
    "plt.imshow(diff[256-80:256+80,256-80:256+80])\n",
    "\n",
    "diff[np.where((diff == np.min(diff)))] = 1e-10\n",
    "\n",
    "plt.imshow(diff[256-80:256+80,256-80:256+80])"
   ]
  },
  {
   "cell_type": "code",
   "execution_count": null,
   "metadata": {},
   "outputs": [],
   "source": [
    "fits_img = fits.open(test_data_dir +\"psd_halo_array.fits\")\n",
    "fXY_IDL = fits_img[0].data\n",
    "fXY_array = (fXY >= aosys.ao_cutoff_freq**2)\n",
    "\n",
    "diff = utils.view_diff(fXY_array,fXY_IDL)\n",
    "\n",
    "\n",
    "utils.info(diff)"
   ]
  },
  {
   "cell_type": "code",
   "execution_count": null,
   "metadata": {},
   "outputs": [],
   "source": [
    "# test_psd_halo = 0.0229 * (0.15**(-5./3.))* (((1./10.**2)+fXY)**(-11./6.))\n",
    "Lext = 10.\n",
    "\n",
    "test_psd_halo = ((1./Lext**2)+fXY)**(-11./6.)\n",
    "\n",
    "fits_img = fits.open(test_data_dir +\"psd_halo_test.fits\")\n",
    "test_psd_halo_IDL = np.transpose(fits_img[0].data)\n",
    "\n",
    "\n",
    "diff = utils.view_diff(test_psd_halo_IDL,test_psd_halo)\n",
    "\n",
    "utils.info(diff)\n",
    "\n",
    "plt.imshow(diff[256-80:256+80,256-80:256+80])"
   ]
  },
  {
   "cell_type": "code",
   "execution_count": null,
   "metadata": {},
   "outputs": [],
   "source": [
    "# fig, ax =  plt.subplots(1,3)\n",
    "\n",
    "# pos = ax[0].imshow(diff)\n",
    "# ax[0].set_title('PSD halo diff')\n",
    "# fig.colorbar(pos, ax=ax[0])\n",
    "\n",
    "# pos = ax[1].imshow(psd_halo)\n",
    "# ax[1].set_title('PSD halo (python)')\n",
    "# fig.colorbar(pos, ax=ax[1])\n",
    "\n",
    "\n",
    "# pos = ax[2].imshow(psd_halo_IDL)\n",
    "# ax[2].set_title('PSD halo (IDL)')\n",
    "# fig.colorbar(pos, ax=ax[2])\n",
    "\n",
    "# plt.tight_layout()"
   ]
  },
  {
   "cell_type": "code",
   "execution_count": null,
   "metadata": {},
   "outputs": [],
   "source": [
    "# psd - matched the IDL output \n",
    "fits_img = fits.open(test_data_dir+\"psd_total.fits\")\n",
    "psd_IDL= fits_img[0].data\n",
    "\n",
    "psd_ao_IDL = psd_IDL-psd_halo_IDL\n",
    "\n",
    "psd_ao_diff = psd_ao - psd_ao_IDL \n",
    "\n",
    "diff = utils.view_diff(psd_ao, psd_ao_IDL)\n",
    "\n",
    "utils.info(psd_ao_diff)"
   ]
  },
  {
   "cell_type": "code",
   "execution_count": null,
   "metadata": {},
   "outputs": [],
   "source": [
    "# fig, ax =  plt.subplots(1,3)\n",
    "\n",
    "# pos = ax[0].imshow(psd_ao_diff[256-70:256+70,256-70:256+70])\n",
    "# ax[0].set_title('PSD AO Diff')\n",
    "# fig.colorbar(pos, ax=ax[0])\n",
    "\n",
    "# pos = ax[1].imshow(np.log10(psd_ao[256-70:256+70,256-70:256+70]))\n",
    "# ax[1].set_title('PSD AO (python)')\n",
    "# fig.colorbar(pos, ax=ax[1])\n",
    "\n",
    "\n",
    "# pos = ax[2].imshow(np.log10(psd_ao_IDL[256-70:256+70,256-70:256+70]))\n",
    "# ax[2].set_title('PSD AO (IDL)')\n",
    "# fig.colorbar(pos, ax=ax[2])\n",
    "\n",
    "# plt.tight_layout()"
   ]
  },
  {
   "cell_type": "code",
   "execution_count": null,
   "metadata": {},
   "outputs": [],
   "source": [
    "# plt.imshow(np.log10(diff[256-80:256+80,256-80:256+80]))"
   ]
  },
  {
   "cell_type": "code",
   "execution_count": null,
   "metadata": {},
   "outputs": [],
   "source": [
    "# fig, ax =  plt.subplots(1,3)\n",
    "\n",
    "# pos = ax[0].imshow(diff)\n",
    "# ax[0].set_title('PSD diff')\n",
    "# fig.colorbar(pos, ax=ax[0])\n",
    "\n",
    "# pos = ax[1].imshow(np.log10(psd[256-80:256+80,256-80:256+80]))\n",
    "# ax[1].set_title('PSD (python)')\n",
    "# fig.colorbar(pos, ax=ax[1])\n",
    "\n",
    "\n",
    "# pos = ax[2].imshow(np.log10(psd_IDL[256-80:256+80,256-80:256+80]))\n",
    "# ax[2].set_title('PSD (IDL)')\n",
    "# fig.colorbar(pos, ax=ax[2])\n",
    "\n",
    "# plt.tight_layout()"
   ]
  },
  {
   "cell_type": "code",
   "execution_count": null,
   "metadata": {},
   "outputs": [],
   "source": [
    "# # otf_atmo - matched the IDL output\n",
    "# #utils.info(otf_atmo, imaginary=True)\n",
    "# fits_img = fits.open(\"/Users/alau/otf_atmo_abs.fits\")\n",
    "# otf_atmo_IDL = fits_img[0].data\n",
    "# diff = np.abs(otf_atmo_IDL - otf_atmo)\n",
    "\n",
    "# fits_img = fits.open(\"/Users/alau/Bphi.fits\")\n",
    "# Bphi_IDL = fits_img[0].data"
   ]
  },
  {
   "cell_type": "code",
   "execution_count": null,
   "metadata": {},
   "outputs": [],
   "source": [
    "# # how you get otf_atmo \n",
    "# L = aosys.diameter * aosys.sampling # Checked\n",
    "# B_phi_IDL = np.fft.fft2(np.fft.fftshift(psd_IDL)) / L**2 # Checked\n",
    "# D_phi = np.fft.fftshift(np.real(2.* (B_phi_IDL.max() - B_phi_IDL))) # Checked\n",
    "# otf_atmo_psd_IDL = np.exp(-D_phi/2)\n",
    "\n",
    "# print(type(L))\n",
    "# fig, ax = plt.subplots()\n",
    "# pos = ax.imshow(np.real(Bphi_IDL-B_phi_IDL))\n",
    "# ax.set_title(\"Numerical noise of FFT\")\n",
    "# # pos = ax.imshow(np.real(diff))\n",
    "# fig.colorbar(pos)"
   ]
  },
  {
   "cell_type": "markdown",
   "metadata": {},
   "source": [
    "#### OTF(atmosphere)\n",
    "From the above figure, we find out that the numerical noise shoud be 1e-16. However, we are seeing 1e-8 difference between the IDL and the python output. \n",
    "\n",
    "**Is there any other sources of errros?**"
   ]
  },
  {
   "cell_type": "code",
   "execution_count": null,
   "metadata": {},
   "outputs": [],
   "source": [
    "# fig, ax = plt.subplots()\n",
    "# #pos = ax.imshow(np.real(otf_atmo_IDL-otf_atmo_psd_IDL))\n",
    "# pos = ax.imshow(otf_atmo_IDL-otf_atmo)\n",
    "# fig.colorbar(pos)"
   ]
  },
  {
   "cell_type": "code",
   "execution_count": null,
   "metadata": {},
   "outputs": [],
   "source": [
    "# fig, ax =  plt.subplots(1,3)\n",
    "\n",
    "# print(diff.dtype)\n",
    "# print(otf_atmo[0,0])\n",
    "\n",
    "# pos = ax[0].imshow(np.log10(diff[256-80:256+80,256-80:256+80]))\n",
    "# ax[0].set_title('OTF_atmo diff')\n",
    "# fig.colorbar(pos, ax=ax[0])\n",
    "\n",
    "# pos = ax[1].imshow(otf_atmo[256-80:256+80,256-80:256+80])\n",
    "# ax[1].set_title('OTF_atmo (python)')\n",
    "# fig.colorbar(pos, ax=ax[1])\n",
    "\n",
    "\n",
    "# pos = ax[2].imshow(otf_atmo_IDL[256-80:256+80,256-80:256+80])\n",
    "# ax[2].set_title('OTF_atmo (IDL)')\n",
    "# fig.colorbar(pos, ax=ax[2])\n",
    "\n",
    "# plt.tight_layout()"
   ]
  },
  {
   "cell_type": "markdown",
   "metadata": {},
   "source": [
    "#### In progress"
   ]
  },
  {
   "cell_type": "markdown",
   "metadata": {},
   "source": [
    "For each variable, check the following: \n",
    "- max, min, mean, sum \n",
    "- sum(abs())\n",
    "\n",
    "\n",
    "One thing \n",
    "- we know the otf_atmo is correct but the otf_tel is not correct due to the different definition. \n",
    "\n",
    "Question \n",
    "\n",
    "- We are using || for fourier variables, as long as the sum is the same, it should be fine? \n",
    "\n",
    "Current problem \n",
    "\n",
    "- I dont think we have the same defintion of fft and ifft, in order the have the same output, we must match all the defintions ... "
   ]
  },
  {
   "cell_type": "markdown",
   "metadata": {},
   "source": [
    "#### Diffraction-limited OTF \n",
    "There is still something wrong with the defintion of the diffraction-limited OTF."
   ]
  },
  {
   "cell_type": "markdown",
   "metadata": {},
   "source": [
    "Due to the error in otf_tel, the ft_psf is off too ... which means terms containing ft_psf is wrong ... "
   ]
  },
  {
   "cell_type": "markdown",
   "metadata": {},
   "source": [
    "Let's investigate!"
   ]
  },
  {
   "cell_type": "markdown",
   "metadata": {},
   "source": [
    "Therefore, from the python version, we can see that the difference between the real and the absolute value should not matter that much if phase is not playing a huge role. \n",
    "\n",
    "However, the defition of the OTF shows that OTF is a complex function."
   ]
  },
  {
   "cell_type": "code",
   "execution_count": null,
   "metadata": {},
   "outputs": [],
   "source": [
    "# otf_total_test = amiral_child.update_otf(psf_guess)\n",
    "\n",
    "# plt.imshow(np.real(otf_total_test))"
   ]
  },
  {
   "cell_type": "code",
   "execution_count": null,
   "metadata": {},
   "outputs": [],
   "source": [
    "# tfh = utils.load_fits(\"/Users/alau/tfh_real.fits\")\n",
    "# diff = amiral_child.fourier_variable[\"ft(psf)\"] - tfh\n",
    "\n",
    "# fig, ax =  plt.subplots()\n",
    "# pos = ax.imshow(np.real(diff))\n",
    "# ax.set_title('OTF total diff')\n",
    "# fig.colorbar(pos, ax=ax)\n",
    "\n",
    "# utils.info(diff)\n",
    "\n",
    "# print(amiral_child.fourier_variable[\"ft(psf)\"][256,256])\n",
    "# print(tfh[256,256])"
   ]
  },
  {
   "cell_type": "code",
   "execution_count": null,
   "metadata": {},
   "outputs": [],
   "source": [
    "# # Check the amiral_child.fourier_variable[\"ft(image)\"]\n",
    "# ft_obj = np.fft.fft2(conv_image)\n",
    "# ft_image = amiral_child.fourier_variable[\"ft(image)\"]\n",
    "\n",
    "# tfi_real = utils.load_fits(\"/Users/alau/tfi_real.fits\")\n",
    "\n",
    "# diff = utils.view_diff(tfi_real,ft_image)\n",
    "# utils.info(diff)\n",
    "\n",
    "# print(diff[256,256])\n",
    "\n",
    "# print(ft_image[256,256])"
   ]
  },
  {
   "cell_type": "code",
   "execution_count": null,
   "metadata": {},
   "outputs": [],
   "source": [
    "# ft_mean_obj = amiral_child.fourier_variable[\"ft(mean_object)\"]\n",
    "# ft_o_moy = np.fft.fftshift(utils.load_fits(\"/Users/alau/ft_o_moy_real.fits\"))\n",
    "\n",
    "# diff = utils.view_diff(ft_mean_obj,ft_o_moy)\n",
    "# utils.info(ft_mean_obj-ft_o_moy)\n",
    "\n",
    "\n",
    "# np.where(ft_mean_obj == np.max(ft_mean_obj))"
   ]
  },
  {
   "cell_type": "code",
   "execution_count": null,
   "metadata": {},
   "outputs": [],
   "source": [
    "# tfi2 = np.fft.fftshift(np.transpose(utils.load_fits(\"/Users/alau/tfi2.fits\")))\n",
    "# diff = tfi2 - amiral_child.fourier_variable[\"error2\"]\n",
    "# utils.info(diff)\n",
    "\n",
    "# fig, ax =  plt.subplots()\n",
    "# pos = ax.imshow(diff[256-20:256+20,256-20:256+20])\n",
    "# ax.set_title('error total diff')\n",
    "# fig.colorbar(pos, ax=ax)\n",
    "\n",
    "# np.where(diff == np.max(diff))"
   ]
  },
  {
   "cell_type": "code",
   "execution_count": null,
   "metadata": {},
   "outputs": [],
   "source": [
    "# # fourier_variable[\"psd(psf)\"] \n",
    "# utils.info(amiral_child.fourier_variable[\"psd(psf)\"], imaginary = True)"
   ]
  },
  {
   "cell_type": "code",
   "execution_count": null,
   "metadata": {},
   "outputs": [],
   "source": [
    "# tfh2 = np.fft.fftshift(utils.load_fits(\"/Users/alau/tfh2.fits\"))\n",
    "# diff = tfh2 - amiral_child.fourier_variable[\"psd(psf)\"]\n",
    "# utils.info(diff)\n",
    "\n",
    "# fig, ax =  plt.subplots()\n",
    "# pos = ax.imshow(diff[256-20:256+20,256-20:256+20])\n",
    "# ax.set_title('PSD total diff')\n",
    "# fig.colorbar(pos, ax=ax)"
   ]
  },
  {
   "cell_type": "code",
   "execution_count": null,
   "metadata": {},
   "outputs": [],
   "source": [
    "# # mean_error (tfi2_moy)\n",
    "# # Minimum is off but the rest matched the IDL ouput\n",
    "# mean_error = utils.mean_cir_array(amiral_child.fourier_variable[\"error2\"])\n",
    "# utils.info(mean_error, imaginary = True)\n",
    "# np.sum(mean_error)"
   ]
  },
  {
   "cell_type": "code",
   "execution_count": null,
   "metadata": {},
   "outputs": [],
   "source": [
    "# # meam_ft_h2(tfh2_moy)\n",
    "# # mean and the minimum are off (given that the otf is off too ...)\n",
    "# meam_ft_h2 = utils.mean_cir_array(amiral_child.fourier_variable[\"psd(psf)\"])\n",
    "# utils.info(meam_ft_h2, imaginary = True)\n",
    "# # sum is off\n",
    "# np.sum(meam_ft_h2)"
   ]
  },
  {
   "cell_type": "code",
   "execution_count": null,
   "metadata": {},
   "outputs": [],
   "source": [
    "# # sb_ini\n",
    "# # matched the IDL output\n",
    "\n",
    "# dimension = 512\n",
    "\n",
    "# sb_ini = (np.sum(amiral_child.fourier_variable[\"error2\"][0,0:dimension]) + \n",
    "#           np.sum(amiral_child.fourier_variable[\"error2\"][dimension-1, 0:dimension]) \n",
    "#           + np.sum(amiral_child.fourier_variable[\"error2\"][1:dimension-1, 0]) + \n",
    "#             np.sum(amiral_child.fourier_variable[\"error2\"][1:dimension-1, dimension-1])) / (4.*dimension - 4.)\n",
    "\n",
    "# print(sb_ini)"
   ]
  },
  {
   "cell_type": "code",
   "execution_count": null,
   "metadata": {},
   "outputs": [],
   "source": [
    "# # All off - length is correct\n",
    "# print(\"\\nlen:\", len(amiral_child.fourier_variable[\"error2\"][0,0:dimension]))\n",
    "# utils.info(amiral_child.fourier_variable[\"error2\"][0,0:dimension])\n",
    "# np.sum(amiral_child.fourier_variable[\"error2\"][0,0:dimension]) - 1001557.7383473666"
   ]
  },
  {
   "cell_type": "code",
   "execution_count": null,
   "metadata": {},
   "outputs": [],
   "source": [
    "# # All off\n",
    "# print(\"\\nlen:\", len(amiral_child.fourier_variable[\"error2\"][dimension-1, 0:dimension]))\n",
    "# utils.info(amiral_child.fourier_variable[\"error2\"][dimension-1, 0:dimension])\n",
    "# np.sum(amiral_child.fourier_variable[\"error2\"][dimension-1, 0:dimension]) - 1002877.2089995614"
   ]
  },
  {
   "cell_type": "code",
   "execution_count": null,
   "metadata": {},
   "outputs": [],
   "source": [
    "# print(\"\\nlen:\", len(amiral_child.fourier_variable[\"error2\"][1:dimension-1, 0]))\n",
    "# utils.info(amiral_child.fourier_variable[\"error2\"][1:dimension-1, 0])\n",
    "# np.sum(amiral_child.fourier_variable[\"error2\"][1:dimension-1, 0]) - 1089953.2424355166"
   ]
  },
  {
   "cell_type": "code",
   "execution_count": null,
   "metadata": {},
   "outputs": [],
   "source": [
    "# print(\"\\nlen:\", len(amiral_child.fourier_variable[\"error2\"][1:dimension-1, dimension-1]))\n",
    "# utils.info(amiral_child.fourier_variable[\"error2\"][1:dimension-1, dimension-1])\n",
    "# np.sum(amiral_child.fourier_variable[\"error2\"][1:dimension-1, dimension-1]) - 1086312.6571350598"
   ]
  },
  {
   "cell_type": "code",
   "execution_count": null,
   "metadata": {},
   "outputs": [],
   "source": [
    "# # k_ini\n",
    "# # almost matched IDL output (1.1213083933789605e+17)\n",
    "# k_ini = mean_error[1] \n",
    "# k_ini - 1.1213083933789605e+17"
   ]
  },
  {
   "cell_type": "code",
   "execution_count": null,
   "metadata": {},
   "outputs": [],
   "source": [
    "# # mu_ini \n",
    "# # matched IDL output\n",
    "# mu_ini = sb_ini / k_ini\n",
    "# print(mu_ini)\n",
    "# mu_ini - 1.8240768346243759e-14"
   ]
  },
  {
   "cell_type": "markdown",
   "metadata": {},
   "source": [
    "Minimisation - Recheck!"
   ]
  },
  {
   "cell_type": "code",
   "execution_count": null,
   "metadata": {},
   "outputs": [],
   "source": [
    "# # amiral_child.fourier_variable[\"rho\"]\n",
    "# # matched the IDL output\n",
    "# rho_IDL = np.fft.fftshift(utils.load_fits(\"/Users/alau/rho.fits\"))\n",
    "# diff = utils.view_diff(rho_IDL, amiral_child.fourier_variable[\"rho\"])"
   ]
  },
  {
   "cell_type": "code",
   "execution_count": null,
   "metadata": {},
   "outputs": [],
   "source": [
    "# # fourier_variable[\"good_rho\"] - checked\n",
    "# arr = amiral_child.fourier_variable[\"good_rho\"]\n",
    "# utils.info(arr)\n",
    "# np.sum(arr)"
   ]
  },
  {
   "cell_type": "code",
   "execution_count": null,
   "metadata": {},
   "outputs": [],
   "source": [
    "# # checking the initialisation - matched IDL ouput\n",
    "# amiral_child.hyperparam_initial(psf_guess)"
   ]
  },
  {
   "cell_type": "code",
   "execution_count": null,
   "metadata": {},
   "outputs": [],
   "source": [
    "# # fourier_variable[\"psd_object_ini\"] - dspo\n",
    "# # - matched IDL output\n",
    "# # 1.686e-07   1.000e+00   1.152e-04     3.021e+01\n",
    "# dspo = np.fft.fftshift(np.transpose(utils.load_fits(\"/Users/alau/dspo.fits\")))\n",
    "# diff = utils.view_diff(dspo, amiral_child.fourier_variable[\"psd_object_ini\"])\n",
    "\n",
    "# utils.info(diff)"
   ]
  },
  {
   "cell_type": "code",
   "execution_count": null,
   "metadata": {},
   "outputs": [],
   "source": [
    "# # fourier_variable[\"psd_model_i\"] - denom - Note: The error is coming from dspo and mu\n",
    "# # matched the IDL output\n",
    "# # 1.824e-14   1.000e+00   4.300e-05 1.127e+01\n",
    "\n",
    "# denom = np.fft.fftshift(np.transpose(utils.load_fits(\"/Users/alau/denom.fits\")))\n",
    "# denom_python = amiral_child.fourier_variable[\"psd(psf)\"]* amiral_child.fourier_variable[\"psd_object_ini\"] + psf_guess[7]\n",
    "# diff = utils.view_diff(denom, amiral_child.fourier_variable[\"psd_model_i\"])\n",
    "\n",
    "# utils.info(diff)"
   ]
  },
  {
   "cell_type": "code",
   "execution_count": null,
   "metadata": {},
   "outputs": [],
   "source": [
    "# # fourier_variable[\"k_hat\"] - does not match - continue in here!\n",
    "# print(amiral_child.fourier_variable[\"k_hat\"] -1.3093721312891771e+17)\n",
    "\n",
    "# tfi2_swap = np.transpose(tfi2)\n",
    "# denom_swap = np.transpose(denom)\n",
    "\n",
    "# # Try to use the quantity from IDL to check the eqaution\n",
    "# k_hat = 1/(dimension**2) *np.sum ((tfi2_swap/denom_swap)[amiral_child.fourier_variable[\"good_rho\"]])\n",
    "\n",
    "# print(k_hat/1.3093721312891771e+17)\n",
    "\n",
    "# # From the result, I "
   ]
  },
  {
   "cell_type": "code",
   "execution_count": null,
   "metadata": {},
   "outputs": [],
   "source": [
    "# # k_hat has been fixed\n",
    "# test_k = amiral_child.fourier_variable[\"error2\"] / amiral_child.fourier_variable[\"psd_model_i\"]\n",
    "\n",
    "# utils.info(amiral_child.fourier_variable[\"error2\"])\n",
    "# print(np.sum(arr))\n",
    "\n",
    "# test_sum = np.sum(test_k[amiral_child.fourier_variable[\"good_rho\"]])\n",
    "# print(test_sum)"
   ]
  },
  {
   "cell_type": "code",
   "execution_count": null,
   "metadata": {},
   "outputs": [],
   "source": [
    "# # fourier_variable[\"psd_object_ini\"] - dspo\n",
    "# # doesnt not match ... \n",
    "# # 1.651e+10   9.791e+16   1.128e+13    2.958e+18\n",
    "# dspo_IDL =  np.transpose(np.fft.fftshift(utils.load_fits(\"/Users/alau/dspo.fits\")))\n",
    "# diff = utils.view_diff(dspo_IDL,amiral_child.fourier_variable[\"psd_object_ini\"])\n",
    "# utils.info(diff)"
   ]
  },
  {
   "cell_type": "code",
   "execution_count": null,
   "metadata": {},
   "outputs": [],
   "source": [
    "# # fourier_variable[\"psd_image_est\"] - dsp_i\n",
    "# # doesnt match ... \n",
    "# # 1.786e+03   9.791e+16   4.210e+12   1.104e+18\n",
    "# arr = amiral_child.fourier_variable[\"psd_image_est\"]\n",
    "# utils.info(arr)\n",
    "# print(np.sum(arr))"
   ]
  },
  {
   "cell_type": "code",
   "execution_count": null,
   "metadata": {},
   "outputs": [],
   "source": [
    "# dsp_ratio_IDL = np.fft.fftshift(utils.load_fits(\"/Users/alau/dsp_ratio.fits\"))\n",
    "# dsp_ratio = amiral_child.fourier_variable[\"psd_object\"] / amiral_child.fourier_variable[\"psd_image_est\"]\n",
    "\n",
    "# plt.imshow(dsp_ratio_IDL/dsp_ratio)\n",
    "\n",
    "# utils.info(dsp_ratio_IDL/dsp_ratio)"
   ]
  },
  {
   "cell_type": "code",
   "execution_count": null,
   "metadata": {},
   "outputs": [],
   "source": [
    "# # Fourier variable dsp_bruit - checked\n",
    "# dsp_bruit = amiral_child.fourier_variable[\"psd_noise\"]\n",
    "# print(dsp_bruit)\n",
    "\n"
   ]
  },
  {
   "cell_type": "code",
   "execution_count": null,
   "metadata": {},
   "outputs": [],
   "source": [
    "# # dsp_objet \n",
    "# dsp_objet_IDL = np.transpose(np.fft.fftshift(utils.load_fits(\"/Users/alau/dsp_objet.fits\")))\n",
    "# dsp_objet = amiral_child.fourier_variable[\"psd_object\"]\n",
    "\n",
    "# diff = utils.view_diff(dsp_objet,dsp_objet_IDL)\n",
    "# utils.info(dsp_objet/dsp_objet_IDL)"
   ]
  },
  {
   "cell_type": "code",
   "execution_count": null,
   "metadata": {},
   "outputs": [],
   "source": [
    "# # psd_image_est\n",
    "# # dsp_objet \n",
    "# dsp_i_IDL = np.transpose(np.fft.fftshift(utils.load_fits(\"/Users/alau/dsp_i.fits\")))\n",
    "# dsp_i = amiral_child.fourier_variable[\"psd_image_est\"]\n",
    "\n",
    "# diff = utils.view_diff(dsp_i,dsp_i_IDL)\n",
    "# utils.info(dsp_i/dsp_i_IDL)\n",
    "\n",
    "\n",
    "# utils.info(dsp_i_IDL)"
   ]
  },
  {
   "cell_type": "markdown",
   "metadata": {},
   "source": [
    "# IDL \n",
    "grad_psf: [313637.36820290622      -422776.16167403548      -20852.509443358213      -338842.43443541240       22386.038647048441]\n",
    "\n",
    "grad_hyper: [-1.5547975389990738e+18       42539.024177912448      -111031.55773929584]"
   ]
  },
  {
   "cell_type": "markdown",
   "metadata": {},
   "source": [
    "#### python\n",
    "grad_psf:\n",
    "[ 3.76661374e+05  1.76712368e-06  1.05124255e-04 -7.47756685e-03\n",
    "  3.44429096e-04  0.00000000e+00  0.00000000e+00]\n",
    "  \n",
    "  \n",
    "grad_hyper:\n",
    "[5.82125344e+18\n",
    "  3.72709536e+04 -9.05318129e+04]"
   ]
  },
  {
   "cell_type": "markdown",
   "metadata": {},
   "source": [
    "## What to do now? \n",
    "\n",
    "1. Check the gradient function in python when bringing the analytical grad to the minimiser. Current gradient seems to be too large!\n",
    "\n",
    "2. One thing to check is the defintion of the gradient \n",
    "    - Are they centred at the centre of the image or at the corner? \n",
    "    - Subtracting the wrong version will lead to an error\n",
    "\n",
    "3. \n"
   ]
  },
  {
   "cell_type": "code",
   "execution_count": null,
   "metadata": {},
   "outputs": [],
   "source": [
    "aosys = instructment.aoSystem(diameter = aosys_dict['diameter'], occ_ratio = aosys_dict['occ_ratio'], \n",
    "        no_acutuator= aosys_dict['no_acutuator'], wavelength = aosys_dict['wavelength']*1e-9, resolution_rad = aosys_dict['resolution_rad'], \n",
    "        dimension=aosys_dict['dimension'])"
   ]
  },
  {
   "cell_type": "code",
   "execution_count": null,
   "metadata": {},
   "outputs": [],
   "source": [
    "# psf_dict = {\n",
    "#         'r0' : 0.15, \n",
    "#         'background': 1e-10 , \n",
    "#         'amplitude': 1.8, \n",
    "#         'ax' : 0.05, \n",
    "#         'beta' : 1.5,\n",
    "#     }\n",
    "\n",
    "# psf_keys, psf_guess = utils.dict2array(psf_dict)\n",
    "print(psf_guess)"
   ]
  },
  {
   "cell_type": "code",
   "execution_count": null,
   "metadata": {},
   "outputs": [],
   "source": [
    "test_grad = aosys.gradient(psf_guess, debug = True)\n",
    "PSD_grad_IDL = np.zeros((len(psf_guess), aosys.N_padded[0],aosys.N_padded[0]))\n",
    "diff = np.zeros((len(psf_guess), aosys.N_padded[0],aosys.N_padded[0]))\n",
    "for i in range (len(psf_guess)-3): \n",
    "    PSD_grad_IDL [i, :, :] = utils.load_fits(test_data_dir+\"PSD_grad_\"+str(i)+\".fits\")\n",
    "    diff [i, :, :] = utils.view_diff(test_grad[i], PSD_grad_IDL[i])"
   ]
  },
  {
   "cell_type": "code",
   "execution_count": null,
   "metadata": {},
   "outputs": [],
   "source": [
    "print(\"Minimum: \",np.where(diff == np.min(diff)))\n",
    "\n",
    "for i in range (len(psf_guess)-3):\n",
    "    print(i)\n",
    "    print(\"Sum of diff grad: %f\" %(np.sum(test_grad[i,:,:]) - np.sum(PSD_grad_IDL[i,:,:])))\n",
    "    print('PSD_grad_IDL centre %i : %f' %(i, PSD_grad_IDL[i, aosys.freqnull[0], aosys.freqnull[1]]))\n",
    "    print('PSD_grad_python centre %i : %f' %(i, test_grad[i, aosys.freqnull[0], aosys.freqnull[1]]))\n",
    "    print(\"Max is %f \\n%s\" %(np.max(diff[i]),np.where(diff[i] == np.max(diff[i]))))\n",
    "    print(\"Minimum is %f \\n%s\"%(np.min(diff[i]),np.where(diff[i] == np.min(diff[i]))))\n"
   ]
  },
  {
   "cell_type": "code",
   "execution_count": null,
   "metadata": {},
   "outputs": [],
   "source": []
  },
  {
   "cell_type": "code",
   "execution_count": null,
   "metadata": {},
   "outputs": [],
   "source": [
    "# test_grad = aosys.gradient(psf_guess, debug = False)*(-amiral_child.fourier_variable[\"ft()\"])\n",
    "grad_IDL = np.zeros((len(psf_guess), aosys.N_padded[0],aosys.N_padded[0]))\n",
    "OTF_grad = aosys.gradient(psf_guess)*(-amiral_child.fourier_variable[\"ft(psf)\"])\n",
    "test_grad = PSD_grad_IDL*(-amiral_child.fourier_variable[\"ft(psf)\"])\n",
    "\n",
    "for i in range (len(psf_guess)-3):\n",
    "    grad_IDL [i, :, :] = np.transpose(utils.load_fits(test_data_dir+\"OTF_grad_\"+str(i)+\".fits\"))\n",
    "    diff = utils.view_diff(grad_IDL[i], OTF_grad[i])\n",
    "    utils.info(diff)\n",
    "    print(np.where(diff == diff.max()))\n",
    "    \n",
    "    \n"
   ]
  },
  {
   "cell_type": "code",
   "execution_count": null,
   "metadata": {},
   "outputs": [],
   "source": []
  },
  {
   "cell_type": "code",
   "execution_count": null,
   "metadata": {},
   "outputs": [],
   "source": [
    "diff = utils.view_diff(test_grad[0], grad_IDL[0])\n",
    "\n",
    "utils.info(diff)\n",
    "print(np.where(diff == diff.max()))"
   ]
  },
  {
   "cell_type": "code",
   "execution_count": null,
   "metadata": {},
   "outputs": [],
   "source": []
  },
  {
   "cell_type": "code",
   "execution_count": null,
   "metadata": {},
   "outputs": [],
   "source": [
    "plt.imshow(grad_IDL[4])"
   ]
  },
  {
   "cell_type": "code",
   "execution_count": null,
   "metadata": {},
   "outputs": [],
   "source": [
    "# grad[0] = (fXY >=(self.ao_cutoff_freq**2.)) * (-5./3.)* 0.0229 * r0 **((-8./3.)) * ((1./Lext**2.)+fXY)**((-11./6.)) # grad_r0\n",
    "\n",
    "r0 = 0.15\n",
    "fX, fY, freq_null = aosys.psd_frequency_array(aosys_dict['dimension'], aosys.samp_factor[0])\n",
    "Lext = 10. \n",
    "\n",
    "fXY = fX**2 + fY**2\n",
    "plt.imshow(fXY)\n",
    "\n",
    "grad0 = (fXY >=(aosys.ao_cutoff_freq**2.)) * (-5./3.)* 0.0229 * r0 **((-8./3.)) * ((1./Lext**2.)+fXY)**((-11./6.)) # grad_r0\n",
    "\n"
   ]
  },
  {
   "cell_type": "code",
   "execution_count": null,
   "metadata": {},
   "outputs": [],
   "source": [
    "plt.imshow(grad0)"
   ]
  },
  {
   "cell_type": "code",
   "execution_count": null,
   "metadata": {},
   "outputs": [],
   "source": [
    "plt.imshow(aosys.fX**2 + aosys.fY**2)"
   ]
  },
  {
   "cell_type": "code",
   "execution_count": null,
   "metadata": {},
   "outputs": [],
   "source": [
    "error2_IDL = np.fft.fftshift(utils.load_fits(test_data_dir+\"error2.fits\"))\n",
    "error2_python = amiral_child.fourier_variable[\"error2\"]\n"
   ]
  },
  {
   "cell_type": "code",
   "execution_count": null,
   "metadata": {},
   "outputs": [],
   "source": [
    "diff = utils.view_diff (error2_IDL,error2_python)\n",
    "utils.info(diff)\n",
    "\n",
    "plt.imshow(diff[256-80:256+80,256-80:256+80])\n",
    "\n",
    "\n",
    "a = np.where (np.max(diff) == diff)\n",
    "\n",
    "print(diff[a],a)\n",
    "#plt.imshow(np.fft.fftshift(np.log10(error2_IDL-error2_python)))"
   ]
  },
  {
   "cell_type": "code",
   "execution_count": null,
   "metadata": {},
   "outputs": [],
   "source": [
    "img_IDL = utils.load_fits(test_data_dir+\"image_noise.fits\")\n",
    "utils.info(img_IDL)"
   ]
  },
  {
   "cell_type": "code",
   "execution_count": null,
   "metadata": {},
   "outputs": [],
   "source": [
    "plt.imshow(np.real(np.log10(error2_IDL)))"
   ]
  },
  {
   "cell_type": "code",
   "execution_count": null,
   "metadata": {},
   "outputs": [],
   "source": [
    "ft_image_IDL = utils.load_fits(test_data_dir+\"ft_im.fits\")\n",
    "\n",
    "utils.info(ft_image_IDL)\n",
    "\n",
    "plt.imshow(np.log10(ft_image_IDL))"
   ]
  },
  {
   "cell_type": "code",
   "execution_count": null,
   "metadata": {},
   "outputs": [],
   "source": [
    "ft_image = np.fft.fftshift(np.fft.fft2(conv_image))\n",
    "utils.info(ft_image)\n",
    "plt.imshow(np.real(np.log10(ft_image)))"
   ]
  },
  {
   "cell_type": "code",
   "execution_count": null,
   "metadata": {},
   "outputs": [],
   "source": [
    "diff = utils.view_diff(ft_image,ft_image_IDL)\n",
    "utils.info(diff)\n"
   ]
  },
  {
   "cell_type": "code",
   "execution_count": null,
   "metadata": {},
   "outputs": [],
   "source": [
    "ft_img = np.fft.fftshift(np.fft.fft2(conv_image))\n",
    "\n",
    "diff = utils.view_diff(np.real(ft_img),amiral_child.fourier_variable[\"ft(image)\"])\n",
    "\n",
    "utils.info(diff)"
   ]
  },
  {
   "cell_type": "code",
   "execution_count": null,
   "metadata": {},
   "outputs": [],
   "source": [
    "rho = amiral_child.fourier_variable[\"rho\"]\n",
    "plt.imshow(rho)\n",
    "\n",
    "\n",
    "\n",
    "test = utils.dist(512)\n",
    "utils.info(test)"
   ]
  },
  {
   "cell_type": "code",
   "execution_count": null,
   "metadata": {},
   "outputs": [],
   "source": [
    "dimension = 512\n",
    "\n",
    "\n",
    "sb_ini = (np.sum(amiral_child.fourier_variable[\"error2\"][0,0:dimension-1]) + \n",
    "    np.sum(amiral_child.fourier_variable[\"error2\"][dimension-1, 0:dimension-1]) + np.sum(amiral_child.fourier_variable[\"error2\"][1:dimension-1, 0]) + \n",
    "    np.sum(amiral_child.fourier_variable[\"error2\"][1:dimension-1, dimension-1])) / (4.*dimension - 4.)\n",
    "\n",
    "mean_error = utils.mean_cir_array(amiral_child.fourier_variable[\"error2\"])\n",
    "\n",
    "\n",
    "k_ini = mean_error[1]"
   ]
  },
  {
   "cell_type": "code",
   "execution_count": null,
   "metadata": {},
   "outputs": [],
   "source": [
    "k_ini"
   ]
  },
  {
   "cell_type": "code",
   "execution_count": null,
   "metadata": {},
   "outputs": [],
   "source": [
    "sb_ini"
   ]
  },
  {
   "cell_type": "code",
   "execution_count": null,
   "metadata": {},
   "outputs": [],
   "source": [
    "amiral_child.fourier_variable['k_hat']/1.0467463006917365e17"
   ]
  },
  {
   "cell_type": "code",
   "execution_count": null,
   "metadata": {},
   "outputs": [],
   "source": [
    "psd_model_i_IDL = np.fft.fftshift(utils.load_fits(test_data_dir+\"psd_model_i.fits\"))"
   ]
  },
  {
   "cell_type": "code",
   "execution_count": null,
   "metadata": {},
   "outputs": [],
   "source": [
    "dJdo = .5 * (amiral_child.fourier_variable[\"psd(psf)\"]/amiral_child.fourier_variable[\"psd_model_i\"]-\n",
    "        (amiral_child.fourier_variable[\"psd(psf)\"]*amiral_child.fourier_variable[\"error2\"])/\n",
    "        (amiral_child.fourier_variable[\"k_hat\"]*(amiral_child.fourier_variable[\"psd_model_i\"]**2)))\n",
    "dJdo_IDL = utils.load_fits(test_data_dir+\"dJdo.fits\")"
   ]
  },
  {
   "cell_type": "code",
   "execution_count": null,
   "metadata": {},
   "outputs": [],
   "source": [
    "denom = utils.load_fits(test_data_dir+\"psd_model_i.fits\")\n",
    "tfh2 = utils.load_fits(test_data_dir+\"psd_psf.fits\")\n",
    "tfi2 = utils.load_fits(test_data_dir+\"error2.fits\")\n",
    "k_hat = 1.0187311980095106e+17\n"
   ]
  },
  {
   "cell_type": "code",
   "execution_count": null,
   "metadata": {},
   "outputs": [],
   "source": [
    "dJdo_test = 0.5 * (tfh2/denom-(tfh2*tfi2)/(k_hat*(denom**2)))\n",
    "#.5D * (tfh2/denom-(tfh2*tfi2)/(k_chap*denom^2))\n",
    "\n",
    "\n",
    "diff = utils.view_diff(dJdo,np.fft.fftshift(dJdo_test))\n",
    "\n",
    "\n",
    "utils.info(diff)\n",
    "\n",
    "plt.imshow(dJdo)"
   ]
  },
  {
   "cell_type": "code",
   "execution_count": null,
   "metadata": {},
   "outputs": [],
   "source": [
    "plt.imshow(np.fft.fftshift(dJdo_IDL))\n",
    "\n",
    "\n",
    "utils.info(dJdo_IDL-dJdo)"
   ]
  },
  {
   "cell_type": "code",
   "execution_count": null,
   "metadata": {},
   "outputs": [],
   "source": [
    "test = tfh2/denom\n",
    "test_python = amiral_child.fourier_variable[\"psd(psf)\"]/amiral_child.fourier_variable[\"psd_model_i\"]\n",
    "\n",
    "\n",
    "# test = tfh2\n",
    "# test_python = amiral_child.fourier_variable[\"psd(psf)\"]\n",
    "\n",
    "\n",
    "\n",
    "\n",
    "utils.info(np.fft.fftshift(test) - test_python)"
   ]
  },
  {
   "cell_type": "code",
   "execution_count": null,
   "metadata": {},
   "outputs": [],
   "source": [
    "diff = utils.view_diff(dJdo, dJdo_IDL)\n",
    "\n",
    "utils.info(diff)"
   ]
  },
  {
   "cell_type": "code",
   "execution_count": null,
   "metadata": {},
   "outputs": [],
   "source": [
    "fig, ax1 =  plt.subplots()\n",
    "pos = ax1.imshow(dJdo, cmap='Reds', interpolation='none')\n",
    "fig.colorbar(pos, ax=ax1)\n",
    "\n",
    "\n",
    "utils.info(dJdo)"
   ]
  },
  {
   "cell_type": "code",
   "execution_count": null,
   "metadata": {},
   "outputs": [],
   "source": [
    "fig, ax1 =  plt.subplots()\n",
    "pos = ax1.imshow(np.log10(np.transpose(dJdo_IDL)/dJdo), cmap='Reds', interpolation='none')\n",
    "fig.colorbar(pos, ax=ax1)\n",
    "\n",
    "\n",
    "utils.info(dJdo_IDL)"
   ]
  },
  {
   "cell_type": "code",
   "execution_count": null,
   "metadata": {},
   "outputs": [],
   "source": [
    "for i in range (len(psf_guess)-3): \n",
    "        grad_IDL [i, :, :] = np.transpose(utils.load_fits(test_data_dir+\"OTF_grad_\"+str(i)+\".fits\"))"
   ]
  },
  {
   "cell_type": "code",
   "execution_count": null,
   "metadata": {},
   "outputs": [],
   "source": [
    "plt.imshow(np.log10(grad_IDL[0]))"
   ]
  },
  {
   "cell_type": "code",
   "execution_count": null,
   "metadata": {},
   "outputs": [],
   "source": [
    "otf_IDL = np.fft.fftshift(utils.load_fits(test_data_dir+ \"otf_real.fits\"))"
   ]
  },
  {
   "cell_type": "code",
   "execution_count": null,
   "metadata": {},
   "outputs": [],
   "source": [
    "psf_guess[-2] = 2.0\n",
    "psf_guess[-1] = 3.0\n",
    "\n",
    "print(psf_guess)"
   ]
  },
  {
   "cell_type": "code",
   "execution_count": null,
   "metadata": {},
   "outputs": [],
   "source": [
    "amiral_child.varible4criterion(psf_guess)\n",
    "grad_python = amiral_child.gradient(psf_guess, debug = True)"
   ]
  },
  {
   "cell_type": "code",
   "execution_count": null,
   "metadata": {},
   "outputs": [],
   "source": [
    "grad_IDL = np.array([\n",
    "        112666.46975593880,\n",
    "        -556963.27478424134,      \n",
    "        -19232.183893144967,     \n",
    "        -562320.62551296421,\n",
    "        47246.817020119110,\n",
    "        -4809744466462.9717,\n",
    "        29179.449077962287,\n",
    "        -71791.829213569916])\n",
    "\n",
    "# potentially fixed! See the output from pytest!"
   ]
  },
  {
   "cell_type": "code",
   "execution_count": null,
   "metadata": {},
   "outputs": [],
   "source": [
    "grad_error = (grad_python-grad_IDL)\n",
    "# with a fixed k_hat"
   ]
  },
  {
   "cell_type": "code",
   "execution_count": null,
   "metadata": {},
   "outputs": [],
   "source": [
    "print((grad_error/grad_IDL)*100)"
   ]
  },
  {
   "cell_type": "code",
   "execution_count": null,
   "metadata": {},
   "outputs": [],
   "source": [
    "amiral_child.gradient(psf_guess)"
   ]
  },
  {
   "cell_type": "code",
   "execution_count": null,
   "metadata": {},
   "outputs": [],
   "source": [
    "print(help(amiral_child))"
   ]
  },
  {
   "cell_type": "code",
   "execution_count": null,
   "metadata": {},
   "outputs": [],
   "source": [
    "test = np.array([0.05,0.01,0.0,0.025,1.5,2.5564283363852407e-09,2.0,3.0])\n",
    "\n",
    "\n",
    "\n",
    "\n",
    "amiral_child.marg_criterion(psf_guess, debug = True)"
   ]
  },
  {
   "cell_type": "code",
   "execution_count": null,
   "metadata": {},
   "outputs": [],
   "source": []
  }
 ],
 "metadata": {
  "kernelspec": {
   "display_name": "Python 3",
   "language": "python",
   "name": "python3"
  },
  "language_info": {
   "codemirror_mode": {
    "name": "ipython",
    "version": 3
   },
   "file_extension": ".py",
   "mimetype": "text/x-python",
   "name": "python",
   "nbconvert_exporter": "python",
   "pygments_lexer": "ipython3",
   "version": "3.6.12"
  }
 },
 "nbformat": 4,
 "nbformat_minor": 4
}
