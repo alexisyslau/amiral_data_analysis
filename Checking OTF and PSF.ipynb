{
 "cells": [
  {
   "cell_type": "markdown",
   "metadata": {},
   "source": [
    "## Description\n",
    "This is a notebook for debugging the quantity in the amiral code for both the python and the IDL version. \n",
    "\n",
    "At the moment, the IDL version is working properly but we do need to check the defintion for the Fourier variables (regarding fft shift and fft transform). We need to make sure that we are not being an idiot ;) "
   ]
  },
  {
   "cell_type": "markdown",
   "metadata": {},
   "source": [
    "# Section\n",
    "<details>\n",
    "  <summary>Click to expand!</summary>\n",
    "  \n",
    "  ## Heading\n",
    "  1. [Generate a PSF](#Generate-a-PSF)\n",
    "    * [Zero Padding](#Zero-Padding)\n",
    "    * [Setting up the system](#Setting-up-the-system)\n",
    "    * [Pupil Function](#Pupil-Function)\n",
    "    \n",
    "  2.[Minimisation](#Minimisation)\n",
    "    \n",
    "  2. [Doesnt match with the IDL output](#Doesnt-match)\n",
    "  \n",
    "</details>"
   ]
  },
  {
   "cell_type": "code",
   "execution_count": null,
   "metadata": {},
   "outputs": [],
   "source": [
    "# Packages required\n",
    "import numpy as np\n",
    "import matplotlib.pyplot as plt\n",
    "from matplotlib import rcParams\n",
    "from astropy.io import fits\n",
    "import os\n",
    "#Change to your path\n",
    "os.chdir(\"/Users/alau/Repo/amiral\")\n",
    "from amiral import instructment, utils, parameter, gradient\n",
    "from scipy.optimize import minimize \n",
    "%matplotlib inline"
   ]
  },
  {
   "cell_type": "code",
   "execution_count": null,
   "metadata": {},
   "outputs": [],
   "source": [
    "# Global variable\n",
    "# Parameters to modify\n",
    "SEED = -1234       # Seed for random numbers generation\n",
    "FLUX = 5e8         # Object total intensity [e-]\n",
    "READ_OUT_NOISE = 10. # CCD read-out noise standard-deviation [e-]\n",
    "DATA_DIR = \"/Users/alau/IDLWorkspace/Data/Vesta_OASIS/\"\n",
    "DATA_FITS = DATA_DIR + \"2018-06-08T05_27_05.809.fits\"\n",
    "DIMENSION = 512 # Dimension of the image\n",
    "LOOP = True"
   ]
  },
  {
   "cell_type": "code",
   "execution_count": null,
   "metadata": {},
   "outputs": [],
   "source": [
    "# Setup of the system\n",
    "fits_img = fits.open(DATA_FITS)\n",
    "fits_img.info() \n",
    "\n",
    "obj = fits_img[0].data\n",
    "obj_resize = np.zeros((DIMENSION,DIMENSION))\n",
    "\n",
    "cuta = DIMENSION//2-128\n",
    "cutb = DIMENSION//2+128\n",
    "\n",
    "obj_resize[cuta:cutb,cuta:cutb] = obj\n",
    "\n",
    "# Calibrating the flux\n",
    "obj_resize = obj_resize/np.sum(obj_resize)*FLUX\n",
    "\n",
    "aosys = instructment.aoSystem(sampling = 4,diameter = 7., occ_ratio = 0.1, no_acutuator = 30, wavelength = 500, dimension = DIMENSION)\n",
    "fX, fY, freqnull = aosys.psd_frequency_array(DIMENSION)\n",
    "\n",
    "pupil = aosys.get_pupil_plane(DIMENSION)\n",
    "\n",
    "otf_tel = aosys.pupil_to_otf_tel(pupil,0*pupil, over_sampling=4)\n",
    "psf_tel = np.abs(utils.ifft2D(otf_tel))\n",
    "\n",
    "\n",
    "param = {\n",
    "    \"r0\": 0.12,                  \n",
    "    \"background\": 1e-10 ,      \n",
    "    \"amplitude\": 1.8,       \n",
    "    \"ax\": 0.05,                            \n",
    "    \"ay\": 0.05, \n",
    "    \"theta\": 0., \n",
    "    \"beta\": 1.5,\n",
    "    \"mu\": 1., \n",
    "    \"rho0\": 1., \n",
    "    \"p\": 1.\n",
    "}\n",
    "\n",
    "param_key, param_input = utils.dict2array(param)\n",
    "\n",
    "psd_ao = aosys.psd_residual_ao (guess = param_input)\n",
    "psd_halo = aosys.psd_residual_halo(r0=0.15)\n",
    "\n",
    "psd = psd_halo + psd_ao \n",
    "\n",
    "integral, SR = aosys.psd_integral(psd, r0=param[\"r0\"])\n",
    "otf_atmo = aosys.otf_atmo(psd)\n",
    "otf_total = aosys.otf_total(otf_tel, otf_atmo)\n",
    "psf_total = aosys.psfao(otf_total)\n",
    "\n",
    "print(\"\\nSum of the PSF (which should be excatly 1.)\", np.sum(np.abs(psf_total)))\n",
    "print(\"\\nMax of the otf_atmo: (which should be excatly 1.)\", np.max(otf_atmo))\n",
    "print(\"\\nMax of the otf_tel: (which should be excatly 1.)\", np.max(otf_tel))\n",
    "print(\"\\nMax of the OTF (which should be excatly 1.)\", np.max(otf_total))"
   ]
  },
  {
   "cell_type": "code",
   "execution_count": null,
   "metadata": {},
   "outputs": [],
   "source": [
    "# Strehl's ratio\n",
    "\n",
    "psf_diffraction = aosys.psfao(otf_tel)\n",
    "\n",
    "print(\"\\nSR (PSF ratio): \", np.max(psf_total)/ np.max(psf_diffraction))\n",
    "print(\"\\nSR from the integral: \", SR)"
   ]
  },
  {
   "cell_type": "code",
   "execution_count": null,
   "metadata": {},
   "outputs": [],
   "source": [
    "rcParams['figure.figsize'] = 13 ,11\n",
    "fig, ax = plt.subplots(1,3)\n",
    "fig.tight_layout(pad=0.4, w_pad=0.6, h_pad=4.0)\n",
    "\n",
    "ycent = 512//2\n",
    "ax[0].plot(otf_total[ycent, :])\n",
    "ax[0].set_title('OTF(total)')\n",
    "ax[0].axhline(y=1, color = 'r', ls = '--')\n",
    "\n",
    "ax[1].plot(otf_tel[ycent, :])\n",
    "ax[1].set_title('OTF(telescope)')\n",
    "ax[1].axhline(y=1, color = 'r', ls = '--')\n",
    "\n",
    "ax[2].plot(otf_atmo[ycent, :])\n",
    "ax[2].set_title('OTF(atmosphere)')\n",
    "ax[2].axhline(y=1, color = 'r', ls = '--')"
   ]
  },
  {
   "cell_type": "code",
   "execution_count": null,
   "metadata": {},
   "outputs": [],
   "source": [
    "ft_obj = utils.fft2D(obj_resize,norm = False)\n",
    "ft_image = ft_obj*otf_total\n",
    "\n",
    "RON = 10. \n",
    "\n",
    "# conv_image = utils.ifft2D (ft_image, norm = True) + RON*np.random.randn(DIMENSION,DIMENSION)\n",
    "conv_image = np.real(utils.ifft2D (ft_image, norm = False))\n",
    "\n",
    "\n",
    "# Import the Data from IDL\n",
    "fits_img = fits.open(\"/Users/alau/Repo/amiral/example/image.fits\")\n",
    "fits_img.info() \n",
    "\n",
    "conv_image = fits_img[0].data\n",
    "print(np.max(conv_image), np.min(conv_image))"
   ]
  },
  {
   "cell_type": "markdown",
   "metadata": {},
   "source": [
    "## AMIRAL guess"
   ]
  },
  {
   "cell_type": "code",
   "execution_count": null,
   "metadata": {},
   "outputs": [],
   "source": [
    "amiral_guess = {\n",
    "    \"r0\": 0.12,                  \n",
    "    \"background\": 1e-10 ,      \n",
    "    \"amplitude\": 3.,       \n",
    "    \"ax\": 0.05,                            \n",
    "    \"ay\": 0.05, \n",
    "    \"theta\": 0., \n",
    "    \"beta\": 1.5, \n",
    "    \"mu\": 1., \n",
    "    \"rho0\": 2., \n",
    "    \"p\": 2.9\n",
    "}\n",
    "\n",
    "amiral_guess = param \n",
    "amiral_guess[\"r0\"] = 0.12\n",
    "amiral_guess[\"mu\"] = 1.\n",
    "amiral_guess[\"rho0\"] = 2.\n",
    "amiral_guess[\"p\"] = 3.\n",
    "\n",
    "psf_param, guess = utils.dict2array(amiral_guess)\n",
    "\n",
    "\n",
    "guess"
   ]
  },
  {
   "cell_type": "code",
   "execution_count": null,
   "metadata": {},
   "outputs": [],
   "source": [
    "#lowerbound = param_min,[1D-6,rho0norm_min,power_bounds_in[0]]*norm\n",
    "#upperbound = param_max,[FLT_MAX, 10D*dim, power_bounds_in[1]]*norm\n",
    "\n",
    "FLT_MAX = 3.4028235e+38 # limit in IDL\n",
    "\n",
    "# param = [r0, bck, sig, ax, ay, theta, beta]\n",
    "\n",
    "# Should have fixed \n",
    "param_min = np.asarray([0.1, 1e-10 , 3.,0.05, 0.05, 0., 1.5])\n",
    "param_max =  np.asarray([1.,2e-10, 3., 0.05 , 0.05,0. , 1.5])\n",
    "\n",
    "#power_bounds_in =  np.asarray([1e-4, 4.5])\n",
    "\n",
    "rho0norm_min = 1e-6\n",
    "\n",
    "norm = np.array((amiral_guess[\"mu\"],amiral_guess[\"rho0\"],1.))\n",
    "print(\"\\nNormalisation constant: \", norm)\n",
    "\n",
    "\n",
    "hyper_min =  np.asarray([0., 2., 2.9])\n",
    "hyper_max =  np.asarray([1., 2. ,3.])\n",
    "\n",
    "upperbound = np.concatenate((param_max, hyper_max))\n",
    "lowerbound = np.concatenate((param_min, hyper_min))\n",
    "\n",
    "psf_param, psf_guess = utils.dict2array(amiral_guess)\n",
    "\n",
    "fixed_psf = psf_guess\n",
    "\n",
    "norm = np.array((amiral_guess[\"mu\"],amiral_guess[\"rho0\"],1.))\n",
    "\n",
    "rho0norm_min = 1e-6\n",
    "fixed_var = psf_guess\n",
    "print('lenght',len(fixed_var))"
   ]
  },
  {
   "cell_type": "markdown",
   "metadata": {},
   "source": [
    "## Minimisation"
   ]
  },
  {
   "cell_type": "code",
   "execution_count": null,
   "metadata": {},
   "outputs": [],
   "source": [
    "print(psf_guess)"
   ]
  },
  {
   "cell_type": "code",
   "execution_count": null,
   "metadata": {},
   "outputs": [],
   "source": [
    "amiral_child = parameter.amiral(img=conv_image, guess=psf_guess, aosys = aosys, grad = None, upperbound = upperbound, lowerbound= lowerbound)\n",
    "amiral_child.varible4criterion(psf_guess)\n",
    "est_psf_param, value_criterion, value_grad = amiral_child.minimisation(psf_guess)"
   ]
  },
  {
   "cell_type": "code",
   "execution_count": null,
   "metadata": {},
   "outputs": [],
   "source": [
    "print(est_psf_param)"
   ]
  },
  {
   "cell_type": "markdown",
   "metadata": {},
   "source": [
    "## Debug"
   ]
  },
  {
   "cell_type": "markdown",
   "metadata": {},
   "source": [
    "#### Matched with IDL output\n",
    "- fourier_variable[ft(im)]\n",
    "- image\n",
    "- fourier_variable[\"ft(mean_object)\"]"
   ]
  },
  {
   "cell_type": "code",
   "execution_count": null,
   "metadata": {},
   "outputs": [],
   "source": [
    "# image (Matched IDL definition as it is directly copied from IDL)\n",
    "print(\"fourier_variable[ft(im)]\\n=============================\")\n",
    "utils.info(conv_image)"
   ]
  },
  {
   "cell_type": "code",
   "execution_count": null,
   "metadata": {},
   "outputs": [],
   "source": [
    "# ft_im - matched the IDL output\n",
    "ft_im = utils.fft2D(conv_image, DIMENSION)\n",
    "\n",
    "print(\"fourier_variable[ft(im)]\\n=============================\")\n",
    "utils.info(ft_im, imaginary = True)\n",
    "plt.imshow(np.real(ft_im))"
   ]
  },
  {
   "cell_type": "code",
   "execution_count": null,
   "metadata": {},
   "outputs": [],
   "source": [
    "# fourier_variable[\"ft(mean_object)\"] - matched the IDL output\n",
    "utils.info(amiral_child.fourier_variable[\"ft(mean_object)\"], imaginary = True)\n",
    "#plt.imshow(np.log10(np.abs(amiral_child.fourier_variable[\"ft(mean_object)\"])+0.1))"
   ]
  },
  {
   "cell_type": "code",
   "execution_count": null,
   "metadata": {},
   "outputs": [],
   "source": [
    "# psd_halo - matched the IDL output \n",
    "fXY = aosys.fX**2 + aosys.fY**2\n",
    "utils.info(psd_halo)"
   ]
  },
  {
   "cell_type": "code",
   "execution_count": null,
   "metadata": {},
   "outputs": [],
   "source": [
    "# psd - matched the IDL output \n",
    "utils.info(psd, imaginary = True)\n",
    "plt.imshow(np.log10(psd))"
   ]
  },
  {
   "cell_type": "code",
   "execution_count": null,
   "metadata": {},
   "outputs": [],
   "source": [
    "# otf_atmo - matched the IDL output\n",
    "utils.info(otf_atmo, imaginary=True)\n",
    "plt.imshow(otf_atmo)"
   ]
  },
  {
   "cell_type": "markdown",
   "metadata": {},
   "source": [
    "#### In progress"
   ]
  },
  {
   "cell_type": "markdown",
   "metadata": {},
   "source": [
    "For each variable, check the following: \n",
    "- max, min, mean, sum \n",
    "- sum(abs())\n",
    "\n",
    "\n",
    "One thing \n",
    "- we know the otf_atmo is correct but the otf_tel is not correct due to the different definition. \n",
    "\n",
    "Question \n",
    "\n",
    "- We are using || for fourier variables, as long as the sum is the same, it should be fine? \n",
    "\n",
    "Current problem \n",
    "\n",
    "- I dont think we have the same defintion of fft and ifft, in order the have the same output, we must match all the defintions ... "
   ]
  },
  {
   "cell_type": "code",
   "execution_count": null,
   "metadata": {},
   "outputs": [],
   "source": [
    "# otf_tel (pup_tf in IDL)\n",
    "# corr = np.fft.ifft2(pupil_plane)\n",
    "# test = (np.abs(corr)**2) / np.sum(pupil_plane) * (DIMENSION**2)\n",
    "# test is still correct\n",
    "# pup_tf = fftshift(abs(fft(pup))^2,/INVERSE) /total(pup) * n_elements(pup) ; normalised diffraction pattern\n",
    "\n",
    "utils.info(otf_tel, imaginary = True)\n",
    "plt.imshow(np.log10(otf_tel))"
   ]
  },
  {
   "cell_type": "markdown",
   "metadata": {},
   "source": [
    "Due to the error in otf_tel, the ft_psf is off too ... which means terms containing ft_psf is wrong ... "
   ]
  },
  {
   "cell_type": "code",
   "execution_count": null,
   "metadata": {},
   "outputs": [],
   "source": [
    "# fourier_variable[\"ft(psf)\"] - the minimum is off, so as the sum\n",
    "utils.info(amiral_child.fourier_variable[\"ft(psf)\"], imaginary = True)\n",
    "np.sum(np.abs(amiral_child.fourier_variable[\"ft(psf)\"]))\n",
    "plt.imshow(np.log10(np.abs(amiral_child.fourier_variable[\"psd(psf)\"])))"
   ]
  },
  {
   "cell_type": "code",
   "execution_count": null,
   "metadata": {},
   "outputs": [],
   "source": [
    "# psf - close! - because the imaginary part in the otf_tel is not correct ... \n",
    "utils.info(psf_total)\n",
    "plt.imshow(np.log10(psf_total))"
   ]
  },
  {
   "cell_type": "code",
   "execution_count": null,
   "metadata": {},
   "outputs": [],
   "source": [
    "#fourier_variable[\"error2\"] |i - h*o_m|**2 \n",
    "# minimum is off again, but the maximum and mean is good ...\n",
    "# sum is \n",
    "utils.info(amiral_child.fourier_variable[\"error2\"], imaginary = True)\n",
    "\n",
    "# matched IDL output\n",
    "np.sum(amiral_child.fourier_variable[\"error2\"])\n",
    "plt.imshow(np.log10(amiral_child.fourier_variable[\"error2\"]))\n",
    "print(np.sum(amiral_child.fourier_variable[\"error2\"]))"
   ]
  },
  {
   "cell_type": "code",
   "execution_count": null,
   "metadata": {},
   "outputs": [],
   "source": [
    "# fourier_variable[\"psd(psf)\"] \n",
    "# mean is wrong\n",
    "utils.info(amiral_child.fourier_variable[\"psd(psf)\"], imaginary = True)"
   ]
  },
  {
   "cell_type": "code",
   "execution_count": null,
   "metadata": {},
   "outputs": [],
   "source": [
    "# mean_error (tfi2_moy)\n",
    "# Minimum is off but the rest matched the IDL ouput\n",
    "mean_error = utils.mean_cir_array(amiral_child.fourier_variable[\"error2\"])\n",
    "utils.info(mean_error, imaginary = True)\n",
    "np.sum(mean_error)"
   ]
  },
  {
   "cell_type": "code",
   "execution_count": null,
   "metadata": {},
   "outputs": [],
   "source": [
    "# meam_ft_h2(tfh2_moy)\n",
    "# mean and the minimum are off (given that the otf is off too ...)\n",
    "meam_ft_h2 = utils.mean_cir_array(amiral_child.fourier_variable[\"psd(psf)\"])\n",
    "utils.info(meam_ft_h2, imaginary = True)\n",
    "# sum is off\n",
    "np.sum(meam_ft_h2)"
   ]
  },
  {
   "cell_type": "code",
   "execution_count": null,
   "metadata": {},
   "outputs": [],
   "source": [
    "# sb_ini\n",
    "# matched the IDL output\n",
    "\n",
    "dimension = 512\n",
    "\n",
    "sb_ini = (np.sum(amiral_child.fourier_variable[\"error2\"][0,0:dimension]) + \n",
    "          np.sum(amiral_child.fourier_variable[\"error2\"][dimension-1, 0:dimension]) \n",
    "          + np.sum(amiral_child.fourier_variable[\"error2\"][1:dimension-1, 0]) + \n",
    "            np.sum(amiral_child.fourier_variable[\"error2\"][1:dimension-1, dimension-1])) / (4.*dimension - 4.)\n",
    "\n",
    "print(sb_ini)"
   ]
  },
  {
   "cell_type": "code",
   "execution_count": null,
   "metadata": {},
   "outputs": [],
   "source": [
    "# All off - length is correct\n",
    "print(\"\\nlen:\", len(amiral_child.fourier_variable[\"error2\"][0,0:dimension]))\n",
    "utils.info(amiral_child.fourier_variable[\"error2\"][0,0:dimension])\n",
    "np.sum(amiral_child.fourier_variable[\"error2\"][0,0:dimension]) - 1001557.7383473666"
   ]
  },
  {
   "cell_type": "code",
   "execution_count": null,
   "metadata": {},
   "outputs": [],
   "source": [
    "# All off\n",
    "print(\"\\nlen:\", len(amiral_child.fourier_variable[\"error2\"][dimension-1, 0:dimension]))\n",
    "utils.info(amiral_child.fourier_variable[\"error2\"][dimension-1, 0:dimension])\n",
    "np.sum(amiral_child.fourier_variable[\"error2\"][dimension-1, 0:dimension]) - 1002877.2089995614"
   ]
  },
  {
   "cell_type": "code",
   "execution_count": null,
   "metadata": {},
   "outputs": [],
   "source": [
    "print(\"\\nlen:\", len(amiral_child.fourier_variable[\"error2\"][1:dimension-1, 0]))\n",
    "utils.info(amiral_child.fourier_variable[\"error2\"][1:dimension-1, 0])\n",
    "np.sum(amiral_child.fourier_variable[\"error2\"][1:dimension-1, 0]) - 1089953.2424355166"
   ]
  },
  {
   "cell_type": "code",
   "execution_count": null,
   "metadata": {},
   "outputs": [],
   "source": [
    "print(\"\\nlen:\", len(amiral_child.fourier_variable[\"error2\"][1:dimension-1, dimension-1]))\n",
    "utils.info(amiral_child.fourier_variable[\"error2\"][1:dimension-1, dimension-1])\n",
    "np.sum(amiral_child.fourier_variable[\"error2\"][1:dimension-1, dimension-1]) - 1086312.6571350598"
   ]
  },
  {
   "cell_type": "code",
   "execution_count": null,
   "metadata": {},
   "outputs": [],
   "source": [
    "# k_ini\n",
    "# almost matched IDL output (1.1213083933789605e+17)\n",
    "k_ini = mean_error[1] \n",
    "k_ini - 1.1213083933789605e+17"
   ]
  },
  {
   "cell_type": "code",
   "execution_count": null,
   "metadata": {},
   "outputs": [],
   "source": [
    "# mu_ini \n",
    "# matched IDL output\n",
    "mu_ini = sb_ini / k_ini\n",
    "print(mu_ini)\n",
    "mu_ini - 1.8240768346243759e-14"
   ]
  },
  {
   "cell_type": "markdown",
   "metadata": {},
   "source": [
    "Minimisation"
   ]
  },
  {
   "cell_type": "code",
   "execution_count": null,
   "metadata": {},
   "outputs": [],
   "source": [
    "# check this again: amiral_child.fourier_variable[\"error2\"]\n",
    "arr = amiral_child.fourier_variable[\"error2\"]\n",
    "utils.info(arr)\n",
    "np.sum(arr)"
   ]
  },
  {
   "cell_type": "code",
   "execution_count": null,
   "metadata": {},
   "outputs": [],
   "source": [
    "# fourier_variable[\"rho\"] \n",
    "# matched the IDL output\n",
    "arr = amiral_child.fourier_variable[\"rho\"]\n",
    "utils.info(arr)\n",
    "np.sum(arr)"
   ]
  },
  {
   "cell_type": "code",
   "execution_count": null,
   "metadata": {},
   "outputs": [],
   "source": [
    "# fourier_variable[\"good_rho\"]\n",
    "arr = amiral_child.fourier_variable[\"good_rho\"]\n",
    "utils.info(arr)\n",
    "np.sum(arr)"
   ]
  },
  {
   "cell_type": "code",
   "execution_count": null,
   "metadata": {},
   "outputs": [],
   "source": [
    "# checking the initialisation - matched IDL ouput\n",
    "amiral_child.hyperparam_initial(psf_guess)"
   ]
  },
  {
   "cell_type": "code",
   "execution_count": null,
   "metadata": {},
   "outputs": [],
   "source": [
    "# fourier_variable[\"psd_object_ini\"] - dspo\n",
    "# - matched IDL output\n",
    "# 1.686e-07   1.000e+00   1.152e-04     3.021e+01\n",
    "arr = amiral_child.fourier_variable[\"psd_object_ini\"]\n",
    "\n",
    "plt.imshow(np.log10(arr))\n",
    "\n",
    "utils.info(arr)\n",
    "np.sum(arr)"
   ]
  },
  {
   "cell_type": "code",
   "execution_count": null,
   "metadata": {},
   "outputs": [],
   "source": [
    "# fourier_variable[\"psd_model_i\"] - denom\n",
    "# matched the IDL output\n",
    "# 1.824e-14   1.000e+00   4.300e-05 1.127e+01\n",
    "arr = amiral_child.fourier_variable[\"psd_model_i\"]\n",
    "np.sum(arr)\n",
    "\n",
    "plt.imshow(np.log10(arr))\n",
    "utils.info(arr)\n",
    "np.sum(arr)"
   ]
  },
  {
   "cell_type": "code",
   "execution_count": null,
   "metadata": {},
   "outputs": [],
   "source": [
    "# fourier_variable[\"k_hat\"] - does not matched ... due to tfh(?) \n",
    "arr = amiral_child.fourier_variable[\"k_hat\"]\n",
    "print(arr) # 9.791e+16"
   ]
  },
  {
   "cell_type": "code",
   "execution_count": null,
   "metadata": {},
   "outputs": [],
   "source": [
    "# does not matched ...\n",
    "test_k = amiral_child.fourier_variable[\"error2\"] / amiral_child.fourier_variable[\"psd_model_i\"]\n",
    "\n",
    "utils.info(amiral_child.fourier_variable[\"error2\"])\n",
    "print(np.sum(arr))\n",
    "\n",
    "test_sum = np.sum(test_k[amiral_child.fourier_variable[\"good_rho\"]])\n",
    "print(test_sum)"
   ]
  },
  {
   "cell_type": "code",
   "execution_count": null,
   "metadata": {},
   "outputs": [],
   "source": [
    "# fourier_variable[\"psd_noise\"] - doesnt not matched because it depends on k_hat\n",
    "arr = amiral_child.fourier_variable[\"psd_noise\"]\n",
    "print(arr-1.786e+03)"
   ]
  },
  {
   "cell_type": "code",
   "execution_count": null,
   "metadata": {},
   "outputs": [],
   "source": [
    "# fourier_variable[\"psd_object\"] - dsp_objet\n",
    "# doesnt not match ... \n",
    "# 1.651e+10   9.791e+16   1.128e+13    2.958e+18\n",
    "arr = amiral_child.fourier_variable[\"psd_object\"]\n",
    "utils.info(arr)\n",
    "print(np.sum(arr))"
   ]
  },
  {
   "cell_type": "code",
   "execution_count": null,
   "metadata": {},
   "outputs": [],
   "source": [
    "# fourier_variable[\"psd_image_est\"] - dsp_i\n",
    "# doesnt match ... \n",
    "# 1.786e+03   9.791e+16   4.210e+12   1.104e+18\n",
    "arr = amiral_child.fourier_variable[\"psd_image_est\"]\n",
    "utils.info(arr)\n",
    "print(np.sum(arr))"
   ]
  },
  {
   "cell_type": "code",
   "execution_count": null,
   "metadata": {},
   "outputs": [],
   "source": [
    "# criterion - crit\n",
    "# does not match IDL output \n",
    "# 1654207.5616180671\n",
    "\n",
    "print(value_criterion)\n",
    "\n",
    "k_hat = 9.791e+16\n",
    "psd_noise = mu_ini*k_hat\n",
    "psd_object = k_hat*amiral_child.fourier_variable[\"psd_object_ini\"]\n",
    "psd_image_est = amiral_child.fourier_variable[\"psd(psf)\"]*psd_object+psd_noise\n",
    "good_rho = amiral_child.fourier_variable[\"good_rho\"]\n",
    "error = amiral_child.fourier_variable[\"error2\"]\n",
    "\n",
    "test_crit = 0.5 * np.sum(np.log(psd_image_est[good_rho])) + 0.5* np.sum(error[good_rho]/psd_image_est[good_rho])"
   ]
  },
  {
   "cell_type": "code",
   "execution_count": null,
   "metadata": {},
   "outputs": [],
   "source": [
    "## gradient function in the minimiser\n",
    "gradient = amiral_child.gradient(psf_guess)\n",
    "print(gradient)"
   ]
  },
  {
   "cell_type": "markdown",
   "metadata": {},
   "source": [
    "# IDL \n",
    "grad_psf: [313637.36820290622      -422776.16167403548      -20852.509443358213      -338842.43443541240       22386.038647048441]\n",
    "\n",
    "grad_hyper: [-1.5547975389990738e+18       42539.024177912448      -111031.55773929584]"
   ]
  },
  {
   "cell_type": "markdown",
   "metadata": {},
   "source": [
    "#### python\n",
    "grad_psf:\n",
    "[ 3.76661374e+05  1.76712368e-06  1.05124255e-04 -7.47756685e-03\n",
    "  3.44429096e-04  0.00000000e+00  0.00000000e+00]\n",
    "  \n",
    "  \n",
    "grad_hyper:\n",
    "[5.82125344e+18\n",
    "  3.72709536e+04 -9.05318129e+04]"
   ]
  },
  {
   "cell_type": "markdown",
   "metadata": {},
   "source": [
    "## What to do now? \n",
    "\n",
    "1. Check the gradient function in python when bringing the analytical grad to the minimiser. Current gradient seems to be too large!\n",
    "\n",
    "2. One thing to check is the defintion of the gradient \n",
    "    - Are they centred at the centre of the image or at the corner? \n",
    "    - Subtracting the wrong version will lead to an error\n",
    "\n",
    "3. \n"
   ]
  },
  {
   "cell_type": "code",
   "execution_count": null,
   "metadata": {},
   "outputs": [],
   "source": []
  },
  {
   "cell_type": "code",
   "execution_count": null,
   "metadata": {},
   "outputs": [],
   "source": []
  }
 ],
 "metadata": {
  "kernelspec": {
   "display_name": "Python 3",
   "language": "python",
   "name": "python3"
  },
  "language_info": {
   "codemirror_mode": {
    "name": "ipython",
    "version": 3
   },
   "file_extension": ".py",
   "mimetype": "text/x-python",
   "name": "python",
   "nbconvert_exporter": "python",
   "pygments_lexer": "ipython3",
   "version": "3.6.12"
  }
 },
 "nbformat": 4,
 "nbformat_minor": 4
}
