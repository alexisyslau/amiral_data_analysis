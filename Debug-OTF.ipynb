{
 "cells": [
  {
   "cell_type": "markdown",
   "metadata": {},
   "source": [
    "## Description\n",
    "This is a notebook for debugging OTF_Tel\n",
    "\n",
    "#### Make sure before you perform fft, you shift the frequency domain back into the quarant ...\n",
    "\n",
    "\n"
   ]
  },
  {
   "cell_type": "markdown",
   "metadata": {},
   "source": [
    "# Section\n",
    "<details>\n",
    "  <summary>Click to expand!</summary>\n",
    "  \n",
    "  ## Heading\n",
    "  1. [Generate a PSF](#Generate-a-PSF)\n",
    "    * [Zero Padding](#Zero-Padding)\n",
    "    * [Setting up the system](#Setting-up-the-system)\n",
    "    * [Pupil Function](#Pupil-Function)\n",
    "    \n",
    "  2.[Minimisation](#Minimisation)\n",
    "    \n",
    "  3.[How to fix the differences?](#How-to-fix-the-differences?)\n",
    "    \n",
    "  3.[Doesnt match with the IDL output](#Doesnt-match)\n",
    "  \n",
    "</details>"
   ]
  },
  {
   "cell_type": "code",
   "execution_count": null,
   "metadata": {},
   "outputs": [],
   "source": [
    "# Packages required\n",
    "import numpy as np\n",
    "import matplotlib.pyplot as plt\n",
    "from matplotlib import rcParams\n",
    "from astropy.io import fits\n",
    "import os\n",
    "#Change to your path\n",
    "os.chdir(\"/Users/alau/Repo/amiral\")\n",
    "from amiral import instructment, utils, parameter, gradient\n",
    "from scipy.optimize import minimize \n",
    "from scipy import signal\n",
    "%matplotlib inline"
   ]
  },
  {
   "cell_type": "code",
   "execution_count": null,
   "metadata": {},
   "outputs": [],
   "source": [
    "# Global variable\n",
    "# Parameters to modify\n",
    "SEED = -1234       # Seed for random numbers generation\n",
    "FLUX = 5e8         # Object total intensity [e-]\n",
    "READ_OUT_NOISE = 10. # CCD read-out noise standard-deviation [e-]\n",
    "DATA_DIR = \"/Users/alau/IDLWorkspace/Data/Vesta_OASIS/\"\n",
    "DATA_FITS = DATA_DIR + \"2018-06-08T05_27_05.809.fits\"\n",
    "DIMENSION = 256 # Dimension of the image\n",
    "LOOP = True\n",
    "\n",
    "test_data_dir = \"/Users/alau/Data/amiral_fits/\""
   ]
  },
  {
   "cell_type": "code",
   "execution_count": null,
   "metadata": {},
   "outputs": [],
   "source": [
    "# Setup of the system\n",
    "fits_img = fits.open(DATA_FITS)\n",
    "fits_img.info() \n",
    "\n",
    "obj = fits_img[0].data\n",
    "\n",
    "aosys = instructment.aoSystem(sampling = 2,diameter = 7., occ_ratio = 0.1, no_acutuator = 30, wavelength = 500, dimension = DIMENSION, resolution_rad = None)\n",
    "fX, fY, freqnull = aosys.psd_frequency_array(DIMENSION, aosys.samp_factor[0])\n",
    "\n",
    "pupil = aosys.get_pupil_plane()\n",
    "\n",
    "\n",
    "pupil_IDL = fits.open(test_data_dir+\"pupil_plane.fits\")\n",
    "pupil_IDL = pupil_IDL[0].data\n",
    "\n",
    "\n",
    "diff = utils.view_diff(pupil, pupil_IDL)\n",
    "utils.info(diff)"
   ]
  },
  {
   "cell_type": "code",
   "execution_count": null,
   "metadata": {},
   "outputs": [],
   "source": [
    "otf_tel_abs = aosys.pupil_to_otf_tel(pupil, absolute = True)\n",
    "otf_tel_real = aosys.pupil_to_otf_tel(pupil, absolute = False)\n",
    "\n",
    "otf_tel_abs_IDL = fits.open(test_data_dir+\"otf_tel_abs.fits\")\n",
    "otf_tel_abs_IDL = otf_tel_abs_IDL[0].data\n",
    "\n",
    "otf_tel_real_IDL = fits.open(test_data_dir+\"otf_tel_real.fits\")\n",
    "otf_tel_real_IDL = otf_tel_real_IDL[0].data\n",
    "\n",
    "\n",
    "diff = utils.view_diff(otf_tel_abs,otf_tel_abs_IDL)\n",
    "utils.info(diff)\n",
    "\n",
    "plt.imshow(otf_tel_abs)\n",
    "\n",
    "utils.info(tel_abs)\n",
    "utils.info(otf_tel_abs_IDL)"
   ]
  },
  {
   "cell_type": "code",
   "execution_count": null,
   "metadata": {},
   "outputs": [],
   "source": [
    "psd_halo = aosys.psd_residual_halo(0.15)\n",
    "psd_halo_IDL = fits.open(test_data_dir+\"psd_halo.fits\")\n",
    "psd_halo_IDL = psd_halo_IDL[0].data\n",
    "\n",
    "diff = utils.view_diff(psd_halo, psd_halo_IDL)\n",
    "\n",
    "print(np.sum(psd_halo)- np.sum(psd_halo_IDL))"
   ]
  },
  {
   "cell_type": "code",
   "execution_count": null,
   "metadata": {},
   "outputs": [],
   "source": [
    "param = {\n",
    "    \"r0\": 0.15,                  \n",
    "    \"background\": 1e-10 ,      \n",
    "    \"amplitude\": 1.8,       \n",
    "    \"ax\": 0.05,                            \n",
    "    \"ay\": 0.05, \n",
    "    \"theta\": 0., \n",
    "    \"beta\": 1.5,\n",
    "    \"mu\": 1., \n",
    "    \"rho0\": 1., \n",
    "    \"p\": 1.\n",
    "}\n",
    "\n",
    "param_key, param_input = utils.dict2array(param)\n",
    "\n",
    "psd_ao = aosys.psd_residual_ao (guess = param_input)\n",
    "\n",
    "\n",
    "\n",
    "\n",
    "\n",
    "\n",
    "\n",
    "psd_halo = aosys.psd_residual_halo(r0=0.15)\n",
    "\n",
    "psd = psd_halo + psd_ao \n",
    "\n",
    "\n",
    "psd_total_IDL = fits.open(test_data_dir+\"psd_total.fits\")\n",
    "psd_total_IDL = psd_total_IDL[0].data\n",
    "psd_halo_IDL = fits.open(test_data_dir+\"psd_halo.fits\")\n",
    "psd_halo_IDL = psd_halo_IDL[0].data\n",
    "\n",
    "diff = utils.view_diff(psd_ao,psd_total_IDL-psd_halo_IDL)\n",
    "utils.info(diff)\n",
    "\n",
    "\n",
    "plt.imshow(psd_ao)\n",
    "\n",
    "print(np.max(np.abs(psd_halo_IDL-psd_halo)))"
   ]
  },
  {
   "cell_type": "code",
   "execution_count": null,
   "metadata": {},
   "outputs": [],
   "source": [
    "integral, SR = aosys.psd_integral(psd, r0=param[\"r0\"])\n",
    "otf_atmo = aosys.otf_atmo(psd)\n",
    "otf_total = aosys.otf_total(otf_tel_abs, otf_atmo)\n",
    "psf_total = aosys.psfao(otf_total)\n",
    "\n",
    "print(\"\\nSum of the PSF (which should be excatly 1.)\", np.sum(np.abs(psf_total)))\n",
    "print(\"\\nMax of the otf_atmo: (which should be excatly 1.)\", np.max(otf_atmo))\n",
    "print(\"\\nMax of the otf_tel: (which should be excatly 1.)\", np.max(otf_tel_abs))\n",
    "print(\"\\nMax of the OTF (which should be excatly 1.)\", np.max(otf_total))"
   ]
  },
  {
   "cell_type": "code",
   "execution_count": null,
   "metadata": {},
   "outputs": [],
   "source": [
    "# # Try to match the IDL defintion \n",
    "# size_pupil_array = int(np.ceil(DIMENSION/aosys.sampling))\n",
    "# pupil_array = np.zeros((DIMENSION, DIMENSION))\n",
    "\n",
    "# Rpup = np.fft.fftshift(utils.dist(size_pupil_array)/(size_pupil_array/2))\n",
    "# Rpup_IDL = utils.load_fits(\"/Users/alau/Rpup.fits\")\n",
    "\n",
    "# fig, ax =  plt.subplots(figsize = (10,10))\n",
    "# pos = ax.imshow(Rpup_IDL-Rpup_IDL)\n",
    "# fig.colorbar(pos, ax=ax)\n",
    "# # \n",
    "# utils.info(Rpup_IDL-Rpup_IDL)\n",
    "# #pup_tf = np.fft.fftshift(np.abs(np.fft.ifft2(np.abs(np.fft.fft2(pupil_array))**2)))/np.sum(pupil_array)"
   ]
  },
  {
   "cell_type": "code",
   "execution_count": null,
   "metadata": {},
   "outputs": [],
   "source": [
    "# pup_IDL = utils.load_fits(\"/Users/alau/pupil.fits\")\n",
    "\n",
    "# pupil_array[0:size_pupil_array,0:size_pupil_array] = (Rpup <= 1) * (Rpup >= aosys.occ_ratio)\n",
    "\n",
    "\n",
    "# fig, ax =  plt.subplots(figsize = (10,10))\n",
    "# pos = ax.imshow(pup_IDL-pupil_array)\n",
    "# fig.colorbar(pos, ax=ax)\n",
    "\n",
    "# utils.info(pup_IDL-pupil_array)\n",
    "# print(np.sum(pup_IDL-pupil_array))"
   ]
  },
  {
   "cell_type": "code",
   "execution_count": null,
   "metadata": {},
   "outputs": [],
   "source": [
    "diff = np.fft.fft2(pup_IDL)- np.fft.fft2(pupil_array)\n",
    "\n",
    "\n",
    "fig, ax =  plt.subplots(figsize = (10,10))\n",
    "pos = ax.imshow(np.real(diff))\n",
    "fig.colorbar(pos, ax=ax)\n",
    "\n",
    "utils.info(diff)"
   ]
  },
  {
   "cell_type": "code",
   "execution_count": null,
   "metadata": {},
   "outputs": [],
   "source": [
    "# compare the abs(fft(pup))\n",
    "abs_pup = np.abs(np.fft.fft2(pupil_array))/(512**2)\n",
    "abs_pup_IDL = utils.load_fits(\"/Users/alau/abs_pup.fits\")\n",
    "\n",
    "fig, ax =  plt.subplots(figsize = (10,10))\n",
    "pos = ax.imshow(np.log10(abs_pup-abs_pup_IDL))\n",
    "ax.set_title('FFT Difference (IDL-python)')\n",
    "fig.colorbar(pos, ax=ax)\n",
    "\n",
    "utils.info(abs_pup-abs_pup_IDL)"
   ]
  },
  {
   "cell_type": "code",
   "execution_count": null,
   "metadata": {},
   "outputs": [],
   "source": [
    "a = [1,2,3,4]\n",
    "\n",
    "print(np.fft.fft(a)*(1/4))\n",
    "print(np.fft.ifft(a)/(1/4))"
   ]
  },
  {
   "cell_type": "code",
   "execution_count": null,
   "metadata": {
    "scrolled": false
   },
   "outputs": [],
   "source": [
    "# continue working on the defintion of the pupil function\n",
    "abs_fft_abs_pup2 = np.fft.fftshift(np.fft.ifft2(np.abs(np.fft.fft2(pupil_array))**2))\n",
    "abs_fft_abs_pup2 = np.abs(abs_fft_abs_pup2)/(512**2)\n",
    "\n",
    "abs_fft_abs_pup2_IDL = utils.load_fits(\"/Users/alau/abs_fft_abs_pup2.fits\")\n",
    "\n",
    "\n",
    "diff = abs_fft_abs_pup2_IDL-abs_fft_abs_pup2\n",
    "utils.info(diff)\n",
    "\n",
    "fig, ax =  plt.subplots(figsize = (10,10))\n",
    "pos = ax.imshow(diff)\n",
    "ax.set_title('Pupil Plane Difference (IDL-python)')\n",
    "fig.colorbar(pos, ax=ax)\n",
    "\n"
   ]
  },
  {
   "cell_type": "code",
   "execution_count": null,
   "metadata": {},
   "outputs": [],
   "source": [
    "# define pup_tf \n",
    "abs_fft_abs_pup2 = np.fft.fftshift(np.fft.ifft2(np.abs(np.fft.fft2(pupil_array))**2))\n",
    "\n",
    "pup_tf = abs_fft_abs_pup2/np.sum(pupil_array)\n",
    "\n",
    "pup_tf_real = np.real(pup_tf)\n",
    "\n",
    "#utils.info(pup_tf, imaginary = True)\n",
    "\n",
    "otf_tel_real_IDL = utils.load_fits(\"/Users/alau/otf_tel_real.fits\")\n",
    "\n",
    "diff = otf_tel_real_IDL - pup_tf_real\n",
    "fig, ax =  plt.subplots(figsize = (10,10))\n",
    "pos = ax.imshow(diff)\n",
    "ax.set_title('Pupil Plane Difference (IDL-python)')\n",
    "\n",
    "\n",
    "fig.colorbar(pos, ax=ax)\n",
    "\n",
    "\n",
    "utils.info(diff)"
   ]
  },
  {
   "cell_type": "code",
   "execution_count": null,
   "metadata": {},
   "outputs": [],
   "source": [
    "# Investigate the difference between the real one \n",
    "# No clue ...\n",
    "\n",
    "otf_tel = aosys.pupil_to_otf_tel(pupil)\n",
    "\n",
    "otf_tel_real_IDL = utils.load_fits(\"/Users/alau/otf_tel_real.fits\")\n",
    "\n",
    "fig, ax =  plt.subplots(figsize = (10,10))\n",
    "pos = ax.imshow(np.real(otf_tel_real_IDL-otf_tel))\n",
    "ax.set_title('Pupil Plane Difference (IDL-python)')\n",
    "fig.colorbar(pos, ax=ax)\n",
    "\n",
    "utils.info(diff)"
   ]
  },
  {
   "cell_type": "markdown",
   "metadata": {},
   "source": [
    "## Check the total OTF"
   ]
  },
  {
   "cell_type": "code",
   "execution_count": null,
   "metadata": {},
   "outputs": [],
   "source": [
    "oft_IDL = utils.load_fits(\"/Users/alau/otf_total_real.fits\")"
   ]
  },
  {
   "cell_type": "code",
   "execution_count": null,
   "metadata": {},
   "outputs": [],
   "source": [
    "diff = otf_total - oft_IDL\n",
    "utils.info(diff)\n",
    "fig, ax =  plt.subplots()\n",
    "pos = ax.imshow(np.real(diff[256-80:256+80,256-80:256+80]))\n",
    "ax.set_title('OTF total diff')\n",
    "fig.colorbar(pos, ax=ax)"
   ]
  },
  {
   "cell_type": "code",
   "execution_count": null,
   "metadata": {},
   "outputs": [],
   "source": [
    "a = np.fft.ifft2(np.abs(np.fft.fft2(pupil_array))**2)\n",
    "plt.imshow(np.real(a))"
   ]
  },
  {
   "cell_type": "markdown",
   "metadata": {},
   "source": [
    "Why the real part of otf_tel is so off?"
   ]
  },
  {
   "cell_type": "code",
   "execution_count": null,
   "metadata": {},
   "outputs": [],
   "source": [
    "otf_tel = np.fft.fftshift(np.fft.ifft2(np.abs(np.fft.fft2(pupil_array))**2))"
   ]
  },
  {
   "cell_type": "code",
   "execution_count": null,
   "metadata": {},
   "outputs": [],
   "source": [
    "IDL_fft_pup2 = utils.load_fits(\"/Users/alau/abs_fft_pup2.fits\")\n",
    "abs_fft_pup2 = np.abs(np.fft.fft2(pupil_array)*(1/512**2))**2\n",
    "diff = utils.view_diff(IDL_fft_pup2, abs_fft_pup2)\n",
    "\n",
    "utils.info(diff)\n",
    "\n",
    "plt.imshow(np.log10(abs_fft_pup2))"
   ]
  },
  {
   "cell_type": "code",
   "execution_count": null,
   "metadata": {},
   "outputs": [],
   "source": [
    "# compare real(fftshift(abs(fft(pup))^2,/INVERSE))\n",
    "# continue working on the defintion of the pupil function\n",
    "abs_fft_abs_pup2 = np.fft.fftshift(np.fft.ifft2(np.fft.fftshift((np.abs(np.fft.fft2(pupil_array)*(1./512**2))**2)))/(1./512**2))\n",
    "real_fft_abs_pup2 = np.real(abs_fft_abs_pup2)\n",
    "\n",
    "real_fft_abs_pup2_IDL = utils.load_fits(\"/Users/alau/real_fft_abs_pup2.fits\")\n",
    "\n",
    "\n",
    "diff = real_fft_abs_pup2_IDL-real_fft_abs_pup2\n",
    "utils.info(diff)\n",
    "\n",
    "print(real_fft_abs_pup2_IDL.max()/real_fft_abs_pup2.max())\n",
    "\n",
    "fig, ax =  plt.subplots(figsize = (10,10))\n",
    "pos = ax.imshow(diff)\n",
    "ax.set_title('Pupil Plane Difference (IDL-python)')\n",
    "fig.colorbar(pos, ax=ax)\n",
    "\n",
    "\n"
   ]
  },
  {
   "cell_type": "code",
   "execution_count": null,
   "metadata": {},
   "outputs": [],
   "source": [
    "# Check the difference between the real part of the fft using pupil as an example"
   ]
  },
  {
   "cell_type": "code",
   "execution_count": null,
   "metadata": {},
   "outputs": [],
   "source": [
    "real_fft_pup_IDL = utils.load_fits(\"/Users/alau/real_fft_pup.fits\")\n",
    "real_fft_pup = np.real(np.fft.fft2(pupil_array))*(1./512**2)\n",
    "\n",
    "diff = utils.view_diff(real_fft_pup_IDL,real_fft_pup)\n",
    "utils.info(diff)"
   ]
  },
  {
   "cell_type": "code",
   "execution_count": null,
   "metadata": {},
   "outputs": [],
   "source": [
    "# otf_tel\n",
    "\n",
    "otf_tel = aosys.pupil_to_otf_tel(pupil_array)\n",
    "\n",
    "otf_tel_test = real_fft_abs_pup2 / np.sum(pupil_array) * (512**2)\n",
    "\n",
    "otf_tel_IDL_real = utils.load_fits(\"/Users/alau/otf_tel_real.fits\")\n",
    "\n",
    "diff = utils.view_diff(np.real(otf_tel_test),otf_tel_IDL_real)\n",
    "\n",
    "\n",
    "utils.info(diff)\n",
    "\n",
    "\n",
    "print(np.where( diff == diff.max()))"
   ]
  }
 ],
 "metadata": {
  "kernelspec": {
   "display_name": "Python 3",
   "language": "python",
   "name": "python3"
  },
  "language_info": {
   "codemirror_mode": {
    "name": "ipython",
    "version": 3
   },
   "file_extension": ".py",
   "mimetype": "text/x-python",
   "name": "python",
   "nbconvert_exporter": "python",
   "pygments_lexer": "ipython3",
   "version": "3.6.12"
  }
 },
 "nbformat": 4,
 "nbformat_minor": 4
}
