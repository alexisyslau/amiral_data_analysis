{
 "cells": [
  {
   "cell_type": "markdown",
   "metadata": {},
   "source": [
    "## Description\n",
    "\n",
    "A tutorial to give an example for finding the criterion map. \n",
    "\n",
    "#### Package required for AMIRAL: \n",
    "- numpy\n",
    "- matplotlib\n",
    "- astropy\n",
    "- maoppy --> but I need to think how to implement it because it is being set a bit differently\n",
    "- decovbench --> \n",
    "- cython \n",
    "\n",
    "To implement the environment, import the environment from .yml file. (Check to see if it is the most-up-to-date version.)"
   ]
  },
  {
   "cell_type": "code",
   "execution_count": null,
   "metadata": {},
   "outputs": [],
   "source": [
    "# Packages required\n",
    "import numpy as np\n",
    "import matplotlib.pyplot as plt\n",
    "from matplotlib import rcParams\n",
    "from astropy.io import fits\n",
    "import os\n",
    "#Change to your path\n",
    "os.chdir(\"/Users/alau/Repo/amiral\")\n",
    "from amiral import instructment, utils, parameter, gradient, minimisation, array\n",
    "from scipy.optimize import minimize \n",
    "%matplotlib inline"
   ]
  },
  {
   "cell_type": "code",
   "execution_count": null,
   "metadata": {},
   "outputs": [],
   "source": [
    "# Global vairable\n",
    "# Parameter to be modify\n",
    "\n",
    "FLUX = 5e8         # Object total intensity [e-]\n",
    "test_data_dir  = \"/Users/alau/Data/amiral_fits/VESTA/\"\n",
    "image_name = \"image_noise_20.fits\""
   ]
  },
  {
   "cell_type": "markdown",
   "metadata": {},
   "source": [
    "To setup the PSF estimation, you first need to:\n",
    "- a defintion of an ao system\n",
    "- PSF parameter\n",
    "- image you would like to perform estimation"
   ]
  },
  {
   "cell_type": "code",
   "execution_count": null,
   "metadata": {},
   "outputs": [],
   "source": [
    "aosys_dict = {\n",
    "    'diameter': 7 , \n",
    "    'occ_ratio': 0.1 , \n",
    "    'no_acutuator' : 30, \n",
    "    'wavelength': 500, \n",
    "    'dimension': 256,\n",
    "    'resolution_rad' : 3.5e-8 \n",
    "}"
   ]
  },
  {
   "cell_type": "code",
   "execution_count": null,
   "metadata": {},
   "outputs": [],
   "source": [
    "amiral_dict = {\n",
    "    \"r0\": 0.15,  #0.2                \n",
    "    \"background\": 0.01,      \n",
    "    \"amplitude\": 1.2,  #1.6     \n",
    "    \"ax\": 0.05,                            \n",
    "    \"beta\": 1.5, \n",
    "    \"mu\": 0., \n",
    "    \"rho0\": 0., \n",
    "    \"p\": 0. \n",
    "}"
   ]
  },
  {
   "cell_type": "markdown",
   "metadata": {},
   "source": [
    "As you can see in here, PSF hyperparameters are not initialised. Therefore, it will be dealt with later on. Now convert the dict into arrays"
   ]
  },
  {
   "cell_type": "code",
   "execution_count": null,
   "metadata": {},
   "outputs": [],
   "source": [
    "psf_keys, psf_guess = utils.dict2array(amiral_dict)"
   ]
  },
  {
   "cell_type": "code",
   "execution_count": null,
   "metadata": {},
   "outputs": [],
   "source": [
    "img = utils.load_fits(test_data_dir+image_name)"
   ]
  },
  {
   "cell_type": "code",
   "execution_count": null,
   "metadata": {},
   "outputs": [],
   "source": [
    "aosys_cls = instructment.aoSystem( \n",
    "        diameter = aosys_dict['diameter'], \n",
    "        occ_ratio = aosys_dict['occ_ratio'], \n",
    "        no_acutuator= aosys_dict['no_acutuator'], \n",
    "        wavelength = aosys_dict['wavelength']*1e-9, \n",
    "        resolution_rad = aosys_dict['resolution_rad'], \n",
    "        dimension=aosys_dict['dimension'])  \n",
    "\n",
    "\n",
    "print(aosys_cls.N_padded)\n",
    "\n",
    "\n",
    "img_trim = img[256-128:256+128,256-128:256+128]\n",
    "\n",
    "# amiralparam = parameter.amiralParam(img ,guess = psf_guess, aosys = aosys_cls)\n",
    "amiralparam = parameter.amiralParam(img_trim ,guess = psf_guess, aosys = aosys_cls)\n",
    "plt.imshow(img_trim)"
   ]
  },
  {
   "cell_type": "markdown",
   "metadata": {},
   "source": [
    "Now, we need to set up the bounds, hyperparameters and the fourier variables before calculating the criterion. "
   ]
  },
  {
   "cell_type": "code",
   "execution_count": null,
   "metadata": {},
   "outputs": [],
   "source": [
    "hyper_guess = amiralparam.hyperparam_initial(psf_guess)\n",
    "hyper_min, hyper_max = amiralparam.hyperparam_bound(psf_guess, p_upperbound = 4.5)\n",
    "\n",
    "psf_guess[-3] = hyper_guess[0] \n",
    "psf_guess[-2] = hyper_guess[1]\n",
    "psf_guess[-1] = hyper_guess[2]\n",
    "\n",
    "param_min = np.asarray([0.01,0,0,1e-8,1.01])\n",
    "param_max =  np.asarray([1.,1e8,1e8,1e3,10])\n",
    "\n",
    "upperbound = np.concatenate((param_max, hyper_max))\n",
    "lowerbound = np.concatenate((param_min, hyper_min))\n",
    "\n",
    "param_numerical_condition = np.array([1., 1e-4, 1., 1., 1.])\n",
    "hyperparam_numerical_condition = np.array([hyper_guess[0], hyper_guess[1], 1.])\n",
    "\n",
    "numerical_condition = np.concatenate((param_numerical_condition, hyperparam_numerical_condition))\n",
    "\n",
    "param_mask = np.asarray([1,0,1,0,0])\n",
    "hyper_param_mask = np.asarray([1,1,0])\n",
    "\n",
    "mask = np.concatenate((param_mask,hyper_param_mask))\n",
    "\n",
    "amiral_cls = parameter.amiral(img=img_trim, guess=psf_guess, aosys = aosys_cls, upperbound = upperbound, lowerbound= lowerbound, numerical_condition = numerical_condition, fourier_variable = amiralparam.fourier_variable, mask = mask)\n"
   ]
  },
  {
   "cell_type": "code",
   "execution_count": null,
   "metadata": {},
   "outputs": [],
   "source": [
    "numeric_param = minimisation.param_physical2numerical(psf_guess, amiral_cls.numerical_condition)"
   ]
  },
  {
   "cell_type": "code",
   "execution_count": null,
   "metadata": {},
   "outputs": [],
   "source": [
    "print(psf_guess)\n",
    "print(amiral_cls.numerical_condition)"
   ]
  },
  {
   "cell_type": "code",
   "execution_count": null,
   "metadata": {},
   "outputs": [],
   "source": [
    "crit = amiral_cls.marg_criterion(numeric_param)\n",
    "grad = amiral_cls.gradient(numeric_param, debug = True)"
   ]
  },
  {
   "cell_type": "code",
   "execution_count": null,
   "metadata": {},
   "outputs": [],
   "source": [
    "crit = amiral_cls.marg_criterion(numeric_param)\n",
    "print(crit-3002362.4)"
   ]
  },
  {
   "cell_type": "code",
   "execution_count": null,
   "metadata": {},
   "outputs": [],
   "source": [
    "est_criterion, value_criterion, value_grad = amiral_cls.minimisation(psf_guess)\n"
   ]
  },
  {
   "cell_type": "code",
   "execution_count": null,
   "metadata": {},
   "outputs": [],
   "source": [
    "print(est_criterion)"
   ]
  },
  {
   "cell_type": "code",
   "execution_count": null,
   "metadata": {},
   "outputs": [],
   "source": [
    "est_criterion_1, value_criterion, value_grad = amiral_cls.minimisation(est_criterion)"
   ]
  },
  {
   "cell_type": "code",
   "execution_count": null,
   "metadata": {},
   "outputs": [],
   "source": [
    "print(est_criterion_1)"
   ]
  },
  {
   "cell_type": "code",
   "execution_count": null,
   "metadata": {},
   "outputs": [],
   "source": [
    "psf_guess"
   ]
  },
  {
   "cell_type": "code",
   "execution_count": null,
   "metadata": {},
   "outputs": [],
   "source": [
    "grad = amiral_cls.gradient(psf_guess, debug = True)"
   ]
  },
  {
   "cell_type": "code",
   "execution_count": null,
   "metadata": {},
   "outputs": [],
   "source": [
    "grad_norm = amiral_cls.gradient(psf_guess)"
   ]
  },
  {
   "cell_type": "code",
   "execution_count": null,
   "metadata": {},
   "outputs": [],
   "source": []
  },
  {
   "cell_type": "code",
   "execution_count": null,
   "metadata": {},
   "outputs": [],
   "source": []
  }
 ],
 "metadata": {
  "kernelspec": {
   "display_name": "Python 3",
   "language": "python",
   "name": "python3"
  },
  "language_info": {
   "codemirror_mode": {
    "name": "ipython",
    "version": 3
   },
   "file_extension": ".py",
   "mimetype": "text/x-python",
   "name": "python",
   "nbconvert_exporter": "python",
   "pygments_lexer": "ipython3",
   "version": "3.6.12"
  }
 },
 "nbformat": 4,
 "nbformat_minor": 4
}
