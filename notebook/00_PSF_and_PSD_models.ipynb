{
 "cells": [
  {
   "cell_type": "markdown",
   "metadata": {},
   "source": [
    "## Description\n",
    "\n",
    "Here, we would like to understand how different parameters affect the shape of the PSF. Also, PSD of the object\n",
    "\n",
    "#### Package required for AMIRAL: \n",
    "- numpy\n",
    "- matplotlib\n",
    "- astropy\n",
    "- maoppy --> but I need to think how to implement it because it is being set a bit differently\n",
    "- decovbench --> \n",
    "- cython \n",
    "\n",
    "To implement the environment, import the environment from .yml file. (Check to see if it is the most-up-to-date version.)"
   ]
  },
  {
   "cell_type": "code",
   "execution_count": null,
   "metadata": {},
   "outputs": [],
   "source": [
    "# Packages required\n",
    "import numpy as np\n",
    "import matplotlib.pyplot as plt\n",
    "from matplotlib import rcParams\n",
    "from astropy.io import fits\n",
    "import os\n",
    "#Change to your path\n",
    "os.chdir(\"/Users/alau/Repo/amiral\")\n",
    "from amiral import instructment, utils, parameter, gradient, minimisation, array\n",
    "from scipy.optimize import minimize \n",
    "%matplotlib inline"
   ]
  },
  {
   "cell_type": "code",
   "execution_count": null,
   "metadata": {},
   "outputs": [],
   "source": [
    "# Global variable\n",
    "# Parameters to modify\n",
    "FLUX = 5e8         # Object total intensity [e-]\n",
    "test_data_dir  = \"/Users/alau/Data/amiral_fits/VESTA/\"\n",
    "image_name = \"image_noise_43.fits\""
   ]
  },
  {
   "cell_type": "code",
   "execution_count": null,
   "metadata": {},
   "outputs": [],
   "source": [
    "# move these functions into the plotting (except create psfao19 otf)\n",
    "\n",
    "def create_psfao19_otf (otf_tel, guess, aosys_cls): \n",
    "    \n",
    "    # Use PSFAO19 model to create a PSF\n",
    "    psd_ao = aosys_cls.psd_residual_ao (guess = guess)\n",
    "    psd_halo = aosys_cls.psd_residual_halo(r0 = guess[0])\n",
    "    \n",
    "    psd = psd_ao + psd_halo\n",
    "\n",
    "    otf_atmo = aosys_cls.otf_atmo(psd)\n",
    "    otf_total = otf_atmo*otf_tel\n",
    "    \n",
    "    \n",
    "    return otf_atmo,otf_total\n",
    "\n",
    "\n",
    "def plot_otf_total(aosys_cls,otf_total): \n",
    "    \n",
    "    fig, ax = plt.subplots()\n",
    "    ycent = int((256*aosys_cls.samp_factor[0])//2)\n",
    "\n",
    "    ax.plot(np.abs(otf_total[ycent,...]))\n",
    "    ax.set_title('OTF(total)')\n",
    "    ax.axhline(y=1, color = 'r', ls = '--')\n",
    "    \n",
    "    return 0 \n",
    "\n",
    "def plot_psd_object(): \n",
    "    \n",
    "    fig, ax = plt.subplots()\n",
    "    ycent = int((256*aosys_cls.samp_factor[0])//2)\n",
    "\n",
    "    ax.plot(np.abs(otf_total[ycent,...]))\n",
    "    ax.set_title('OTF(total)')\n",
    "    ax.axhline(y=1, color = 'r', ls = '--')\n",
    "    \n",
    "    pass"
   ]
  },
  {
   "cell_type": "code",
   "execution_count": null,
   "metadata": {},
   "outputs": [],
   "source": [
    "img = utils.load_fits(test_data_dir+image_name)"
   ]
  },
  {
   "cell_type": "code",
   "execution_count": null,
   "metadata": {},
   "outputs": [],
   "source": [
    "aosys_dict = {\n",
    "    'diameter': 7 , \n",
    "    'occ_ratio': 0.1 , \n",
    "    'no_acutuator' : 30, \n",
    "    'wavelength': 500, \n",
    "    'dimension': 256,\n",
    "    'resolution_rad' : 3.5e-8 \n",
    "}"
   ]
  },
  {
   "cell_type": "code",
   "execution_count": null,
   "metadata": {},
   "outputs": [],
   "source": [
    "amiral_dict = {\n",
    "    \"r0\": 0.1,  #0.2                \n",
    "    \"background\": 0.01,      \n",
    "    \"amplitude\": 0.1,  #1.6     \n",
    "    \"ax\": 0.05,                            \n",
    "    \"beta\": 1.5, \n",
    "    \"mu\": 0., \n",
    "    \"rho0\": 0., \n",
    "    \"p\": 0. \n",
    "}"
   ]
  },
  {
   "cell_type": "code",
   "execution_count": null,
   "metadata": {},
   "outputs": [],
   "source": [
    "psf_keys, psf_guess = utils.dict2array(amiral_dict)"
   ]
  },
  {
   "cell_type": "markdown",
   "metadata": {},
   "source": [
    "## Generate a PSF \n",
    "\n",
    "aoSystem is used to provide a serveral outputs: PSD_array, pupil function (or the pupil plane), and ? - see the IDL output first! aoSystem inherits functions and methods from telescopeSetup (so I wont need to define all parameters again). \n",
    "\n",
    "#### Zero-Padding\n",
    "\n",
    "- remember to pad before fft \n",
    "- zoom to area of interest after fft\n",
    "\n",
    "First, we need to choose an image for deconvolution. In here, we have picked the asteriods. \n",
    "\n",
    "Consider changing the true asteriod into PSF $\\circledast$ true object. \n",
    "\n",
    "#### Image formation theory\n",
    "\\begin{equation}\n",
    "I = H*O+N, \n",
    "\\end{equation}\n",
    "\n",
    "where $I$ is the image, $H$ is the PSF, $O$ is the object and $N$ is the noise.\n",
    "\n",
    "\n",
    "In the Fourier space,\n",
    "\\begin{equation}\n",
    "    \\hat{I} = \\hat{O} \\hat{H} + \\hat{N}, \n",
    "\\end{equation}\n",
    "where $\\hat{I}$, $\\hat{O}$ and $\\hat{N}$ are the Fourier transform of the image, object and noise respectively. Using the fourier space, it is easier for us to calculate the observed image, as we can take an inverse transform of $\\hat{O} \\hat{H} + \\hat{N}$. "
   ]
  },
  {
   "cell_type": "code",
   "execution_count": null,
   "metadata": {},
   "outputs": [],
   "source": [
    "aosys_cls = instructment.aoSystem( \n",
    "        diameter = aosys_dict['diameter'], \n",
    "        occ_ratio = aosys_dict['occ_ratio'], \n",
    "        no_acutuator= aosys_dict['no_acutuator'], \n",
    "        wavelength = aosys_dict['wavelength']*1e-9, \n",
    "        resolution_rad = aosys_dict['resolution_rad'], \n",
    "        dimension=aosys_dict['dimension'])  "
   ]
  },
  {
   "cell_type": "markdown",
   "metadata": {},
   "source": [
    "#### Pupil Function\n",
    "To get the telescope component of the PSF, we need to know the pupil function first. From the pupil function, auto-correlation function of pupil function will give you the diffraction-limited OTF."
   ]
  },
  {
   "cell_type": "code",
   "execution_count": null,
   "metadata": {},
   "outputs": [],
   "source": [
    "pupil = aosys_cls.get_pupil_plane()\n",
    "plt.imshow(pupil)"
   ]
  },
  {
   "cell_type": "code",
   "execution_count": null,
   "metadata": {},
   "outputs": [],
   "source": [
    "# As the functions requires 2D array, for 0 phase offset, 0*pupil_plane will keep the shape\n",
    "# As you may know the whole otf is in the form of : h = h_tel + h_AO + h_shift (if we need one)\n",
    "otf_tel = aosys_cls.pupil_to_otf_tel(pupil)\n",
    "\n",
    "fig, ax =  plt.subplots()\n",
    "ax.set_title(\"OTF (diffraction limited)\")\n",
    "pos = ax.imshow(np.real(otf_tel), cmap='Reds', interpolation='none')\n",
    "fig.colorbar(pos, ax=ax)"
   ]
  },
  {
   "cell_type": "markdown",
   "metadata": {},
   "source": [
    "#### OTF and PSF\n",
    "\n",
    "Optical Transfer Function (OTF) is a complex-valued function describing the response of an imaging system as a function of spatial frequency. It is formally defined as the Fourier Transform of the PSF, \n",
    "\\begin{equation}\n",
    "\\label{eqn:OTF}\n",
    "    \\tilde{H} = \\tilde{h}_T.\\tilde{h}_\\mathrm{{atmo}},\n",
    "\\end{equation}\n",
    "where $\\tilde{H}$ is the total OTF, $\\tilde{h}_T$ is the instrument OTF and $\\tilde{h}_\\mathrm{{atmo}}$ is the residual atmospheric OTF. The instrument OTF can be derived from the pupil function auto-correlation."
   ]
  },
  {
   "cell_type": "code",
   "execution_count": null,
   "metadata": {},
   "outputs": [],
   "source": [
    "psf_tel = np.fft.fftshift(np.real(utils.ifft2D(otf_tel)))\n",
    "\n",
    "cx = len(psf_tel[0])/2\n",
    "print(cx)\n",
    "\n",
    "fig, ax =  plt.subplots()\n",
    "ax.set_title(\"PSF(diffraction limited)\")\n",
    "pos = ax.imshow(np.log10(psf_tel[int(cx)-80:int(cx)+80,int(cx)-80:int(cx)+80]), interpolation='none')\n",
    "fig.colorbar(pos, ax=ax)"
   ]
  },
  {
   "cell_type": "markdown",
   "metadata": {},
   "source": [
    "## Fetick-2019-PSFmodel\n",
    "\n",
    "\n",
    "The aim of this model is not a full PSF reconstruction but to get a physical model to demonstrate it. From \\cite{Goodman1968} and \\cite{Roddier1981}, we know that the phase PSD consists of all information for PSF characterisation. Therefore, instead of directly modelling the PSF from the focal plane, \\cite{Fetick2019} directly parameterises the phase PSD and gives the PSF using Fourier Transform. \n",
    "\n",
    "The model seperates the PSD into 2 components: $f <= f_{AO}$ and $f > f_{AO}$. $f_{AO}$ is the AO spatial cutoff frequency, which is the maximum spatial frequency of the phase to be corrected by the AO system.\n",
    "\n",
    "To get the whole PSD, we need to combine those 2 components such that: \n",
    "\\begin{equation}\n",
    "    PSD_{total} = PSD_{AO} + PSD_{halo},\n",
    "\\end{equation}\n",
    "where $PSD_{AO}$ describes AO-corrected frequencies regions and $PSD_{halo}$ refers to AO-uncorrected frequencies regions. \n",
    "\n",
    "The uncorrected area is not modified by the AO system, hence, it follows the Kolmogorov law, \n",
    "\n",
    "\\begin{equation}\n",
    "    W_{\\phi, Kolmo} (f) = 0.023r_0^{-5/3}f^{-11/3},\n",
    "\\end{equation}\n",
    "\n",
    "where $f > f_{AO}$ and $r_0$ is the Fried parameter. We call this component $PSD_{halo}$ and it is only set by the knowledge of Fried parameter.\n",
    "\n",
    "Based on the moffat function, we are able to parameterise the AO-corrected PSD as:\n",
    "\n",
    "\\begin{equation}\n",
    "    W_\\phi(f) = \\frac{\\beta - 1}{\\pi \\alpha_x \\alpha_y} \\frac{M_A(f_x,f_y)}{1-(1+\\frac{f_{AO}^2}{\\alpha_x \\alpha_y})^{1-\\beta}}+ C, \n",
    "\\end{equation}\n",
    "\n",
    "where $f <= f_{AO}$, (description for parameters). \n",
    "\n",
    "\\textcolor{red}{Add a section to describe what are the $B_\\phi$ and $D_\\phi$ in here}\n",
    "\n",
    "$B_\\phi$ is the residual phase co-variance function (?). $D_\\phi$ is phase structure function, defined by:\n",
    "\\begin{equation}\n",
    "    D_\\phi (\\rho) = \\langle (\\phi(r) - \\phi(r + \\rho))^2 \\rangle\n",
    "\\end{equation}\n",
    "Correlation of the phases as a function of spatial distance at a time instance(?). \n",
    "\n",
    "As $D_\\phi$ increases, it means that the phase has a higher chance of not correlating to the phase we would like to predict or know (or interested in)\n",
    "\n",
    "For instance, $D_\\phi$ increases when $r_0$ decreases , which means it is more difficult for us to predict the phase in other positions.\n",
    "\n",
    "PSF model is now made of a set of 7 parameters: {$\\alpha_x,\\alpha_y, \\beta, \\theta_R, C, r_0, A$}. (description for parameters)\n",
    "\n",
    "In here, we consider **symmetric** case by setting $\\alpha_x = \\alpha_y$ and $\\theta_R = 0$. Once the PSD and OTF of the telescopes are calculated, we get the PSF using: \n",
    "\\begin{equation}\n",
    "    h(\\rho / \\lambda) = \\mathcal{F}^{-1} {h...}.\n",
    "\\end{equation}"
   ]
  },
  {
   "cell_type": "code",
   "execution_count": null,
   "metadata": {},
   "outputs": [],
   "source": [
    "psd_ao = aosys_cls.psd_residual_ao (guess = psf_guess)\n",
    "\n",
    "# Plotting the PSD of turbulent region (not corrected by the AO)\n",
    "psd_halo = aosys_cls.psd_residual_halo(r0 = psf_guess[0])\n",
    "\n",
    "psd = psd_ao + psd_halo\n",
    "\n",
    "\n",
    "fig, ax =  plt.subplots(1,3, constrained_layout=True, figsize=(20, 10))\n",
    "\n",
    "ax[0].set_title(r\"PSD($\\mathrm{f{>}f_{AO}}$)\")\n",
    "pos = ax[0].imshow(np.log10(psd_halo), interpolation='none')\n",
    "fig.colorbar(pos, ax=ax[0], pad = 0.15, shrink = 0.5)\n",
    "\n",
    "ax[1].set_title(r\"PSD($\\mathrm{f{\\leq}f_{AO}}$)\")\n",
    "pos1 = ax[1].imshow(np.log10(psd_ao), interpolation='none')\n",
    "fig.colorbar(pos1, ax=ax[1], pad = 0.15, shrink = 0.5)\n",
    "\n",
    "ax[2].set_title(r\"Total PSD\")\n",
    "pos2 = ax[2].imshow(np.log10(psd_ao+psd_halo), interpolation='none')\n",
    "fig.colorbar(pos2, ax=ax[2], pad = 0.15,shrink = 0.5)"
   ]
  },
  {
   "cell_type": "markdown",
   "metadata": {},
   "source": [
    "#### OTF "
   ]
  },
  {
   "cell_type": "code",
   "execution_count": null,
   "metadata": {},
   "outputs": [],
   "source": [
    "otf_atmo = aosys_cls.otf_atmo(psd)\n",
    "otf_total = otf_atmo*otf_tel\n",
    "\n",
    "fig, ax =  plt.subplots(1,3, constrained_layout=True, figsize=(20, 10))\n",
    "\n",
    "ax[0].set_title(r\"$\\mathrm{OTF_{atmos}}$\")\n",
    "pos = ax[0].imshow(np.log10(otf_atmo), interpolation='none')\n",
    "fig.colorbar(pos, ax=ax[0], pad = 0.15, shrink = 0.5)\n",
    "\n",
    "ax[1].set_title(r\"$\\mathrm{OTF_{tel}}$\")\n",
    "pos1 = ax[1].imshow(np.real(otf_tel), interpolation='none')\n",
    "fig.colorbar(pos1, ax=ax[1], pad = 0.15, shrink = 0.5)\n",
    "\n",
    "ax[2].set_title(r\"Total OTF\")\n",
    "pos2 = ax[2].imshow(np.real(otf_total), interpolation='none')\n",
    "fig.colorbar(pos2, ax=ax[2], pad = 0.15,shrink = 0.5)"
   ]
  },
  {
   "cell_type": "markdown",
   "metadata": {},
   "source": [
    "Therefore, the PSF would be: "
   ]
  },
  {
   "cell_type": "code",
   "execution_count": null,
   "metadata": {},
   "outputs": [],
   "source": [
    "psf_total = np.fft.fftshift(np.real(utils.ifft2D(otf_total)))\n",
    "print(np.min(psf_total))\n",
    "\n",
    "\n",
    "\n",
    "fig, ax =  plt.subplots(1,2, constrained_layout=True, figsize=(20, 10))\n",
    "pos = ax[0].imshow(np.log10(psf_total),vmin=-10)\n",
    "ax[0].set_title('PSF total')\n",
    "fig.colorbar(pos, ax=ax[0])\n",
    "\n",
    "pos1 = ax[1].imshow(np.log10(psf_tel),vmin=-10)\n",
    "ax[1].set_title('PSF telescope')\n",
    "fig.colorbar(pos1, ax=ax[1])\n",
    "\n",
    "plt.subplots_adjust(hspace=0.5)\n",
    "plt.savefig(\"demo.png\", dpi = 300)\n",
    "plt.show()\n",
    "# Need to look into - > Calculate the Strehl ratio (ratio of the max of 2 psfs)"
   ]
  },
  {
   "cell_type": "code",
   "execution_count": null,
   "metadata": {
    "scrolled": true
   },
   "outputs": [],
   "source": [
    "rcParams['figure.figsize'] = 13 ,11\n",
    "fig, ax = plt.subplots(1,3)\n",
    "fig.tight_layout(pad=0.4, w_pad=0.6, h_pad=4.0)\n",
    "\n",
    "ycent = int((256*aosys_cls.samp_factor[0])//2)\n",
    "\n",
    "print(ycent)\n",
    "ax[0].plot(np.abs(otf_total[ycent,...]))\n",
    "ax[0].set_title('OTF(total)')\n",
    "ax[0].axhline(y=1, color = 'r', ls = '--')\n",
    "\n",
    "ax[1].plot(np.abs(otf_tel)[ycent, :])\n",
    "ax[1].set_title('OTF(telescope)')\n",
    "ax[1].axhline(y=1, color = 'r', ls = '--')\n",
    "\n",
    "ax[2].plot(otf_atmo[ycent, :])\n",
    "ax[2].set_title('OTF(atmosphere)')\n",
    "ax[2].axhline(y=1, color = 'r', ls = '--')\n",
    "\n",
    "print(\"\\nSum of the PSF (which should be excatly 1.)\", np.sum(np.abs(psf_total)))\n",
    "print(\"\\nMax of the otf_atmo: (which should be excatly 1.)\", np.max(otf_atmo))\n",
    "print(\"\\nMax of the otf_tel: (which should be excatly 1.)\", np.max(otf_tel))\n",
    "print(\"\\nMax of the OTF (which should be excatly 1.)\", np.max(otf_total))"
   ]
  },
  {
   "cell_type": "code",
   "execution_count": null,
   "metadata": {},
   "outputs": [],
   "source": [
    "guess = \n",
    "\n",
    "otf_guess = create_psfao19_otf (otf_tel, guess, aosys_cls)"
   ]
  },
  {
   "cell_type": "code",
   "execution_count": null,
   "metadata": {},
   "outputs": [],
   "source": [
    "rcParams['figure.figsize'] = 13 ,11\n",
    "fig, ax = plt.subplots()\n",
    "# fig.tight_layout(pad=0.4, w_pad=0.6, h_pad=4.0)\n",
    "\n",
    "ycent = int((256*aosys_cls.samp_factor[0])//2)\n",
    "\n",
    "print(ycent)\n",
    "ax.plot(psf_total[ycent,ycent:512], label = \"True PSF parameter\")\n",
    "ax.set_yscale('log')\n",
    "ax.set_xscale('log')\n",
    "ax.set_title('PSF')\n",
    "ax.set_ylabel(\"Normalisd intensity\")\n",
    "ax.set_ylabel(\"Pixel\")\n",
    "ax.legend()"
   ]
  },
  {
   "cell_type": "markdown",
   "metadata": {},
   "source": [
    "How does the shape of the PSF changes with respect to the parameters? "
   ]
  },
  {
   "cell_type": "code",
   "execution_count": null,
   "metadata": {},
   "outputs": [],
   "source": [
    "r0_list = np.linspace(0.1, 0.9, 10)\n",
    "sig2_list = np.linspace(0.1, 10, 10)\n",
    "alpha_list = np.linspace(0.1, 10, 10)\n",
    "\n",
    "otf_list = [] \n",
    "otf_atmo_list = []"
   ]
  },
  {
   "cell_type": "code",
   "execution_count": null,
   "metadata": {},
   "outputs": [],
   "source": [
    "# change r0\n",
    "\n",
    "otf_list = [] \n",
    "otf_atmo_list = []\n",
    "\n",
    "for i in range (len(r0_list)):\n",
    "    _psf_guess = psf_guess\n",
    "    _psf_guess[0] = r0_list[i]\n",
    "#     _psf_guess[2] = sig2_list[i]\n",
    "    \n",
    "    print(_psf_guess)\n",
    "    \n",
    "    _otf_atmo, _otf_total = create_psfao19_otf(otf_tel, _psf_guess, aosys_cls)\n",
    "#     plot_otf_total(aosys_cls,_otf_total )\n",
    "    otf_list.append(_otf_total)\n",
    "    otf_atmo_list.append(_otf_atmo)\n",
    "\n",
    "\n",
    "rcParams['figure.figsize'] = 13 ,11\n",
    "fig, ax = plt.subplots(1,2)\n",
    "fig.tight_layout(pad=0.4, w_pad=0.6, h_pad=4.0)\n",
    "\n",
    "ycent = int((256*aosys_cls.samp_factor[0])//2)\n",
    "\n",
    "print(ycent)\n",
    "ax[0].plot(np.abs(otf_list[1])[ycent, :], color = 'blue',label = 'r0 = 0.19, sig2 = 1.2' )\n",
    "ax[0].plot(np.abs(otf_list[9])[ycent, :], color = 'k', ls = '--', label = 'r0 = 0.9, sig2 = 1.2')\n",
    "ax[0].set_title('OTF(total)')\n",
    "ax[0].axhline(y=1, color = 'r', ls = '--')\n",
    "ax[0].legend()\n",
    "\n",
    "ax[1].plot(np.abs(otf_atmo_list[1])[ycent, :], color = 'blue',label = 'r0 = 0.19, sig2 = 1.2' )\n",
    "ax[1].plot(np.abs(otf_atmo_list[9])[ycent, :], color = 'k', ls = '--', label = 'r0 = 0.9, sig2 = 1.2')\n",
    "ax[1].set_title('OTF(atmosphere)')\n",
    "ax[1].axhline(y=1, color = 'r', ls = '--')\n",
    "ax[1].legend()"
   ]
  },
  {
   "cell_type": "code",
   "execution_count": null,
   "metadata": {},
   "outputs": [],
   "source": [
    "# change sig2\n",
    "\n",
    "otf_list = [] \n",
    "otf_atmo_list = []\n",
    "\n",
    "for i in range (len(r0_list)):\n",
    "    _psf_guess = psf_guess\n",
    "    _psf_guess[0] = r0_list[0]\n",
    "    _psf_guess[2] = sig2_list[i]\n",
    "    \n",
    "    print(_psf_guess)\n",
    "    \n",
    "    _otf_atmo, _otf_total = create_psfao19_otf(otf_tel, _psf_guess, aosys_cls)\n",
    "#     plot_otf_total(aosys_cls,_otf_total )\n",
    "    otf_list.append(_otf_total)\n",
    "    otf_atmo_list.append(_otf_atmo)\n",
    "\n",
    "\n",
    "rcParams['figure.figsize'] = 13 ,11\n",
    "fig, ax = plt.subplots(1,2)\n",
    "fig.tight_layout(pad=0.4, w_pad=0.6, h_pad=4.0)\n",
    "\n",
    "ycent = int((256*aosys_cls.samp_factor[0])//2)\n",
    "\n",
    "print(ycent)\n",
    "ax[0].plot(np.abs(otf_list[1])[ycent, :], color = 'blue',label = 'r0 = 0.1, sig2 = 0.1' )\n",
    "ax[0].plot(np.abs(otf_list[9])[ycent, :], color = 'k', ls = '--', label = 'r0 = 0.9, sig2 = 1.2')\n",
    "ax[0].set_title('OTF(total)')\n",
    "ax[0].axhline(y=1, color = 'r', ls = '--')\n",
    "ax[0].legend()\n",
    "\n",
    "ax[1].plot(np.abs(otf_atmo_list[1])[ycent, :], color = 'blue',label = 'r0 = 0.1, sig2 = 10' )\n",
    "ax[1].plot(np.abs(otf_atmo_list[9])[ycent, :], color = 'k', ls = '--', label = 'r0 = 0.9, sig2 = 1.2')\n",
    "ax[1].set_title('OTF(atmosphere)')\n",
    "ax[1].axhline(y=1, color = 'r', ls = '--')\n",
    "ax[1].legend()"
   ]
  },
  {
   "cell_type": "code",
   "execution_count": null,
   "metadata": {},
   "outputs": [],
   "source": [
    "# change alpha\n",
    "\n",
    "otf_list = [] \n",
    "otf_atmo_list = []\n",
    "\n",
    "for i in range (len(r0_list)):\n",
    "    _psf_guess = psf_guess\n",
    "    _psf_guess[0] = r0_list[0]\n",
    "    _psf_guess[2] = sig2_list[0]\n",
    "    _psf_guess[3] = alpha_list[i]\n",
    "    \n",
    "    print(_psf_guess)\n",
    "    \n",
    "    _otf_atmo, _otf_total = create_psfao19_otf(otf_tel, _psf_guess, aosys_cls)\n",
    "#     plot_otf_total(aosys_cls,_otf_total )\n",
    "    otf_list.append(_otf_total)\n",
    "    otf_atmo_list.append(_otf_atmo)\n",
    "\n",
    "\n",
    "rcParams['figure.figsize'] = 13 ,11\n",
    "fig, ax = plt.subplots(1,2)\n",
    "fig.tight_layout(pad=0.4, w_pad=0.6, h_pad=4.0)\n",
    "\n",
    "ycent = int((256*aosys_cls.samp_factor[0])//2)\n",
    "\n",
    "print(ycent)\n",
    "ax[0].plot(np.abs(otf_list[0])[ycent, :], color = 'blue',label = 'alpha = 0.1' )\n",
    "ax[0].plot(np.abs(otf_list[9])[ycent, :], color = 'k', ls = '--', label = 'alpha = 10.' )\n",
    "ax[0].set_title('OTF(total)')\n",
    "ax[0].axhline(y=1, color = 'r', ls = '--')\n",
    "ax[0].legend()\n",
    "\n",
    "ax[1].plot(np.abs(otf_atmo_list[0])[ycent, :], color = 'blue',label = 'alpha = 0.1' )\n",
    "ax[1].plot(np.abs(otf_atmo_list[9])[ycent, :], color = 'k', ls = '--', label = 'alpha = 10.')\n",
    "ax[1].set_title('OTF(atmosphere)')\n",
    "ax[1].axhline(y=1, color = 'r', ls = '--')\n",
    "ax[1].legend()"
   ]
  },
  {
   "cell_type": "markdown",
   "metadata": {},
   "source": [
    "## PSD \n",
    "\n",
    "In here, we esitmate the PSD of the object with a model from Conan et al. 1998. This model depends on 3 parameters: $k$, ${\\rho} _0$ and $p$. \n",
    "\n",
    "\\begin{equation}\n",
    "    S_{obj} = \\frac {k} {1 + (f/ \\rho_0)^p},\n",
    "\\end{equation}\n",
    "\n",
    "where $k$ is the value of the object PSD at $f$ = 0 (which is almost the square of the flux), $\\rho_0$ is inversely proportional to the characteristic size of the object and $p$ is the decrease power law.  \n"
   ]
  },
  {
   "cell_type": "code",
   "execution_count": null,
   "metadata": {},
   "outputs": [],
   "source": [
    "k_list = np.linspace(1e17, 9e17, 10)\n",
    "rho0_list = np.linspace(0.5, 2, 10)\n",
    "p_list = np.linspace(0.5, 4, 10)\n",
    "psd_obj_list = []"
   ]
  },
  {
   "cell_type": "code",
   "execution_count": null,
   "metadata": {},
   "outputs": [],
   "source": [
    "# (f/rho0) --> rho\n",
    "# self.fourier_variable[\"rho\"] = np.fft.fftshift(utils.dist(dimension))/rho0\n",
    "# self.fourier_variable[\"psd_object_ini\"] = 1./ (np.power(self.fourier_variable[\"rho\"],p) + 1.) # Equation checked\n"
   ]
  },
  {
   "cell_type": "code",
   "execution_count": null,
   "metadata": {},
   "outputs": [],
   "source": [
    "psd_obj_list = []\n",
    "\n",
    "# Change k\n",
    "for i in range(len(k_list)): \n",
    "    rho = np.fft.fftshift(utils.dist(256))/rho0_list[0]\n",
    "    _psd_obj =  k_list[i]/ (np.power(rho,p_list[0]) + 1.)\n",
    "    \n",
    "    psd_obj_list.append(_psd_obj)\n",
    "    \n",
    "    \n",
    "\n",
    "fig, ax = plt.subplots(1,1)\n",
    "fig.tight_layout(pad=0.4, w_pad=0.6, h_pad=4.0)\n",
    "ax.set_xscale('log')\n",
    "ycent = int((256*aosys_cls.samp_factor[0])//2)\n",
    "print(ycent)\n",
    "ax.plot(utils.mean_cir_array(psd_obj_list[0]), color = 'blue',label = 'k = 1e17' )\n",
    "ax.plot(utils.mean_cir_array(psd_obj_list[9]), color = 'k', ls = '--', label = 'k = 9e17')\n",
    "ax.set_title('Circular average of the sqaured modulus of PSD (changing k)')\n",
    "ax.legend()"
   ]
  },
  {
   "cell_type": "code",
   "execution_count": null,
   "metadata": {},
   "outputs": [],
   "source": [
    "# (f/rho0) --> rho\n",
    "# self.fourier_variable[\"rho\"] = np.fft.fftshift(utils.dist(dimension))/rho0\n",
    "# self.fourier_variable[\"psd_object_ini\"] = 1./ (np.power(self.fourier_variable[\"rho\"],p) + 1.) # Equation checked\n",
    "\n",
    "psd_obj_list = []\n",
    "# Change rho0\n",
    "for i in range(len(rho0_list)): \n",
    "    rho = np.fft.fftshift(utils.dist(512))/rho0_list[i]\n",
    "    _psd_obj =  k_list[0]/ (np.power(rho,p_list[0]) + 1.)\n",
    "    \n",
    "    psd_obj_list.append(_psd_obj)\n",
    "    \n",
    "\n",
    "    \n",
    "fig, ax = plt.subplots(1,1)\n",
    "fig.tight_layout(pad=0.4, w_pad=0.6, h_pad=4.0)\n",
    "\n",
    "ycent = int((256*aosys_cls.samp_factor[0])//2)\n",
    "ax.set_xscale('log')\n",
    "ax.plot(utils.mean_cir_array(psd_obj_list[0]), color = 'blue',label = 'rho0 = 0.5' )\n",
    "ax.plot(utils.mean_cir_array(psd_obj_list[9]), color = 'k', ls = '--', label = 'rho0 = 2')\n",
    "ax.set_title('Circular average of the sqaured modulus of PSD (changing rho0)')\n",
    "ax.legend()"
   ]
  },
  {
   "cell_type": "code",
   "execution_count": null,
   "metadata": {},
   "outputs": [],
   "source": [
    "# (f/rho0) --> rho\n",
    "# self.fourier_variable[\"rho\"] = np.fft.fftshift(utils.dist(dimension))/rho0\n",
    "# self.fourier_variable[\"psd_object_ini\"] = 1./ (np.power(self.fourier_variable[\"rho\"],p) + 1.) # Equation checked\n",
    "\n",
    "psd_obj_list = []\n",
    "\n",
    "# Change p\n",
    "\n",
    "for i in range(len(p_list)): \n",
    "    rho = np.fft.fftshift(utils.dist(512))/rho0_list[0]\n",
    "    _psd_obj =  k_list[0]/ (np.power(rho,p_list[i]) + 1.)\n",
    "    print(p_list[i])\n",
    "    \n",
    "    psd_obj_list.append(_psd_obj)\n",
    "    \n",
    "fig, ax = plt.subplots(1,1)\n",
    "fig.tight_layout(pad=0.4, w_pad=0.6, h_pad=4.0)\n",
    "\n",
    "ycent = int((256*aosys_cls.samp_factor[0])//2)\n",
    "ax.set_xscale('log')\n",
    "ax.plot(utils.mean_cir_array(psd_obj_list[0]), color = 'blue',label = 'p = 0.5' )\n",
    "ax.plot(utils.mean_cir_array(psd_obj_list[9]), color = 'k', ls = '--', label = 'p = 4')\n",
    "ax.set_title('Circular average of the sqaured modulus of PSD (changing p)')\n",
    "ax.axhline(y=0, color = 'r', ls = '--')\n",
    "ax.legend()"
   ]
  },
  {
   "cell_type": "code",
   "execution_count": null,
   "metadata": {},
   "outputs": [],
   "source": [
    "np.sum(utils.mean_cir_array(psd_obj_list[0]))"
   ]
  },
  {
   "cell_type": "code",
   "execution_count": null,
   "metadata": {},
   "outputs": [],
   "source": [
    "np.sum(utils.mean_cir_array(psd_obj_list[9]))"
   ]
  },
  {
   "cell_type": "code",
   "execution_count": null,
   "metadata": {},
   "outputs": [],
   "source": [
    "plt.imshow(np.real(np.fft.fft2(psf_tel)))"
   ]
  },
  {
   "cell_type": "code",
   "execution_count": null,
   "metadata": {},
   "outputs": [],
   "source": []
  }
 ],
 "metadata": {
  "kernelspec": {
   "display_name": "Python 3",
   "language": "python",
   "name": "python3"
  },
  "language_info": {
   "codemirror_mode": {
    "name": "ipython",
    "version": 3
   },
   "file_extension": ".py",
   "mimetype": "text/x-python",
   "name": "python",
   "nbconvert_exporter": "python",
   "pygments_lexer": "ipython3",
   "version": "3.6.12"
  }
 },
 "nbformat": 4,
 "nbformat_minor": 4
}
