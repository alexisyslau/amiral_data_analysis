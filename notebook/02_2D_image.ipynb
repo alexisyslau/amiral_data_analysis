{
 "cells": [
  {
   "cell_type": "markdown",
   "metadata": {},
   "source": [
    "## Description\n",
    "\n",
    "A tutorial to give an example on how to use AMIRAL and get the esitmated object. In here, we use a simulated image of VESTA as an example.\n",
    "\n",
    "#### Package required for AMIRAL: \n",
    "- numpy\n",
    "- matplotlib\n",
    "- astropy\n",
    "- maoppy --> but I need to think how to implement it because it is being set a bit differently\n",
    "- decovbench --> \n",
    "- cython \n",
    "\n",
    "To implement the environment, import the environment from .yml file. (Check to see if it is the most-up-to-date version.)"
   ]
  },
  {
   "cell_type": "code",
   "execution_count": null,
   "metadata": {},
   "outputs": [],
   "source": [
    "# Packages required\n",
    "import numpy as np\n",
    "import matplotlib.pyplot as plt\n",
    "from matplotlib import rcParams\n",
    "from astropy.io import fits\n",
    "import os\n",
    "#Change to your path\n",
    "os.chdir(\"/Users/alau/Repo/amiral\")\n",
    "from amiral import instructment, utils, parameter, gradient, minimisation, array\n",
    "from scipy.optimize import minimize \n",
    "%matplotlib inline"
   ]
  },
  {
   "cell_type": "code",
   "execution_count": null,
   "metadata": {},
   "outputs": [],
   "source": [
    "# Global variable\n",
    "# Parameters to modify\n",
    "FLUX = 5e8         # Object total intensity [e-]\n",
    "test_data_dir  = \"/Users/alau/Data/amiral_fits/VESTA/\"\n",
    "image_name = \"image_noise_100.fits\""
   ]
  },
  {
   "cell_type": "markdown",
   "metadata": {},
   "source": [
    "To setup the PSF estimation, you first need to:\n",
    "- a defintion of an ao system\n",
    "- PSF parameter\n",
    "- image you would like to perform estimation"
   ]
  },
  {
   "cell_type": "code",
   "execution_count": null,
   "metadata": {},
   "outputs": [],
   "source": [
    "# input variables\n",
    "\n",
    "aosys_dict = {\n",
    "    'diameter': 7 , \n",
    "    'occ_ratio': 0.1 , \n",
    "    'no_acutuator' : 30, \n",
    "    'wavelength': 500, \n",
    "    'dimension': 256,\n",
    "    'resolution_rad' : 3.5e-8 \n",
    "}"
   ]
  },
  {
   "cell_type": "code",
   "execution_count": null,
   "metadata": {},
   "outputs": [],
   "source": [
    "# input variables\n",
    "\n",
    "amiral_dict = {\n",
    "    \"r0\": 0.5,  #0.2                \n",
    "    \"background\": 0.01,      \n",
    "    \"amplitude\": 0.1,  #1.6     \n",
    "    \"ax\": 0.05,                            \n",
    "    \"beta\": 1.5, \n",
    "    \"mu\": 0., \n",
    "    \"rho0\": 0., \n",
    "    \"p\": 0. \n",
    "}"
   ]
  },
  {
   "cell_type": "code",
   "execution_count": null,
   "metadata": {},
   "outputs": [],
   "source": [
    "# What variables to be minimised\n",
    "param_mask = np.asarray([1,0,0,0,0])\n",
    "hyper_param_mask = np.asarray([0,0,0])\n",
    "\n",
    "mask = np.concatenate((param_mask,hyper_param_mask))\n",
    "\n"
   ]
  },
  {
   "cell_type": "markdown",
   "metadata": {},
   "source": [
    "As you can see in here, PSF hyperparameters are not initialised. Therefore, it will be dealt with later on. Now convert the dict into arrays"
   ]
  },
  {
   "cell_type": "code",
   "execution_count": null,
   "metadata": {},
   "outputs": [],
   "source": [
    "psf_keys, psf_guess = utils.dict2array(amiral_dict)"
   ]
  },
  {
   "cell_type": "code",
   "execution_count": null,
   "metadata": {
    "scrolled": true
   },
   "outputs": [],
   "source": [
    "img = utils.load_fits(test_data_dir+image_name)"
   ]
  },
  {
   "cell_type": "code",
   "execution_count": null,
   "metadata": {},
   "outputs": [],
   "source": [
    "aosys_cls = instructment.aoSystem( \n",
    "        diameter = aosys_dict['diameter'], \n",
    "        occ_ratio = aosys_dict['occ_ratio'], \n",
    "        no_acutuator= aosys_dict['no_acutuator'], \n",
    "        wavelength = aosys_dict['wavelength']*1e-9, \n",
    "        resolution_rad = aosys_dict['resolution_rad'], \n",
    "        dimension=aosys_dict['dimension'])  \n",
    "\n",
    "\n",
    "print(aosys_cls.N_padded)\n",
    "\n",
    "\n",
    "amiralparam = parameter.amiralParam(img ,guess = psf_guess, aosys = aosys_cls)"
   ]
  },
  {
   "cell_type": "markdown",
   "metadata": {},
   "source": [
    "Now, we need to set up the bounds, hyperparameters and the fourier variables before calculating the criterion. "
   ]
  },
  {
   "cell_type": "code",
   "execution_count": null,
   "metadata": {},
   "outputs": [],
   "source": [
    "hyper_guess = amiralparam.hyperparam_initial(psf_guess)\n",
    "hyper_min, hyper_max = amiralparam.hyperparam_bound(psf_guess, p_upperbound = 100.)\n",
    "\n",
    "psf_guess[-3] = hyper_guess[0] \n",
    "psf_guess[-2] = hyper_guess[1]\n",
    "psf_guess[-1] = hyper_guess[2]\n",
    "\n",
    "param_min = np.asarray([0.01,0,0,1e-8,1.01])\n",
    "param_max =  np.asarray([1.,1e8,1e8,1e3,10])\n",
    "\n",
    "upperbound = np.concatenate((param_max, hyper_max))\n",
    "lowerbound = np.concatenate((param_min, hyper_min))\n",
    "\n",
    "param_numerical_condition = np.array([1., 1e-4, 1., 1., 1.])\n",
    "hyperparam_numerical_condition = np.array([hyper_guess[0], hyper_guess[1], 1.])\n",
    "\n",
    "numerical_condition = np.concatenate((param_numerical_condition, hyperparam_numerical_condition))\n",
    "\n",
    "amiral_cls = parameter.amiral(img=img, guess=psf_guess, aosys = aosys_cls, upperbound = upperbound, lowerbound= lowerbound, numerical_condition = numerical_condition, fourier_variable = amiralparam.fourier_variable, mask = mask)\n"
   ]
  },
  {
   "cell_type": "code",
   "execution_count": null,
   "metadata": {},
   "outputs": [],
   "source": [
    "numeric_param = minimisation.param_physical2numerical(psf_guess, amiral_cls.numerical_condition)"
   ]
  },
  {
   "cell_type": "code",
   "execution_count": null,
   "metadata": {},
   "outputs": [],
   "source": [
    "print(psf_guess)\n",
    "amiral_cls.varible4criterion(psf_guess)\n",
    "hyper_guess = amiralparam.hyperparam_initial(psf_guess)"
   ]
  },
  {
   "cell_type": "code",
   "execution_count": null,
   "metadata": {},
   "outputs": [],
   "source": [
    "crit = amiral_cls.marg_criterion(psf_guess)\n",
    "amiral_cls.gradient(psf_guess)\n",
    "print(crit)"
   ]
  },
  {
   "cell_type": "code",
   "execution_count": null,
   "metadata": {},
   "outputs": [],
   "source": [
    "est_criterion, value_criterion, value_grad = amiral_cls.minimisation(psf_guess)"
   ]
  },
  {
   "cell_type": "code",
   "execution_count": null,
   "metadata": {},
   "outputs": [],
   "source": [
    "print(est_criterion)"
   ]
  },
  {
   "cell_type": "code",
   "execution_count": null,
   "metadata": {},
   "outputs": [],
   "source": [
    "est_criterion_1, value_criterion, value_grad = amiral_cls.minimisation(est_criterion)"
   ]
  },
  {
   "cell_type": "code",
   "execution_count": null,
   "metadata": {},
   "outputs": [],
   "source": [
    "psf_guess"
   ]
  },
  {
   "cell_type": "code",
   "execution_count": null,
   "metadata": {},
   "outputs": [],
   "source": []
  },
  {
   "cell_type": "code",
   "execution_count": null,
   "metadata": {},
   "outputs": [],
   "source": [
    "# grad_IDL = np.array([755510.03424863936    \n",
    "#                      ,-588575.62182685791      \n",
    "#                      ,-22049.077696321303      \n",
    "#                      ,-29376.357243423521       \n",
    "#                      ,2323.1575165394297\n",
    "#                      ,-4379524002998.0815       \n",
    "#                      ,30821.644951204078      \n",
    "#                      ,-78541.771455431299])"
   ]
  },
  {
   "cell_type": "code",
   "execution_count": null,
   "metadata": {},
   "outputs": [],
   "source": [
    "  "
   ]
  },
  {
   "cell_type": "code",
   "execution_count": null,
   "metadata": {},
   "outputs": [],
   "source": [
    "grad_norm = amiral_cls.gradient(psf_guess)\n",
    "print(grad_norm)"
   ]
  },
  {
   "cell_type": "code",
   "execution_count": null,
   "metadata": {},
   "outputs": [],
   "source": [
    "k_IDL = 1.1656234695454554e+17\n",
    "k_py = 1.1651576e+17\n",
    "\n",
    "\n",
    "err = 100 * (k_py-k_IDL)/k_IDL\n",
    "print(\"K hat error in %: \", err, k_py-k_IDL)"
   ]
  },
  {
   "cell_type": "code",
   "execution_count": null,
   "metadata": {},
   "outputs": [],
   "source": [
    "1 - (k_py/k_IDL) "
   ]
  },
  {
   "cell_type": "code",
   "execution_count": null,
   "metadata": {},
   "outputs": [],
   "source": [
    "# dJdO_IDL_path = \"/Users/alau/dJdo.fits\"\n",
    "# dJdo_IDL_f = fits.open(dJdO_IDL_path)\n",
    "\n",
    "# dJdo_IDL = dJdo_IDL_f[0].data"
   ]
  },
  {
   "cell_type": "markdown",
   "metadata": {},
   "source": [
    "To check dJdo, you actually need to calculate the fourier variables again, because the old one carries information in the minimisers"
   ]
  },
  {
   "cell_type": "code",
   "execution_count": null,
   "metadata": {},
   "outputs": [],
   "source": [
    "# # dJdo = .5 * (amiral_cls.fourier_variable[\"psd(psf)\"]/amiral_cls.fourier_variable[\"psd_model_i\"]-\n",
    "# #             (amiral_cls.fourier_variable[\"psd(psf)\"]*amiral_cls.fourier_variable[\"error2\"])/\n",
    "# #             (amiral_cls.fourier_variable[\"k_hat\"]*(amiral_cls.fourier_variable[\"psd_model_i\"]**2)))\n",
    "\n",
    "# print(psf_guess)\n",
    "\n",
    "# amiral_test = parameter.amiral(img=img, guess=psf_guess, aosys = aosys_cls, upperbound = upperbound, lowerbound= lowerbound, numerical_condition = numerical_condition, fourier_variable = amiralparam.fourier_variable, mask = mask)\n",
    "\n",
    "# fourier_cal = amiral_test.varible4criterion(psf_guess, debug = True)\n",
    "\n",
    "\n",
    "\n",
    "# dJdo = .5 * (amiral_test.fourier_variable[\"psd(psf)\"]/amiral_test.fourier_variable[\"psd_model_i\"]-\n",
    "#             (amiral_test.fourier_variable[\"psd(psf)\"]*amiral_test.fourier_variable[\"error2\"])/\n",
    "#             (amiral_test.fourier_variable[\"k_hat\"]*(amiral_test.fourier_variable[\"psd_model_i\"]**2)))"
   ]
  },
  {
   "cell_type": "code",
   "execution_count": null,
   "metadata": {},
   "outputs": [],
   "source": [
    "# amiral_test.fourier_variable[\"k_hat\"]"
   ]
  },
  {
   "cell_type": "code",
   "execution_count": null,
   "metadata": {},
   "outputs": [],
   "source": [
    "# plt.imshow(dJdo)"
   ]
  },
  {
   "cell_type": "code",
   "execution_count": null,
   "metadata": {
    "scrolled": true
   },
   "outputs": [],
   "source": [
    "# plt.imshow(np.fft.fftshift(dJdo_IDL))"
   ]
  },
  {
   "cell_type": "code",
   "execution_count": null,
   "metadata": {},
   "outputs": [],
   "source": [
    "# diff = utils.view_diff(np.fft.fftshift(dJdo_IDL),dJdo)"
   ]
  },
  {
   "cell_type": "code",
   "execution_count": null,
   "metadata": {},
   "outputs": [],
   "source": [
    "# utils.info(dJdo)"
   ]
  },
  {
   "cell_type": "code",
   "execution_count": null,
   "metadata": {},
   "outputs": [],
   "source": [
    "# np.sum(diff)\n",
    "# utils.info(diff)"
   ]
  },
  {
   "cell_type": "code",
   "execution_count": null,
   "metadata": {},
   "outputs": [],
   "source": [
    "# np.sum(dJdo)"
   ]
  },
  {
   "cell_type": "code",
   "execution_count": null,
   "metadata": {},
   "outputs": [],
   "source": [
    "# np.sum(dJdo_IDL)"
   ]
  },
  {
   "cell_type": "code",
   "execution_count": null,
   "metadata": {},
   "outputs": [],
   "source": [
    "100*((3.56459663387992e-9 - 3.5664025e-09)/3.5664025e-09)"
   ]
  },
  {
   "cell_type": "code",
   "execution_count": null,
   "metadata": {},
   "outputs": [],
   "source": [
    "# -4.9398799e+12       26422.690      -65779.984\n",
    "grad_hyper_py = [-4.94448401e+12, 2.64339184e+04, -6.58094955e+04]\n",
    "grad_hyper_IDL = [-4.9398799e+12,26422.690, -65779.984]\n",
    "\n",
    "print(100*(grad_hyper_py[0]-grad_hyper_IDL[0])/grad_hyper_IDL[0], \n",
    "      100*(grad_hyper_py[1]-grad_hyper_IDL[1])/grad_hyper_IDL[1], \n",
    "     100*(grad_hyper_py[2]-grad_hyper_IDL[2])/grad_hyper_IDL[2])"
   ]
  },
  {
   "cell_type": "code",
   "execution_count": null,
   "metadata": {},
   "outputs": [],
   "source": [
    "print(\"Numerical condition\")\n",
    "print(numerical_condition)"
   ]
  },
  {
   "cell_type": "code",
   "execution_count": null,
   "metadata": {},
   "outputs": [],
   "source": [
    "a = np.zeros((4,2))\n",
    "\n",
    "for i in range (4):\n",
    "    a[i][0] = i\n",
    "    a[i][0] = i+1"
   ]
  },
  {
   "cell_type": "code",
   "execution_count": null,
   "metadata": {},
   "outputs": [],
   "source": [
    "a"
   ]
  },
  {
   "cell_type": "code",
   "execution_count": null,
   "metadata": {},
   "outputs": [],
   "source": []
  }
 ],
 "metadata": {
  "kernelspec": {
   "display_name": "Python 3",
   "language": "python",
   "name": "python3"
  },
  "language_info": {
   "codemirror_mode": {
    "name": "ipython",
    "version": 3
   },
   "file_extension": ".py",
   "mimetype": "text/x-python",
   "name": "python",
   "nbconvert_exporter": "python",
   "pygments_lexer": "ipython3",
   "version": "3.6.12"
  }
 },
 "nbformat": 4,
 "nbformat_minor": 4
}
