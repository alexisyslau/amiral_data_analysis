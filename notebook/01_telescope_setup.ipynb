{
 "cells": [
  {
   "cell_type": "markdown",
   "metadata": {},
   "source": [
    "## Description\n",
    "\n",
    "A tutorial to give an example on how to use AMIRAL and get the esitmated object. In here, we use a simulated image of VESTA as an example.\n",
    "\n",
    "#### Package required for AMIRAL: \n",
    "- numpy\n",
    "- matplotlib\n",
    "- astropy\n",
    "- maoppy --> but I need to think how to implement it because it is being set a bit differently\n",
    "- decovbench --> \n",
    "- cython \n",
    "\n",
    "To implement the environment, import the environment from .yml file. (Check to see if it is the most-up-to-date version.)\n",
    "\n",
    "Ideas from Romain: \n",
    "- Seperate AMIRAL from the PSF model because it can allow users to decide what model they would like to use\n",
    "- For Romain's model (PSF), it is already in maoppy\n",
    "- Might consider using *args (for parameters) and * * kwargs (for keywords) \n",
    "- __call__ () to implement function call operators (see here: https://stackoverflow.com/questions/9663562/what-is-the-difference-between-init-and-call) \n",
    "\n",
    "Note that:\n",
    "- the shiftx and shifty in the aosystem is introduced because people might have different defintion of how to define a PSF (some uses a pixel but some uses 4 apparantly"
   ]
  },
  {
   "cell_type": "markdown",
   "metadata": {},
   "source": [
    "# To-Do list\n",
    "#### Clean up the notebook as there are some bugs!\n",
    "<details>\n",
    "  <summary>Click to expand!</summary>\n",
    "  \n",
    "  ## Gerenal\n",
    "  - compare my psfao code with the maoppy (psfao model)\n",
    "  - start reading the MISREAL code and see how to convert it\n",
    "  - clean up my classes, i.e. those which need to be defined into class variable (outside of __init__ )or instance variable (define in __init__, unique to that instance)\n",
    "    \n",
    "  - try to put mu to zero for now and see how the minimiser behaves \n",
    "  - grab the otf, psf and the psd from IDL output and compare with python \n",
    "  - try scipy minimiser ...\n",
    "</details>"
   ]
  },
  {
   "cell_type": "markdown",
   "metadata": {},
   "source": [
    "# Section\n",
    "<details>\n",
    "  <summary>Click to expand!</summary>\n",
    "  \n",
    "  ## Heading\n",
    "  1. [Generate a PSF](#Generate-a-PSF)\n",
    "    * [Zero Padding](#Zero-Padding)\n",
    "    * [Setting up the system](#Setting-up-the-system)\n",
    "    * [Pupil Function](#Pupil-Function)\n",
    "    \n",
    "    \n",
    "  2. [Convolution](#Convolution)\n",
    "    \n",
    "  3. [Debug](#Debug)\n",
    "    \n",
    "  3. [Minimisation](#Minimisation)\n",
    "    * [Optimpack] (#Optimpack)\n",
    "    * [SciPy] (#SciPy)\n",
    "    \n",
    "  4. [Gradient Test](#Gradient-Test)\n",
    "  \n",
    "</details>"
   ]
  },
  {
   "cell_type": "code",
   "execution_count": null,
   "metadata": {},
   "outputs": [],
   "source": [
    "# Packages required\n",
    "import numpy as np\n",
    "import matplotlib.pyplot as plt\n",
    "from matplotlib import rcParams\n",
    "from astropy.io import fits\n",
    "import os\n",
    "#Change to your path\n",
    "os.chdir(\"/Users/alau/Repo/amiral\")\n",
    "from amiral import instructment, utils, parameter, gradient, minimisation, array\n",
    "from scipy.optimize import minimize \n",
    "%matplotlib inline"
   ]
  },
  {
   "cell_type": "code",
   "execution_count": null,
   "metadata": {},
   "outputs": [],
   "source": [
    "# Global variable\n",
    "# Parameters to modify\n",
    "SEED = -1234       # Seed for random numbers generation\n",
    "FLUX = 5e8         # Object total intensity [e-]\n",
    "READ_OUT_NOISE = 10. # CCD read-out noise standard-deviation [e-]\n",
    "DATA_DIR = \"/Users/alau/IDLWorkspace/Data/Vesta_OASIS/\"\n",
    "DATA_FITS = DATA_DIR + \"2018-06-08T05_27_05.809.fits\"\n",
    "DIMENSION = 256 # Dimension of the image\n",
    "LOOP = True"
   ]
  },
  {
   "cell_type": "markdown",
   "metadata": {},
   "source": [
    "#### To-do: add a file input which defines the telescope setup!"
   ]
  },
  {
   "cell_type": "markdown",
   "metadata": {},
   "source": [
    "**Note**:\n",
    "Both ```fft``` and ```ifft``` require the origin to be in the beginning of the vector (or in a 2D case, in the top-left of the array). If the input's centred like ```kx```, its origin must be shifted to the beginning with ```ifftshift```. \n",
    "\n",
    "To undo the change after transform, just ```ifftshift``` again :) "
   ]
  },
  {
   "cell_type": "markdown",
   "metadata": {},
   "source": [
    "## Generate a PSF "
   ]
  },
  {
   "cell_type": "markdown",
   "metadata": {},
   "source": [
    "aoSystem is used to provide a serveral outputs: PSD_array, pupil function (or the pupil plane), and ? - see the IDL output first! aoSystem inherits functions and methods from telescopeSetup (so I wont need to define all parameters again). \n",
    "\n",
    "#### Zero-Padding\n",
    "\n",
    "- remember to pad before fft \n",
    "- zoom to area of interest after fft\n"
   ]
  },
  {
   "cell_type": "markdown",
   "metadata": {},
   "source": [
    "First, we need to choose an image for deconvolution. In here, we have picked the asteriods. \n",
    "\n",
    "Consider changing the true asteriod into PSF $\\circledast$ true object. \n",
    "\n",
    "#### Image formation theory\n",
    "\\begin{equation}\n",
    "I = H*O+N, \n",
    "\\end{equation}\n",
    "\n",
    "where $I$ is the image, $H$ is the PSF, $O$ is the object and $N$ is the noise.\n",
    "\n",
    "\n",
    "In the Fourier space,\n",
    "\\begin{equation}\n",
    "    \\hat{I} = \\hat{O} \\hat{H} + \\hat{N}, \n",
    "\\end{equation}\n",
    "where $\\hat{I}$, $\\hat{O}$ and $\\hat{N}$ are the Fourier transform of the image, object and noise respectively. Using the fourier space, it is easier for us to calculate the observed image, as we can take an inverse transform of $\\hat{O} \\hat{H} + \\hat{N}$. "
   ]
  },
  {
   "cell_type": "code",
   "execution_count": null,
   "metadata": {},
   "outputs": [],
   "source": [
    "fits_img = fits.open(DATA_FITS)\n",
    "fits_img.info() \n",
    "\n",
    "obj = fits_img[0].data\n",
    "obj_resize = obj\n",
    "\n",
    "obj_resize = array.scale_array(obj_resize, 4.)\n",
    "obj_resize"
   ]
  },
  {
   "cell_type": "markdown",
   "metadata": {},
   "source": [
    "Below is the object. "
   ]
  },
  {
   "cell_type": "code",
   "execution_count": null,
   "metadata": {
    "scrolled": false
   },
   "outputs": [],
   "source": [
    "fig = plt.figure()\n",
    "\n",
    "ax1 = fig.add_subplot(121)\n",
    "ax1.set_title('Original')\n",
    "ax1.imshow(obj)\n",
    "\n",
    "ax2 = fig.add_subplot(122)\n",
    "ax2.set_title('Resized')\n",
    "ax2.imshow(obj_resize)"
   ]
  },
  {
   "cell_type": "markdown",
   "metadata": {},
   "source": [
    "Also, functions will be slowly mirgating from aoSystem to class PSF because I have not found out how to pass the class yet (to-be-honest --> it should not be hard so)\n"
   ]
  },
  {
   "cell_type": "markdown",
   "metadata": {},
   "source": [
    "**Setting up the system**"
   ]
  },
  {
   "cell_type": "code",
   "execution_count": null,
   "metadata": {},
   "outputs": [],
   "source": [
    "aosys = instructment.aoSystem(wavelength = 500e-9,resolution_rad = 3.5e-8\n",
    "                              ,diameter = 7., occ_ratio = 0.1, no_acutuator = 30, dimension = DIMENSION)\n",
    "fX, fY, freqnull = aosys.psd_frequency_array(DIMENSION, aosys.samp_factor[0])"
   ]
  },
  {
   "cell_type": "code",
   "execution_count": null,
   "metadata": {},
   "outputs": [],
   "source": [
    "aosys.undersampling(0.3)"
   ]
  },
  {
   "cell_type": "code",
   "execution_count": null,
   "metadata": {},
   "outputs": [],
   "source": [
    "plt.imshow(fX**2 + fY **2)\n",
    "plt.show()"
   ]
  },
  {
   "cell_type": "markdown",
   "metadata": {},
   "source": [
    "```print(help(aosys))``` is a printing the contents of a class. \n",
    "It is always useful for us to see what are in the class."
   ]
  },
  {
   "cell_type": "code",
   "execution_count": null,
   "metadata": {},
   "outputs": [],
   "source": [
    "print(help(aosys))"
   ]
  },
  {
   "cell_type": "markdown",
   "metadata": {},
   "source": [
    "#### Pupil Function\n",
    "To get the telescope component of the PSF, we need to know the pupil function first. From the pupil function, auto-correlation function of pupil function will give you the diffraction-limited OTF."
   ]
  },
  {
   "cell_type": "code",
   "execution_count": null,
   "metadata": {},
   "outputs": [],
   "source": [
    "pupil = aosys.get_pupil_plane()\n",
    "plt.imshow(pupil)"
   ]
  },
  {
   "cell_type": "code",
   "execution_count": null,
   "metadata": {},
   "outputs": [],
   "source": [
    "# As the functions requires 2D array, for 0 phase offset, 0*pupil_plane will keep the shape\n",
    "# As you may know the whole otf is in the form of : h = h_tel + h_AO + h_shift (if we need one)\n",
    "otf_tel = aosys.pupil_to_otf_tel(pupil)\n",
    "\n",
    "fig, ax1 =  plt.subplots()\n",
    "pos = ax1.imshow(np.real(otf_tel), cmap='Reds', interpolation='none')\n",
    "fig.colorbar(pos, ax=ax1)"
   ]
  },
  {
   "cell_type": "code",
   "execution_count": null,
   "metadata": {},
   "outputs": [],
   "source": [
    "psf_tel = np.fft.fftshift(np.real(utils.ifft2D(otf_tel)))\n",
    "\n",
    "cx = len(psf_tel[0])/2\n",
    "print(cx)\n",
    "\n",
    "fig, ax1 =  plt.subplots()\n",
    "pos = ax1.imshow(np.log10(psf_tel[256-80:256+80,256-80:256+80]), interpolation='none')\n",
    "fig.colorbar(pos, ax=ax1)"
   ]
  },
  {
   "cell_type": "code",
   "execution_count": null,
   "metadata": {},
   "outputs": [],
   "source": [
    "# Plotting the PSD of turbulent region (not corrected by the AO)\n",
    "psd_halo = aosys.psd_residual_halo(r0=0.15)\n",
    "\n",
    "fig, ax1 =  plt.subplots()\n",
    "pos = ax1.imshow(np.log10(psd_halo), interpolation='none')\n",
    "fig.colorbar(pos, ax=ax1)"
   ]
  },
  {
   "cell_type": "markdown",
   "metadata": {},
   "source": [
    "#### Power Spectral Density (PSD)\n",
    "\n",
    "Roddier1981 and Goodman1968 show that phase PSD consists of all information for describing our PSF.\n",
    "\n",
    "In here, we seperated the PSD into 2 components: \n",
    "- $f <= f_{AO}$\n",
    "- $f > f_{AO}$\n",
    "\n",
    "$f_{AO}$ is the AO spatial cutoff frequency, which is the maximum spatial frequency of the phase to be corrected by the AO system.\n",
    "\n",
    "To get the whole PSD, we need to combine those 2 components such that: \n",
    "\n",
    "\\begin{equation}\n",
    "    PSD_{total} = PSD_{AO} + PSD_{halo},\n",
    "\\end{equation}\n",
    "\n",
    "where $PSD_{AO}$ describes AO-corrected frequencies regions and $PSD_{halo}$ refers to AO-uncorrected frequencies regions. \n",
    "\n",
    "#### PSD halo (AO-uncorrected region)\n",
    "\n",
    "The uncorrected area is not modified by the AO system, hence, it follows the Kolmogorov law, \n",
    "\n",
    "\\begin{equation}\n",
    "    W_{\\phi, Kolmo} (f) = 0.023r_0^{-5/3}f^{-11/3},\n",
    "\\end{equation}\n",
    "\n",
    "where $f > f_{AO}$ and $r_0$ is the Fried parameter. We call this component $PSD_{halo}$ and it is **only** set by the knowledge of **Fried parameter**.\n",
    "\n",
    "#### PSD AO (AO-corrected region)\n",
    "\n",
    "Based on the moffat function, we are able to parameterise the AO-corrected PSD as:\n",
    "\\begin{equation}\n",
    "    W_\\phi(f) = \\frac{\\beta - 1}{\\pi \\alpha_x \\alpha_y} \\frac{M_A(f_x,f_y)}{1-(1+\\frac{f_{AO}^2}{\\alpha_x \\alpha_y})^{1-\\beta}}+ C, \n",
    "\\end{equation}\n",
    "where $f <= f_{AO}$, (description for parameters). "
   ]
  },
  {
   "cell_type": "code",
   "execution_count": null,
   "metadata": {},
   "outputs": [],
   "source": [
    "# Input parameter so we can have the moffat PSD\n",
    "# param = [r0,bck,sig2,alpha,beta,theta,dx,dy]"
   ]
  },
  {
   "cell_type": "markdown",
   "metadata": {},
   "source": [
    "## PSF parameter\n",
    "PSF model is now made of a set of 7 parameters: {$\\alpha_x,\\alpha_y, \\beta, \\theta_R, C, r_0, A$}. (description for parameters)\n",
    "\n",
    "In here, we consider **symmetric** case by setting $\\alpha_x = \\alpha_y$ and $\\theta_R = 0$. Once the PSD and OTF of the telescopes are calculated, we get the PSF using: \n",
    "\\begin{equation}\n",
    "    h(\\rho / \\lambda) = \\mathcal{F}^{-1} {h...}.\n",
    "\\end{equation}\n",
    "(description of terms). "
   ]
  },
  {
   "cell_type": "code",
   "execution_count": null,
   "metadata": {},
   "outputs": [],
   "source": [
    "# To-do: compare this with the maoppy results\n",
    "param= {\n",
    "    \"r0\": 0.01,                  \n",
    "    \"background\": 1e-10 ,      \n",
    "    \"amplitude\": 3.0,       \n",
    "    \"ax\": 0.05,                            \n",
    "    \"beta\": 1.5,\n",
    "    \"mu\": 1., \n",
    "    \"rho0\": 1., \n",
    "    \"p\": 1.\n",
    "}\n",
    "# IDL: moff[2,3] = a_x, a_y (which is not tested in the testing script)"
   ]
  },
  {
   "cell_type": "code",
   "execution_count": null,
   "metadata": {},
   "outputs": [],
   "source": [
    "param_key, param_input = utils.dict2array(param)\n",
    "psd_ao = aosys.psd_residual_ao (guess = param_input)"
   ]
  },
  {
   "cell_type": "code",
   "execution_count": null,
   "metadata": {},
   "outputs": [],
   "source": [
    "# Plotting the PSD of AO region\n",
    "fig, ax1 =  plt.subplots()\n",
    "pos = ax1.imshow(np.log10(psd_ao), interpolation='none')\n",
    "fig.colorbar(pos, ax=ax1)"
   ]
  },
  {
   "cell_type": "code",
   "execution_count": null,
   "metadata": {},
   "outputs": [],
   "source": [
    "# Plotting the whole PSD \n",
    "psd = psd_halo + psd_ao \n",
    "\n",
    "fig, ax1 =  plt.subplots()\n",
    "pos = ax1.imshow(np.log10(psd), interpolation='none')\n",
    "fig.colorbar(pos, ax=ax1)"
   ]
  },
  {
   "cell_type": "markdown",
   "metadata": {},
   "source": [
    "#### SR\n",
    "SR is defined ..."
   ]
  },
  {
   "cell_type": "code",
   "execution_count": null,
   "metadata": {},
   "outputs": [],
   "source": [
    "# Outputing the SR and the integral of PSD\n",
    "integral, SR = aosys.psd_integral(psd, r0=param[\"r0\"])"
   ]
  },
  {
   "cell_type": "code",
   "execution_count": null,
   "metadata": {
    "scrolled": true
   },
   "outputs": [],
   "source": [
    "otf_atmo = aosys.otf_atmo(psd)\n",
    "plt.imshow(otf_atmo)\n",
    "\n",
    "print(otf_atmo.shape)"
   ]
  },
  {
   "cell_type": "code",
   "execution_count": null,
   "metadata": {},
   "outputs": [],
   "source": [
    "print(otf_tel.shape)\n",
    "\n",
    "\n",
    "otf_total = aosys.otf_total(otf_tel, otf_atmo)"
   ]
  },
  {
   "cell_type": "code",
   "execution_count": null,
   "metadata": {},
   "outputs": [],
   "source": [
    "psf_total = np.fft.fftshift(np.real(utils.ifft2D(otf_total)))\n",
    "print(np.min(psf_total))\n",
    "\n",
    "\n",
    "fig, ax =  plt.subplots(1,2)\n",
    "fig.tight_layout()\n",
    "pos = ax[0].imshow(np.log10(psf_total),vmin=-10)\n",
    "ax[0].set_title('PSF total')\n",
    "fig.colorbar(pos, ax=ax[0])\n",
    "\n",
    "pos1 = ax[1].imshow(np.log10(psf_tel), vmin=-10)\n",
    "ax[1].set_title('PSF telescope')\n",
    "fig.colorbar(pos1, ax=ax[1])\n",
    "\n",
    "plt.subplots_adjust(hspace=0.5)\n",
    "plt.savefig(\"demo.png\", dpi = 300)\n",
    "plt.show()\n",
    "# Need to look into - > Calculate the Strehl ratio (ratio of the max of 2 psfs)"
   ]
  },
  {
   "cell_type": "code",
   "execution_count": null,
   "metadata": {},
   "outputs": [],
   "source": [
    "plt.imshow(np.log10(psf_total),vmin=-10, cmap = 'gray')"
   ]
  },
  {
   "cell_type": "markdown",
   "metadata": {},
   "source": [
    "Since we have normalised the OTF and the PSF, the sum of PSF should be 1. and the maximum of the OTF should equal to 1. We can clearly see this when we plot the x-axis cut of the OTF. "
   ]
  },
  {
   "cell_type": "code",
   "execution_count": null,
   "metadata": {},
   "outputs": [],
   "source": [
    "print(\"\\nSum of the PSF (which should be excatly 1.)\", np.sum(np.abs(psf_total)))\n",
    "print(\"\\nMax of the otf_atmo: (which should be excatly 1.)\", np.max(otf_atmo))\n",
    "print(\"\\nMax of the otf_tel: (which should be excatly 1.)\", np.max(otf_tel))\n",
    "print(\"\\nMax of the OTF (which should be excatly 1.)\", np.max(otf_total))"
   ]
  },
  {
   "cell_type": "code",
   "execution_count": null,
   "metadata": {},
   "outputs": [],
   "source": [
    "# Strehl's ratio\n",
    "\n",
    "psf_diffraction = aosys.psfao(otf_tel)\n",
    "plt.imshow(np.log10(psf_diffraction))\n",
    "\n",
    "print(\"\\nSR (PSF ratio): \", np.max(psf_total)/ np.max(psf_diffraction))\n",
    "print(\"\\nSR from the integral: \", SR)"
   ]
  },
  {
   "cell_type": "code",
   "execution_count": null,
   "metadata": {},
   "outputs": [],
   "source": [
    "rcParams['figure.figsize'] = 13 ,11\n",
    "fig, ax = plt.subplots(1,3)\n",
    "fig.tight_layout(pad=0.4, w_pad=0.6, h_pad=4.0)\n",
    "\n",
    "ycent = int((DIMENSION*aosys.samp_factor[0])//2)\n",
    "\n",
    "print(ycent)\n",
    "ax[0].plot(np.abs(otf_total[ycent,...]))\n",
    "ax[0].set_title('OTF(total)')\n",
    "ax[0].axhline(y=1, color = 'r', ls = '--')\n",
    "\n",
    "ax[1].plot(np.abs(otf_tel)[ycent, :])\n",
    "ax[1].set_title('OTF(telescope)')\n",
    "ax[1].axhline(y=1, color = 'r', ls = '--')\n",
    "\n",
    "ax[2].plot(otf_atmo[ycent, :])\n",
    "ax[2].set_title('OTF(atmosphere)')\n",
    "ax[2].axhline(y=1, color = 'r', ls = '--')"
   ]
  },
  {
   "cell_type": "code",
   "execution_count": null,
   "metadata": {},
   "outputs": [],
   "source": [
    "# For testing amiral script --> im = poidev(convolve(obj,psf)) + RON*randomn(SEED,Npix,Npix)\n",
    "# which poidev is for generating poisson random deviate"
   ]
  },
  {
   "cell_type": "markdown",
   "metadata": {},
   "source": [
    "## Convolution\n",
    "Since we are using the true object in here, we need to convolve it with a PSF and add some noise before deconvolution. \n",
    "\n",
    "In here, we should adapt **same** formula and values from the IDL version. \n",
    "\n",
    "\n",
    "In IDL: \n",
    "\n",
    "symmetric: r0[m], bck sig2, alpha, beta \n",
    "\n",
    "non-sym: r0[m], bck sig2, alpha (x,y), theta, beta "
   ]
  },
  {
   "cell_type": "code",
   "execution_count": null,
   "metadata": {},
   "outputs": [],
   "source": [
    "aosys_dict = {\n",
    "    'diameter': 7 , \n",
    "    'occ_ratio': 0.1 , \n",
    "    'no_acutuator' : 30, \n",
    "    'wavelength': 500, \n",
    "    'dimension': 256,\n",
    "    'resolution_rad' : 3.5e-8 \n",
    "}\n",
    "\n",
    "aosys = instructment.aoSystem( \n",
    "        diameter = aosys_dict['diameter'], occ_ratio = aosys_dict['occ_ratio'], \n",
    "        no_acutuator= aosys_dict['no_acutuator'], wavelength = aosys_dict['wavelength']*1e-9, \n",
    "        resolution_rad = aosys_dict['resolution_rad'], \n",
    "        dimension=aosys_dict['dimension']) "
   ]
  },
  {
   "cell_type": "code",
   "execution_count": null,
   "metadata": {},
   "outputs": [],
   "source": [
    "amiral_guess = {\n",
    "    \"r0\": 0.2,                  \n",
    "    \"background\": 1.5e-10 ,      \n",
    "    \"amplitude\": 2.1,       \n",
    "    \"ax\": 0.05,                            \n",
    "    \"beta\": 1.5, \n",
    "    \"mu\": 0., \n",
    "    \"rho0\": 0., \n",
    "    \"p\": 0. \n",
    "}"
   ]
  },
  {
   "cell_type": "code",
   "execution_count": null,
   "metadata": {},
   "outputs": [],
   "source": [
    "fits_img = fits.open(\"/Users/alau/Data/amiral_fits/image_noise_1.fits\")\n",
    "fits_img.info() \n",
    "\n",
    "conv_image = fits_img[0].data "
   ]
  },
  {
   "cell_type": "markdown",
   "metadata": {},
   "source": [
    "## AMIRAL\n",
    "In here, we start the main part of the amiral!\n",
    "\n",
    "What you need for amiral: \n",
    "1. image you would like to process\n",
    "2. PSF parameters and hyperparameters \n",
    "3. Bound for the PSF param and hyper param\n",
    "\n",
    "We would like to fix some parameters: r0, amplitude, mu and rho0"
   ]
  },
  {
   "cell_type": "code",
   "execution_count": null,
   "metadata": {},
   "outputs": [],
   "source": [
    "psf_param, psf_guess = utils.dict2array(amiral_guess)\n",
    "\n",
    "amiralparam = parameter.amiralParam(img=conv_image, guess = psf_guess, aosys = aosys)\n",
    "\n",
    "hyper_guess = amiralparam.hyperparam_initial(psf_guess, debug = True)\n",
    "hyper_min, hyper_max = amiralparam.hyperparam_bound(psf_guess, p_upperbound = 100., debug = True)\n",
    "\n",
    "psf_guess[-3] = hyper_guess[0]\n",
    "psf_guess[-2] = hyper_guess[1]\n",
    "psf_guess[-1] = hyper_guess[2]\n",
    "\n",
    "param_min = np.asarray([0.01,0,0,1e-8,1.01])\n",
    "param_max =  np.asarray([0.99,1e8,1e8,1e3,10])\n",
    "\n",
    "upperbound = np.concatenate((param_max, hyper_max))\n",
    "lowerbound = np.concatenate((param_min, hyper_min))\n",
    "\n",
    "param_numerical_condition = np.array([1., 1e-4, 1., 1., 1.])\n",
    "hyperparam_numerical_condition = np.array([hyper_guess[0], hyper_guess[1], 1.])\n",
    "\n",
    "numerical_condition = np.concatenate((param_numerical_condition, hyperparam_numerical_condition))\n",
    "\n",
    "\n",
    "# Note that I tried Boolean mask but it doesnt work ...\n",
    "param_mask = np.array([1, 0, 1, 0, 0])\n",
    "hyper_param_mask = np.array([1, 0, 0])\n",
    "\n",
    "mask = np.concatenate((param_mask,hyper_param_mask))\n",
    "\n",
    "#psf_guess = np.concatenate((psf_guess, hyper_guess))\n",
    "\n",
    "amiral_cls = parameter.amiral(img=amiralparam.img, guess=psf_guess, aosys = aosys, upperbound = upperbound, lowerbound= lowerbound, numerical_condition = numerical_condition, fourier_variable = amiralparam.fourier_variable, mask = mask)\n",
    "\n",
    "plt.imshow(amiral_cls.img[256-128:256+128, 256-128:256+128], cmap='gray')"
   ]
  },
  {
   "cell_type": "markdown",
   "metadata": {},
   "source": [
    "parameter.amrial() is the child class of amiralParam. The intention of the having a parent class is for the methods for checking the parameter input. \n",
    "\n",
    "Here we set the initial condition for the amiral. "
   ]
  },
  {
   "cell_type": "markdown",
   "metadata": {},
   "source": [
    "#### Testing the numerical condition\n",
    "\n",
    "So we are aware that numerical condition exists and the minimiser is not working so far ... Is it due to the numerical conditioning? \n",
    "\n",
    "Let us find out!"
   ]
  },
  {
   "cell_type": "code",
   "execution_count": null,
   "metadata": {},
   "outputs": [],
   "source": [
    "print(psf_guess)\n",
    "amiral_cls.varible4criterion(psf_guess)\n",
    "amiral_cls.gradient(psf_guess)"
   ]
  },
  {
   "cell_type": "code",
   "execution_count": null,
   "metadata": {},
   "outputs": [],
   "source": [
    "est_criterion, value_criterion, value_grad = amiral_cls.minimisation(psf_guess)"
   ]
  },
  {
   "cell_type": "code",
   "execution_count": null,
   "metadata": {
    "scrolled": true
   },
   "outputs": [],
   "source": [
    "print(est_criterion)"
   ]
  },
  {
   "cell_type": "code",
   "execution_count": null,
   "metadata": {},
   "outputs": [],
   "source": [
    "# print(psf_guess)"
   ]
  },
  {
   "cell_type": "code",
   "execution_count": null,
   "metadata": {},
   "outputs": [],
   "source": [
    "est_criterion, value_criterion, value_grad = amiral_cls.minimisation(est_criterion)"
   ]
  },
  {
   "cell_type": "code",
   "execution_count": null,
   "metadata": {},
   "outputs": [],
   "source": [
    "print(est_criterion)"
   ]
  },
  {
   "cell_type": "code",
   "execution_count": null,
   "metadata": {},
   "outputs": [],
   "source": [
    "# gradient_otf = aosys.gradient(psf_guess)"
   ]
  },
  {
   "cell_type": "markdown",
   "metadata": {},
   "source": [
    "#### Critrtion map\n",
    "\n",
    "Aim is to reproduce what has been plotted in the deconvolution paper. "
   ]
  },
  {
   "cell_type": "code",
   "execution_count": null,
   "metadata": {},
   "outputs": [],
   "source": [
    "# mu, rho0, p = amiral.hyperparam_initial(psf_guess)\n",
    "\n",
    "# psf_guess[-3] = mu\n",
    "# psf_guess[-2] = rho0 \n",
    "# psf_guess[-1] = p\n",
    "\n",
    "# print(\"\\nInitial Hyperparameter:\", mu, rho0, p)\n",
    "    \n",
    "# from scipy.optimize import Bounds \n",
    "    \n",
    "# bounds = Bounds(ub = upperbound, lb = lowerbound)\n",
    "# numeric_param = minimisation.param_physical2numerical(psf_guess, numerical_condition)\n",
    "# res = minimize(amiral.marg_criterion, numeric_param, bounds = bounds)"
   ]
  },
  {
   "cell_type": "code",
   "execution_count": null,
   "metadata": {},
   "outputs": [],
   "source": [
    "# print(res.x*numerical_condition)"
   ]
  },
  {
   "cell_type": "code",
   "execution_count": null,
   "metadata": {},
   "outputs": [],
   "source": [
    "# psf_guess-res.x"
   ]
  },
  {
   "cell_type": "code",
   "execution_count": null,
   "metadata": {},
   "outputs": [],
   "source": [
    "fwhm = 5\n",
    "\n",
    "sigma = fwhm / (2. * np.sqrt(2*np.log(2)))\n",
    "print(sigma)\n",
    "\n",
    "lin = np.linspace(-0.5, 0.5, 256)\n",
    "xx, yy = np.meshgrid(lin, lin)\n",
    "gauss = (1/(2*np.pi * sigma **2)) * np.exp(-(np.square(xx) + np.square(yy)) / (2.*sigma**2))\n",
    "\n",
    "plt.plot(gauss[128,:])\n",
    "\n",
    "\n",
    "\n",
    "\n"
   ]
  },
  {
   "cell_type": "code",
   "execution_count": null,
   "metadata": {},
   "outputs": [],
   "source": [
    "gauss = utils.scale_array(gauss,2)\n",
    "ft_gauss = np.fft.fftshift(np.fft.fft2(np.fft.ifftshift(gauss)))"
   ]
  },
  {
   "cell_type": "code",
   "execution_count": null,
   "metadata": {},
   "outputs": [],
   "source": [
    "plt.imshow(np.real((ft_gauss))[256-20:256+20,256-20:256+20])"
   ]
  },
  {
   "cell_type": "code",
   "execution_count": null,
   "metadata": {},
   "outputs": [],
   "source": [
    "plt.plot(gauss[128,:])"
   ]
  },
  {
   "cell_type": "code",
   "execution_count": null,
   "metadata": {},
   "outputs": [],
   "source": [
    "from scipy import signal\n",
    "test_dirac = 3*np.random.randn(512,512)+FLUX\n",
    "\n",
    "\n",
    "\n",
    "test_impusle = signal.unit_impulse((512, 512), 'mid')*FLUX\n",
    "\n",
    "ft_test_impusle = np.fft.fft2(test_impusle)\n",
    "\n",
    "plt.imshow(test_impusle)\n",
    "\n",
    "print(np.sum(test_impusle))"
   ]
  },
  {
   "cell_type": "code",
   "execution_count": null,
   "metadata": {},
   "outputs": [],
   "source": [
    "ft_gauss = np.fft.fft2(gauss)\n",
    "\n",
    "\n",
    "plt.imshow(np.abs(ft_gauss))"
   ]
  },
  {
   "cell_type": "code",
   "execution_count": null,
   "metadata": {},
   "outputs": [],
   "source": [
    "star = np.fft.fftshift(np.fft.ifft2(otf_total*ft_test_impusle))\n",
    "\n",
    "plt.imshow(np.log10(np.real(star[256-50:256+50,256-50:256+50])))\n",
    "\n",
    "\n",
    "utils.info(star)\n",
    "np.sum(np.real(star))"
   ]
  },
  {
   "cell_type": "code",
   "execution_count": null,
   "metadata": {},
   "outputs": [],
   "source": [
    "from scipy.optimize import Bounds \n",
    "\n",
    "bounds = Bounds(ub = upperbound, lb = lowerbound)\n",
    "numeric_param = minimisation.param_physical2numerical(test, amiral_cls.numerical_condition)\n",
    "res = minimize(amiral_cls.marg_criterion, numeric_param, bounds = bounds)\n",
    "\n"
   ]
  },
  {
   "cell_type": "code",
   "execution_count": null,
   "metadata": {},
   "outputs": [],
   "source": [
    "print(res.x)"
   ]
  },
  {
   "cell_type": "code",
   "execution_count": null,
   "metadata": {},
   "outputs": [],
   "source": []
  }
 ],
 "metadata": {
  "kernelspec": {
   "display_name": "Python 3",
   "language": "python",
   "name": "python3"
  },
  "language_info": {
   "codemirror_mode": {
    "name": "ipython",
    "version": 3
   },
   "file_extension": ".py",
   "mimetype": "text/x-python",
   "name": "python",
   "nbconvert_exporter": "python",
   "pygments_lexer": "ipython3",
   "version": "3.6.12"
  }
 },
 "nbformat": 4,
 "nbformat_minor": 2
}
